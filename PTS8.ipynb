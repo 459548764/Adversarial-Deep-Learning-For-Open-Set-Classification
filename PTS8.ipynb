{
  "nbformat": 4,
  "nbformat_minor": 0,
  "metadata": {
    "colab": {
      "name": "Ahmed.ipynb",
      "version": "0.3.2",
      "views": {},
      "default_view": {},
      "provenance": [],
      "collapsed_sections": [
        "4BbDwnvH-ACc",
        "wHvV48nv-Pjh",
        "UPW16Sk1WlmG",
        "RyXoD6z4-lHr",
        "Ql2uJ4u0-03B",
        "WNjjTeVvOb3S",
        "s_lCLlWe8mh6",
        "89EK28dD56wz",
        "W8vfGs2JEYcw"
      ]
    },
    "kernelspec": {
      "name": "python2",
      "display_name": "Python 2"
    },
    "accelerator": "GPU"
  },
  "cells": [
    {
      "metadata": {
        "id": "zpUx7JRxoo8B",
        "colab_type": "toc"
      },
      "cell_type": "markdown",
      "source": [
        ">[GPU](#scrollTo=4BbDwnvH-ACc)\n",
        "\n",
        ">[Import](#scrollTo=wHvV48nv-Pjh)\n",
        "\n",
        ">[RBF](#scrollTo=UPW16Sk1WlmG)\n",
        "\n",
        ">[Load MNIST](#scrollTo=RyXoD6z4-lHr)\n",
        "\n",
        ">[GAN Convolution](#scrollTo=Ql2uJ4u0-03B)\n",
        "\n",
        ">[GAN Dense](#scrollTo=WNjjTeVvOb3S)\n",
        "\n",
        ">[Save Images](#scrollTo=s_lCLlWe8mh6)\n",
        "\n",
        ">[Good examples](#scrollTo=89EK28dD56wz)\n",
        "\n",
        ">[base rejector](#scrollTo=W8vfGs2JEYcw)\n",
        "\n",
        ">[rejector](#scrollTo=79fzKlLm2HA4)\n",
        "\n",
        ">[Classifior](#scrollTo=4tq3NQbiaxDn)\n",
        "\n"
      ]
    },
    {
      "metadata": {
        "id": "4BbDwnvH-ACc",
        "colab_type": "text"
      },
      "cell_type": "markdown",
      "source": [
        "# GPU"
      ]
    },
    {
      "metadata": {
        "id": "KN4C17P2-Fnk",
        "colab_type": "code",
        "colab": {
          "autoexec": {
            "startup": false,
            "wait_interval": 0
          },
          "base_uri": "https://localhost:8080/",
          "height": 34
        },
        "cellView": "code",
        "outputId": "1075ef36-9404-444f-dcad-4772fe27eedd",
        "executionInfo": {
          "status": "ok",
          "timestamp": 1526407043921,
          "user_tz": -120,
          "elapsed": 8178,
          "user": {
            "displayName": "nourhene chaalia",
            "photoUrl": "https://lh3.googleusercontent.com/a/default-user=s128",
            "userId": "100626486300945214800"
          }
        }
      },
      "cell_type": "code",
      "source": [
        "#@title Titre par défaut\n",
        "import numpy as np\n",
        "np.random.seed(1000)\n",
        "\n",
        "\n",
        "import tensorflow as tf\n",
        "device_name = tf.test.gpu_device_name()\n",
        "if device_name != '/device:GPU:0':\n",
        "  raise SystemError('GPU device not found')\n",
        "print('Found GPU at: {}'.format(device_name))\n",
        "\n",
        "\n",
        "import tensorflow as tf\n",
        "import timeit"
      ],
      "execution_count": 1,
      "outputs": [
        {
          "output_type": "stream",
          "text": [
            "Found GPU at: /device:GPU:0\n"
          ],
          "name": "stdout"
        }
      ]
    },
    {
      "metadata": {
        "id": "wHvV48nv-Pjh",
        "colab_type": "text"
      },
      "cell_type": "markdown",
      "source": [
        "# Import"
      ]
    },
    {
      "metadata": {
        "id": "3Dv9W8du9lSG",
        "colab_type": "code",
        "colab": {
          "autoexec": {
            "startup": false,
            "wait_interval": 0
          },
          "base_uri": "https://localhost:8080/",
          "height": 34
        },
        "cellView": "code",
        "outputId": "5af4e34c-42df-4941-caba-f31e05a33fcd",
        "executionInfo": {
          "status": "ok",
          "timestamp": 1526407053026,
          "user_tz": -120,
          "elapsed": 4739,
          "user": {
            "displayName": "nourhene chaalia",
            "photoUrl": "https://lh3.googleusercontent.com/a/default-user=s128",
            "userId": "100626486300945214800"
          }
        }
      },
      "cell_type": "code",
      "source": [
        "#@title Titre par défaut\n",
        "import numpy as np\n",
        "np.random.seed(1000)\n",
        "import tensorflow as tf\n",
        "import timeit\n",
        "# https://keras.io/\n",
        "!pip install -q keras\n",
        "import keras\n",
        "\n",
        "!pip install -q tqdm\n",
        "import tqdm"
      ],
      "execution_count": 2,
      "outputs": [
        {
          "output_type": "stream",
          "text": [
            "Using TensorFlow backend.\n"
          ],
          "name": "stderr"
        }
      ]
    },
    {
      "metadata": {
        "id": "G3DYHB4b9yFB",
        "colab_type": "code",
        "colab": {
          "autoexec": {
            "startup": false,
            "wait_interval": 0
          }
        }
      },
      "cell_type": "code",
      "source": [
        "import os\n",
        "os.environ[\"KERAS_BACKEND\"] = \"tensorflow\"\n",
        "import numpy as np\n",
        "from tqdm import tqdm\n",
        "import matplotlib.pyplot as plt\n",
        "from keras.optimizers import Adam, Adagrad\n",
        "import numpy as np\n",
        "from tqdm import tqdm\n",
        "import matplotlib.pyplot as plt\n",
        "\n",
        "from tqdm import tqdm\n",
        "tqdm.monitor_interval = 0\n",
        "\n",
        "from keras.layers import Input\n",
        "from keras.models import Model, Sequential\n",
        "from keras.layers.core import Reshape, Dense, Dropout, Flatten\n",
        "from keras.layers.advanced_activations import LeakyReLU\n",
        "from keras.layers.convolutional import Conv2D, UpSampling2D, MaxPooling2D\n",
        "from keras.datasets import mnist\n",
        "from keras.optimizers import Adam, Adagrad\n",
        "from keras import backend as K\n",
        "from keras import initializers\n",
        "from keras.utils import np_utils\n",
        "\n",
        "from keras.layers import Input\n",
        "from keras.models import Model, Sequential\n",
        "from keras.layers.core import Reshape, Dense, Dropout, Flatten\n",
        "from keras.layers.advanced_activations import LeakyReLU\n",
        "from keras.layers.convolutional import Convolution2D, UpSampling2D\n",
        "from keras.layers.normalization import BatchNormalization\n",
        "from keras.datasets import mnist\n",
        "from keras.optimizers import Adam\n",
        "from keras import backend as K\n",
        "from keras import initializers\n",
        "\n",
        "K.set_image_dim_ordering('th')\n",
        "\n",
        "# Deterministic output.\n",
        "# Tired of seeing the same results every time? Remove the line below.\n",
        "np.random.seed(1000)\n",
        "\n",
        "# The results are a little better when the dimensionality of the random vector is only 10.\n",
        "# The dimensionality has been left at 100 for consistency with other GAN implementations.\n",
        "randomDim = 100\n",
        "K.set_image_dim_ordering('th')\n",
        "\n",
        "# Deterministic output.\n",
        "# Tired of seeing the same results every time? Remove the line below.\n",
        "\n",
        "# The results are a little better when the dimensionality of the random vector is only 10.\n",
        "# The dimensionality has been left at 100 for consistency with other GAN implementations.\n",
        "randomDim = 100\n"
      ],
      "execution_count": 0,
      "outputs": []
    },
    {
      "metadata": {
        "id": "UPW16Sk1WlmG",
        "colab_type": "text"
      },
      "cell_type": "markdown",
      "source": [
        "# RBF"
      ]
    },
    {
      "metadata": {
        "id": "3sQIN1OuWoKL",
        "colab_type": "code",
        "colab": {
          "autoexec": {
            "startup": false,
            "wait_interval": 0
          }
        }
      },
      "cell_type": "code",
      "source": [
        "from keras.engine import InputSpec, Layer\n",
        "from keras.legacy import interfaces\n",
        "#@title COUCHES RBF\n",
        "###________TROIS CLASSES POUR IMPLEMENTER DES COUCHES RBF________###\n",
        "\n",
        "class RBFLayer(Layer):\n",
        "    def __init__(self, alpha=1000.0, alpha_initializer='zeros',\n",
        "                 alpha_regularizer=None,\n",
        "                 alpha_constraint=None, \n",
        "                 **kwargs):\n",
        "        super(RBFLayer, self).__init__(**kwargs)\n",
        "        self.supports_masking = True\n",
        "        self.supports_masking = True\n",
        "        self.alpha_initializer = keras.initializers.Constant(value=1000.0)\n",
        "        self.alpha_regularizer = regularizers.get(alpha_regularizer)\n",
        "        self.alpha_constraint = constraints.get(alpha_constraint)\n",
        "        self.alpha = self.add_weight(shape=(1,),\n",
        "                                     name='alpha',\n",
        "                                     initializer=self.alpha_initializer,\n",
        "                                     regularizer=self.alpha_regularizer,\n",
        "                                     constraint=self.alpha_constraint)\n",
        "        self.trainable = False\n",
        "\n",
        "    def call(self, inputs):\n",
        "        y = - inputs / self.alpha[0]\n",
        "        y = keras.backend.exp(y)\n",
        "        return y\n",
        "\n",
        "    def get_config(self):\n",
        "        config = {\n",
        "            'alpha_initializer': initializers.serialize(self.alpha_initializer),\n",
        "            'alpha_regularizer': regularizers.serialize(self.alpha_regularizer),\n",
        "            'alpha_constraint': constraints.serialize(self.alpha_constraint),\n",
        "            'shared_axes': self.shared_axes\n",
        "        }\n",
        "        base_config = super(RBFLayer, self).get_config()\n",
        "        return dict(list(base_config.items()) + list(config.items()))\n",
        "\n",
        "    def compute_output_shape(self, input_shape):\n",
        "        return input_shape\n",
        "\n",
        "class RBF(Layer):\n",
        "    @interfaces.legacy_dense_support\n",
        "    def __init__(self, units,\n",
        "                 activation=None,\n",
        "                 use_bias=False,\n",
        "                 kernel_initializer='TruncatedNormal',\n",
        "                 bias_initializer='zeros',\n",
        "                 kernel_regularizer=None,\n",
        "                 bias_regularizer=None,\n",
        "                 activity_regularizer=None,\n",
        "                 kernel_constraint=None,\n",
        "                 bias_constraint=None,\n",
        "                 sigma = 1000.0,\n",
        "                 **kwargs):\n",
        "        if 'input_shape' not in kwargs and 'input_dim' in kwargs:\n",
        "            kwargs['input_shape'] = (kwargs.pop('input_dim'),)\n",
        "        super(RBF, self).__init__(**kwargs)\n",
        "        self.units = units\n",
        "        self.activation = activations.get(activation)\n",
        "        self.use_bias = use_bias\n",
        "        self.kernel_initializer = initializers.get(kernel_initializer)\n",
        "        self.bias_initializer = initializers.get(bias_initializer)\n",
        "        self.kernel_regularizer = regularizers.get(kernel_regularizer)\n",
        "        self.bias_regularizer = regularizers.get(bias_regularizer)\n",
        "        self.activity_regularizer = regularizers.get(activity_regularizer)\n",
        "        self.kernel_constraint = constraints.get(kernel_constraint)\n",
        "        self.bias_constraint = constraints.get(bias_constraint)\n",
        "        self.sigma = sigma\n",
        "        self.input_spec = InputSpec(min_ndim=2)\n",
        "        self.supports_masking = True\n",
        "\n",
        "    def build(self, input_shape):\n",
        "        assert len(input_shape) >= 2\n",
        "        input_dim = input_shape[-1]\n",
        "\n",
        "        self.kernel = self.add_weight(shape=(input_dim, self.units),\n",
        "                                      initializer=self.kernel_initializer,\n",
        "                                      name='kernel',\n",
        "                                      regularizer=self.kernel_regularizer,\n",
        "                                      constraint=self.kernel_constraint)\n",
        "        if self.use_bias:\n",
        "            self.bias = self.add_weight(shape=(self.units,),\n",
        "                                        initializer=self.bias_initializer,\n",
        "                                        name='bias',\n",
        "                                        regularizer=self.bias_regularizer,\n",
        "                                        constraint=self.bias_constraint)\n",
        "        else:\n",
        "            self.bias = None\n",
        "        self.input_spec = InputSpec(min_ndim=2, axes={-1: input_dim})\n",
        "        self.built = True\n",
        "\n",
        "    def call(self, inputs):\n",
        "        norm_x = K.transpose(K.sum(inputs * inputs , axis=1))\n",
        "        norm_w = K.sum(self.kernel *self.kernel , axis=0)\n",
        "        norm_x = keras.backend.expand_dims(norm_x, axis=-1)\n",
        "        prod_scal = -2 * K.dot(inputs, self.kernel)\n",
        "        print (\"Shapes : \", norm_x.shape, norm_w.shape, prod_scal.shape) \n",
        "        a = tf.add(norm_x, prod_scal) # -2 *  prod_scal)\n",
        "        y = tf.add(a, norm_w )\n",
        "        y = - y / self.sigma\n",
        "        y = keras.backend.exp(y)\n",
        "        return y\n",
        "\n",
        "    def compute_output_shape(self, input_shape):\n",
        "        assert input_shape and len(input_shape) >= 2\n",
        "        assert input_shape[-1]\n",
        "        output_shape = list(input_shape)\n",
        "        output_shape[-1] = self.units\n",
        "        return tuple(output_shape)\n",
        "\n",
        "    def get_config(self):\n",
        "        config = {\n",
        "            'units': self.units,\n",
        "            'activation': activations.serialize(self.activation),\n",
        "            'use_bias': self.use_bias,\n",
        "            'kernel_initializer': initializers.serialize(self.kernel_initializer),\n",
        "            'bias_initializer': initializers.serialize(self.bias_initializer),\n",
        "            'kernel_regularizer': regularizers.serialize(self.kernel_regularizer),\n",
        "            'bias_regularizer': regularizers.serialize(self.bias_regularizer),\n",
        "            'activity_regularizer': regularizers.serialize(self.activity_regularizer),\n",
        "            'kernel_constraint': constraints.serialize(self.kernel_constraint),\n",
        "            'bias_constraint': constraints.serialize(self.bias_constraint)\n",
        "        }\n",
        "        base_config = super(RBF, self).get_config()\n",
        "        return dict(list(base_config.items()) + list(config.items()))\n",
        "\n",
        "class RBF2(Layer):\n",
        "    @interfaces.legacy_dense_support\n",
        "    def __init__(self, units,\n",
        "                 activation=None,\n",
        "                 use_bias=False,\n",
        "                 kernel_initializer='TruncatedNormal',\n",
        "                 bias_initializer='zeros',\n",
        "                 kernel_regularizer=None,\n",
        "                 bias_regularizer=None,\n",
        "                 activity_regularizer=None,\n",
        "                 kernel_constraint=None,\n",
        "                 bias_constraint=None,\n",
        "                 **kwargs):\n",
        "        if 'input_shape' not in kwargs and 'input_dim' in kwargs:\n",
        "            kwargs['input_shape'] = (kwargs.pop('input_dim'),)\n",
        "        super(RBF2, self).__init__(**kwargs)\n",
        "        self.units = units\n",
        "        self.activation = activations.get(activation)\n",
        "        self.use_bias = use_bias\n",
        "        self.kernel_initializer = initializers.get(kernel_initializer)\n",
        "        self.bias_initializer = initializers.get(bias_initializer)\n",
        "        self.kernel_regularizer = regularizers.get(kernel_regularizer)\n",
        "        self.bias_regularizer = regularizers.get(bias_regularizer)\n",
        "        self.activity_regularizer = regularizers.get(activity_regularizer)\n",
        "        self.kernel_constraint = constraints.get(kernel_constraint)\n",
        "        self.bias_constraint = constraints.get(bias_constraint)\n",
        "        self.input_spec = InputSpec(min_ndim=2)\n",
        "        self.supports_masking = True\n",
        "\n",
        "    def build(self, input_shape):\n",
        "        assert len(input_shape) >= 2\n",
        "        input_dim = input_shape[-1]\n",
        "        self.kernel = self.add_weight(shape=(input_dim, self.units),\n",
        "                                      initializer=self.kernel_initializer,\n",
        "                                      name='kernel',\n",
        "                                      regularizer=self.kernel_regularizer,\n",
        "                                      constraint=self.kernel_constraint)\n",
        "        if self.use_bias:\n",
        "            self.bias = self.add_weight(shape=(self.units,),\n",
        "                                        initializer=self.bias_initializer,\n",
        "                                        name='bias',\n",
        "                                        regularizer=self.bias_regularizer,\n",
        "                                        constraint=self.bias_constraint)\n",
        "        else:\n",
        "            self.bias = None\n",
        "        self.input_spec = InputSpec(min_ndim=2, axes={-1: input_dim})\n",
        "        self.built = True\n",
        "\n",
        "    def call(self, inputs):\n",
        "        norm_x = K.transpose(K.sum(inputs * inputs , axis=1))\n",
        "        norm_w = K.sum(self.kernel *self.kernel , axis=0)\n",
        "        norm_x = keras.backend.expand_dims(norm_x, axis=-1)\n",
        "        prod_scal = -2 * K.dot(inputs, self.kernel)\n",
        "        print (\"Shapes : \", norm_x.shape, norm_w.shape, prod_scal.shape) \n",
        "        a = tf.add(norm_x, prod_scal) # -2 *  prod_scal)\n",
        "        y = tf.add(a, norm_w )\n",
        "        return y\n",
        "\n",
        "    def compute_output_shape(self, input_shape):\n",
        "        assert input_shape and len(input_shape) >= 2\n",
        "        assert input_shape[-1]\n",
        "        output_shape = list(input_shape)\n",
        "        output_shape[-1] = self.units\n",
        "        return tuple(output_shape)\n",
        "\n",
        "    def get_config(self):\n",
        "        config = {\n",
        "            'units': self.units,\n",
        "            'activation': activations.serialize(self.activation),\n",
        "            'use_bias': self.use_bias,\n",
        "            'kernel_initializer': initializers.serialize(self.kernel_initializer),\n",
        "            'bias_initializer': initializers.serialize(self.bias_initializer),\n",
        "            'kernel_regularizer': regularizers.serialize(self.kernel_regularizer),\n",
        "            'bias_regularizer': regularizers.serialize(self.bias_regularizer),\n",
        "            'activity_regularizer': regularizers.serialize(self.activity_regularizer),\n",
        "            'kernel_constraint': constraints.serialize(self.kernel_constraint),\n",
        "            'bias_constraint': constraints.serialize(self.bias_constraint)\n",
        "        }\n",
        "        base_config = super(RBF2, self).get_config()\n",
        "        return dict(list(base_config.items()) + list(config.items()))"
      ],
      "execution_count": 0,
      "outputs": []
    },
    {
      "metadata": {
        "id": "RyXoD6z4-lHr",
        "colab_type": "text"
      },
      "cell_type": "markdown",
      "source": [
        "# Load MNIST"
      ]
    },
    {
      "metadata": {
        "id": "F8zoOkg_-mnv",
        "colab_type": "code",
        "colab": {
          "autoexec": {
            "startup": false,
            "wait_interval": 0
          },
          "base_uri": "https://localhost:8080/",
          "height": 68
        },
        "outputId": "6dd6b5ee-9c6b-4ac5-836a-38de7fa70f76",
        "executionInfo": {
          "status": "ok",
          "timestamp": 1526407056989,
          "user_tz": -120,
          "elapsed": 2242,
          "user": {
            "displayName": "nourhene chaalia",
            "photoUrl": "https://lh3.googleusercontent.com/a/default-user=s128",
            "userId": "100626486300945214800"
          }
        }
      },
      "cell_type": "code",
      "source": [
        "# Load MNIST data\n",
        "(X_train, y_train), (X_test, y_test) = mnist.load_data()\n",
        "\n",
        "nb_classes = 10\n",
        "X_train = (X_train.astype(np.float32) - 127.5)/127.5\n",
        "X_train = X_train[:, np.newaxis, :, :]\n",
        "\n",
        "Y_train = np_utils.to_categorical(y_train, nb_classes)\n",
        "#Y_train = Y_train * 0.9\n",
        "\n",
        "X_test = (X_test.astype(np.float32) - 127.5)/127.5\n",
        "X_test = X_test[:, np.newaxis, :, :]\n",
        "Y_test = np_utils.to_categorical(y_test, nb_classes)\n",
        "#Y_test = Y_test * 0.9"
      ],
      "execution_count": 5,
      "outputs": [
        {
          "output_type": "stream",
          "text": [
            "Downloading data from https://s3.amazonaws.com/img-datasets/mnist.npz\n",
            "11493376/11490434 [==============================] - 1s 0us/step\n",
            "11501568/11490434 [==============================] - 1s 0us/step\n"
          ],
          "name": "stdout"
        }
      ]
    },
    {
      "metadata": {
        "id": "Jpnp1efLlftj",
        "colab_type": "code",
        "colab": {
          "autoexec": {
            "startup": false,
            "wait_interval": 0
          }
        }
      },
      "cell_type": "code",
      "source": [
        "\n",
        "\n",
        "dossier=[]\n",
        "resultat=[]"
      ],
      "execution_count": 0,
      "outputs": []
    },
    {
      "metadata": {
        "id": "Ql2uJ4u0-03B",
        "colab_type": "text"
      },
      "cell_type": "markdown",
      "source": [
        "# GAN Convolution"
      ]
    },
    {
      "metadata": {
        "id": "ZDhpBVNJ_Ja6",
        "colab_type": "code",
        "colab": {
          "autoexec": {
            "startup": false,
            "wait_interval": 0
          },
          "base_uri": "https://localhost:8080/",
          "height": 7905
        },
        "outputId": "68465c4d-c71f-4fb4-ee15-11a195b7f29d",
        "executionInfo": {
          "status": "ok",
          "timestamp": 1524196876917,
          "user_tz": -120,
          "elapsed": 7149004,
          "user": {
            "displayName": "nourhene chaalia",
            "photoUrl": "https://lh3.googleusercontent.com/a/default-user=s128",
            "userId": "100626486300945214800"
          }
        }
      },
      "cell_type": "code",
      "source": [
        "# Optimizer\n",
        "#adam = Adam(lr=0.0002, beta_1=0.5)\n",
        "\n",
        "adam = Adagrad(lr=0.001, epsilon=None, decay=0.0)\n",
        "\n",
        "# Generator\n",
        "generator = Sequential()\n",
        "generator.add(Dense(128*7*7, input_dim=randomDim, kernel_initializer=initializers.RandomNormal(stddev=0.02)))\n",
        "generator.add(LeakyReLU(0.2))\n",
        "generator.add(Reshape((128, 7, 7)))\n",
        "generator.add(UpSampling2D(size=(2, 2)))\n",
        "generator.add(Conv2D(64, kernel_size=(5, 5), padding='same'))\n",
        "generator.add(LeakyReLU(0.2))\n",
        "generator.add(UpSampling2D(size=(2, 2)))\n",
        "generator.add(Conv2D(1, kernel_size=(5, 5), padding='same', activation='tanh'))\n",
        "generator.compile(loss='binary_crossentropy', optimizer=adam)\n",
        "\n",
        "print (generator.summary())\n",
        "from keras.layers import BatchNormalization\n",
        "\n",
        "# Discriminator\n",
        "discriminator = Sequential()\n",
        "discriminator.add(Conv2D(64, kernel_size=(5, 5), strides=(2, 2), padding='same', input_shape=(1, 28, 28), kernel_initializer=initializers.RandomNormal(stddev=0.02)))\n",
        "discriminator.add(LeakyReLU(0.2))\n",
        "discriminator.add(Dropout(0.3))\n",
        "discriminator.add(Conv2D(128, kernel_size=(5, 5), strides=(2, 2), padding='same'))\n",
        "discriminator.add(LeakyReLU(0.2))\n",
        "discriminator.add(Dropout(0.3))\n",
        "discriminator.add(Flatten())\n",
        "discriminator.add(Dense(1, activation='sigmoid'))\n",
        "discriminator.compile(loss='binary_crossentropy', optimizer=adam)\n",
        "\n",
        "print (discriminator.summary())\n",
        "\n",
        "# Combined network\n",
        "discriminator.trainable = False\n",
        "ganInput = Input(shape=(randomDim,))\n",
        "x = generator(ganInput)\n",
        "ganOutput = discriminator(x)\n",
        "gan = Model(inputs=ganInput, outputs=ganOutput)\n",
        "gan.compile(loss='binary_crossentropy', optimizer=adam)\n",
        "\n",
        "gan.summary()\n",
        "\n",
        "dLosses = []\n",
        "gLosses = []\n",
        "cLosses_p =[]\n",
        "cLosses_r =[]\n",
        "\n",
        "# Plot the loss from each batch\n",
        "def plotLoss(epoch):\n",
        "    plt.figure(figsize=(10, 8))\n",
        "    plt.plot(dLosses, label='Discriminitive loss')\n",
        "    plt.plot(gLosses, label='Generative loss')\n",
        "    plt.xlabel('Epoch')\n",
        "    plt.ylabel('Loss')\n",
        "    plt.legend()\n",
        "    plt.savefig('gan_loss_epoch_%d.png' % epoch)\n",
        "\n",
        "# Create a wall of generated MNIST images\n",
        "def plotGeneratedImages(epoch, examples=100, dim=(10, 10), figsize=(10, 10)):\n",
        "    noise = np.random.normal(0, 1, size=[examples, randomDim])\n",
        "    generatedImages = generator.predict(noise)\n",
        "    generatedImages = generatedImages.reshape(examples, 28, 28)\n",
        "    generatedImages1=generatedImages[:, np.newaxis, :, :]\n",
        "    result=discriminator.predict(generatedImages1)\n",
        "    for i in range(examples): \n",
        "      dossier.append(generatedImages[i,:,:])\n",
        "      resultat.append(result[i][0])\n",
        "\n",
        "   # plt.figure(figsize=figsize)\n",
        "    #for i in range(generatedImages.shape[0]):\n",
        "     #   plt.subplot(dim[0], dim[1], i+1)\n",
        "      #  plt.imshow(generatedImages[i], interpolation='nearest', cmap='gray_r')\n",
        "       # plt.axis('off')\n",
        "   # plt.tight_layout()\n",
        "    #plt.savefig('gan_generated_image_epoch_%d.png' % epoch)\n",
        "\n",
        "\n",
        "# Save the generator and discriminator networks (and weights) for later use\n",
        "def saveModels(epoch):\n",
        "    generator.save('gan_generator_epoch_%d.h5' % epoch)\n",
        "    discriminator.save('gan_discriminator_epoch_%d.h5' % epoch)\n",
        "\n",
        "def train(epochs=1, batchSize=128):\n",
        "    batchCount = X_train.shape[0] / batchSize\n",
        "    print 'Epochs:', epochs\n",
        "    print 'Batch size:', batchSize\n",
        "    print 'Batches per epoch:', batchCount\n",
        "\n",
        "    for e in xrange(1, epochs+1):\n",
        "        print '-'*15, 'Epoch %d' % e, '-'*15\n",
        "        for _ in tqdm(xrange(batchCount)):\n",
        "            # Get a random set of input noise and images\n",
        "            noise = np.random.normal(0, 1, size=[batchSize, randomDim])\n",
        "            imageBatch = X_train[np.random.randint(0, X_train.shape[0], size=batchSize)]\n",
        "\n",
        "            # Generate fake MNIST images\n",
        "            generatedImages = generator.predict(noise)\n",
        "            # print np.shape(imageBatch), np.shape(generatedImages)\n",
        "            X = np.concatenate([imageBatch, generatedImages])\n",
        "\n",
        "            # Labels for generated and real data\n",
        "            yDis = np.zeros(2*batchSize)\n",
        "            # One-sided label smoothing\n",
        "            yDis[:batchSize] = 0.9\n",
        "\n",
        "            # Train discriminator\n",
        "            discriminator.trainable = True\n",
        "            dloss = discriminator.train_on_batch(X, yDis)\n",
        "\n",
        "            # Train generator\n",
        "            noise = np.random.normal(0, 1, size=[batchSize, randomDim])\n",
        "            yGen = np.ones(batchSize)\n",
        "            discriminator.trainable = False\n",
        "            gloss = gan.train_on_batch(noise, yGen)\n",
        "\n",
        "        # Store loss of most recent batch from this epoch\n",
        "        dLosses.append(dloss)\n",
        "        gLosses.append(gloss)\n",
        "        plotGeneratedImages(e)\n",
        "       # saveModels(e)\n",
        "\n",
        "    #    if e == 1 or e % 20 == 0:\n",
        "    #        plotGeneratedImages(e)\n",
        "    #        saveModels(e)\n",
        "\n",
        "    # Plot losses from every epoch\n",
        "    #plotLoss(e)\n",
        "\n",
        "if __name__ == '__main__':\n",
        "    train(200, 128)\n"
      ],
      "execution_count": 7,
      "outputs": [
        {
          "output_type": "stream",
          "text": [
            "\r  0%|          | 0/468 [00:00<?, ?it/s]"
          ],
          "name": "stderr"
        },
        {
          "output_type": "stream",
          "text": [
            "_________________________________________________________________\n",
            "Layer (type)                 Output Shape              Param #   \n",
            "=================================================================\n",
            "dense_1 (Dense)              (None, 6272)              633472    \n",
            "_________________________________________________________________\n",
            "leaky_re_lu_1 (LeakyReLU)    (None, 6272)              0         \n",
            "_________________________________________________________________\n",
            "reshape_1 (Reshape)          (None, 128, 7, 7)         0         \n",
            "_________________________________________________________________\n",
            "up_sampling2d_1 (UpSampling2 (None, 128, 14, 14)       0         \n",
            "_________________________________________________________________\n",
            "conv2d_1 (Conv2D)            (None, 64, 14, 14)        204864    \n",
            "_________________________________________________________________\n",
            "leaky_re_lu_2 (LeakyReLU)    (None, 64, 14, 14)        0         \n",
            "_________________________________________________________________\n",
            "up_sampling2d_2 (UpSampling2 (None, 64, 28, 28)        0         \n",
            "_________________________________________________________________\n",
            "conv2d_2 (Conv2D)            (None, 1, 28, 28)         1601      \n",
            "=================================================================\n",
            "Total params: 839,937\n",
            "Trainable params: 839,937\n",
            "Non-trainable params: 0\n",
            "_________________________________________________________________\n",
            "None\n",
            "_________________________________________________________________\n",
            "Layer (type)                 Output Shape              Param #   \n",
            "=================================================================\n",
            "conv2d_3 (Conv2D)            (None, 64, 14, 14)        1664      \n",
            "_________________________________________________________________\n",
            "leaky_re_lu_3 (LeakyReLU)    (None, 64, 14, 14)        0         \n",
            "_________________________________________________________________\n",
            "dropout_1 (Dropout)          (None, 64, 14, 14)        0         \n",
            "_________________________________________________________________\n",
            "conv2d_4 (Conv2D)            (None, 128, 7, 7)         204928    \n",
            "_________________________________________________________________\n",
            "leaky_re_lu_4 (LeakyReLU)    (None, 128, 7, 7)         0         \n",
            "_________________________________________________________________\n",
            "dropout_2 (Dropout)          (None, 128, 7, 7)         0         \n",
            "_________________________________________________________________\n",
            "flatten_1 (Flatten)          (None, 6272)              0         \n",
            "_________________________________________________________________\n",
            "dense_2 (Dense)              (None, 1)                 6273      \n",
            "=================================================================\n",
            "Total params: 212,865\n",
            "Trainable params: 212,865\n",
            "Non-trainable params: 0\n",
            "_________________________________________________________________\n",
            "None\n",
            "_________________________________________________________________\n",
            "Layer (type)                 Output Shape              Param #   \n",
            "=================================================================\n",
            "input_1 (InputLayer)         (None, 100)               0         \n",
            "_________________________________________________________________\n",
            "sequential_1 (Sequential)    (None, 1, 28, 28)         839937    \n",
            "_________________________________________________________________\n",
            "sequential_2 (Sequential)    (None, 1)                 212865    \n",
            "=================================================================\n",
            "Total params: 1,052,802\n",
            "Trainable params: 839,937\n",
            "Non-trainable params: 212,865\n",
            "_________________________________________________________________\n",
            "Epochs: 200\n",
            "Batch size: 128\n",
            "Batches per epoch: 468\n",
            "--------------- Epoch 1 ---------------\n"
          ],
          "name": "stdout"
        },
        {
          "output_type": "stream",
          "text": [
            "100%|██████████| 468/468 [00:37<00:00, 12.39it/s]\n",
            "  0%|          | 2/468 [00:00<00:34, 13.47it/s]"
          ],
          "name": "stderr"
        },
        {
          "output_type": "stream",
          "text": [
            "--------------- Epoch 2 ---------------\n"
          ],
          "name": "stdout"
        },
        {
          "output_type": "stream",
          "text": [
            "100%|██████████| 468/468 [00:35<00:00, 13.29it/s]\n",
            "  0%|          | 2/468 [00:00<00:35, 13.30it/s]"
          ],
          "name": "stderr"
        },
        {
          "output_type": "stream",
          "text": [
            "--------------- Epoch 3 ---------------\n"
          ],
          "name": "stdout"
        },
        {
          "output_type": "stream",
          "text": [
            "100%|██████████| 468/468 [00:35<00:00, 13.30it/s]\n",
            "  0%|          | 2/468 [00:00<00:34, 13.33it/s]"
          ],
          "name": "stderr"
        },
        {
          "output_type": "stream",
          "text": [
            "--------------- Epoch 4 ---------------\n"
          ],
          "name": "stdout"
        },
        {
          "output_type": "stream",
          "text": [
            "100%|██████████| 468/468 [00:35<00:00, 13.32it/s]\n",
            "  0%|          | 2/468 [00:00<00:34, 13.61it/s]"
          ],
          "name": "stderr"
        },
        {
          "output_type": "stream",
          "text": [
            "--------------- Epoch 5 ---------------\n"
          ],
          "name": "stdout"
        },
        {
          "output_type": "stream",
          "text": [
            "100%|██████████| 468/468 [00:35<00:00, 13.33it/s]\n",
            "  0%|          | 2/468 [00:00<00:34, 13.48it/s]"
          ],
          "name": "stderr"
        },
        {
          "output_type": "stream",
          "text": [
            "--------------- Epoch 6 ---------------\n"
          ],
          "name": "stdout"
        },
        {
          "output_type": "stream",
          "text": [
            "100%|██████████| 468/468 [00:35<00:00, 13.28it/s]\n",
            "  0%|          | 2/468 [00:00<00:34, 13.52it/s]"
          ],
          "name": "stderr"
        },
        {
          "output_type": "stream",
          "text": [
            "--------------- Epoch 7 ---------------\n"
          ],
          "name": "stdout"
        },
        {
          "output_type": "stream",
          "text": [
            "100%|██████████| 468/468 [00:35<00:00, 13.27it/s]\n",
            "  0%|          | 2/468 [00:00<00:35, 13.26it/s]"
          ],
          "name": "stderr"
        },
        {
          "output_type": "stream",
          "text": [
            "--------------- Epoch 8 ---------------\n"
          ],
          "name": "stdout"
        },
        {
          "output_type": "stream",
          "text": [
            "100%|██████████| 468/468 [00:35<00:00, 13.29it/s]\n",
            "  0%|          | 2/468 [00:00<00:34, 13.70it/s]"
          ],
          "name": "stderr"
        },
        {
          "output_type": "stream",
          "text": [
            "--------------- Epoch 9 ---------------\n"
          ],
          "name": "stdout"
        },
        {
          "output_type": "stream",
          "text": [
            "100%|██████████| 468/468 [00:35<00:00, 13.26it/s]\n",
            "  0%|          | 2/468 [00:00<00:35, 13.15it/s]"
          ],
          "name": "stderr"
        },
        {
          "output_type": "stream",
          "text": [
            "--------------- Epoch 10 ---------------\n"
          ],
          "name": "stdout"
        },
        {
          "output_type": "stream",
          "text": [
            "100%|██████████| 468/468 [00:35<00:00, 13.25it/s]\n",
            "  0%|          | 2/468 [00:00<00:34, 13.42it/s]"
          ],
          "name": "stderr"
        },
        {
          "output_type": "stream",
          "text": [
            "--------------- Epoch 11 ---------------\n"
          ],
          "name": "stdout"
        },
        {
          "output_type": "stream",
          "text": [
            "100%|██████████| 468/468 [00:35<00:00, 13.30it/s]\n",
            "  0%|          | 2/468 [00:00<00:35, 13.13it/s]"
          ],
          "name": "stderr"
        },
        {
          "output_type": "stream",
          "text": [
            "--------------- Epoch 12 ---------------\n"
          ],
          "name": "stdout"
        },
        {
          "output_type": "stream",
          "text": [
            "100%|██████████| 468/468 [00:35<00:00, 13.29it/s]\n",
            "  0%|          | 2/468 [00:00<00:34, 13.57it/s]"
          ],
          "name": "stderr"
        },
        {
          "output_type": "stream",
          "text": [
            "--------------- Epoch 13 ---------------\n"
          ],
          "name": "stdout"
        },
        {
          "output_type": "stream",
          "text": [
            "100%|██████████| 468/468 [00:35<00:00, 13.26it/s]\n",
            "  0%|          | 2/468 [00:00<00:34, 13.54it/s]"
          ],
          "name": "stderr"
        },
        {
          "output_type": "stream",
          "text": [
            "--------------- Epoch 14 ---------------\n"
          ],
          "name": "stdout"
        },
        {
          "output_type": "stream",
          "text": [
            "100%|██████████| 468/468 [00:35<00:00, 13.24it/s]\n",
            "  0%|          | 2/468 [00:00<00:36, 12.88it/s]"
          ],
          "name": "stderr"
        },
        {
          "output_type": "stream",
          "text": [
            "--------------- Epoch 15 ---------------\n"
          ],
          "name": "stdout"
        },
        {
          "output_type": "stream",
          "text": [
            "100%|██████████| 468/468 [00:35<00:00, 13.24it/s]\n",
            "  0%|          | 2/468 [00:00<00:34, 13.44it/s]"
          ],
          "name": "stderr"
        },
        {
          "output_type": "stream",
          "text": [
            "--------------- Epoch 16 ---------------\n"
          ],
          "name": "stdout"
        },
        {
          "output_type": "stream",
          "text": [
            "100%|██████████| 468/468 [00:35<00:00, 13.26it/s]\n",
            "  0%|          | 2/468 [00:00<00:34, 13.62it/s]"
          ],
          "name": "stderr"
        },
        {
          "output_type": "stream",
          "text": [
            "--------------- Epoch 17 ---------------\n"
          ],
          "name": "stdout"
        },
        {
          "output_type": "stream",
          "text": [
            "100%|██████████| 468/468 [00:35<00:00, 13.25it/s]\n",
            "  0%|          | 2/468 [00:00<00:35, 13.25it/s]"
          ],
          "name": "stderr"
        },
        {
          "output_type": "stream",
          "text": [
            "--------------- Epoch 18 ---------------\n"
          ],
          "name": "stdout"
        },
        {
          "output_type": "stream",
          "text": [
            "100%|██████████| 468/468 [00:35<00:00, 13.20it/s]\n",
            "  0%|          | 2/468 [00:00<00:34, 13.57it/s]"
          ],
          "name": "stderr"
        },
        {
          "output_type": "stream",
          "text": [
            "--------------- Epoch 19 ---------------\n"
          ],
          "name": "stdout"
        },
        {
          "output_type": "stream",
          "text": [
            "100%|██████████| 468/468 [00:35<00:00, 13.20it/s]\n",
            "  0%|          | 2/468 [00:00<00:35, 13.07it/s]"
          ],
          "name": "stderr"
        },
        {
          "output_type": "stream",
          "text": [
            "--------------- Epoch 20 ---------------\n"
          ],
          "name": "stdout"
        },
        {
          "output_type": "stream",
          "text": [
            "100%|██████████| 468/468 [00:35<00:00, 13.24it/s]\n",
            "  0%|          | 2/468 [00:00<00:36, 12.66it/s]"
          ],
          "name": "stderr"
        },
        {
          "output_type": "stream",
          "text": [
            "--------------- Epoch 21 ---------------\n"
          ],
          "name": "stdout"
        },
        {
          "output_type": "stream",
          "text": [
            "100%|██████████| 468/468 [00:35<00:00, 13.21it/s]\n",
            "  0%|          | 2/468 [00:00<00:35, 13.21it/s]"
          ],
          "name": "stderr"
        },
        {
          "output_type": "stream",
          "text": [
            "--------------- Epoch 22 ---------------\n"
          ],
          "name": "stdout"
        },
        {
          "output_type": "stream",
          "text": [
            "100%|██████████| 468/468 [00:35<00:00, 13.24it/s]\n",
            "  0%|          | 2/468 [00:00<00:36, 12.84it/s]"
          ],
          "name": "stderr"
        },
        {
          "output_type": "stream",
          "text": [
            "--------------- Epoch 23 ---------------\n"
          ],
          "name": "stdout"
        },
        {
          "output_type": "stream",
          "text": [
            "100%|██████████| 468/468 [00:35<00:00, 13.20it/s]\n",
            "  0%|          | 2/468 [00:00<00:34, 13.32it/s]"
          ],
          "name": "stderr"
        },
        {
          "output_type": "stream",
          "text": [
            "--------------- Epoch 24 ---------------\n"
          ],
          "name": "stdout"
        },
        {
          "output_type": "stream",
          "text": [
            "100%|██████████| 468/468 [00:35<00:00, 13.20it/s]\n",
            "  0%|          | 2/468 [00:00<00:34, 13.40it/s]"
          ],
          "name": "stderr"
        },
        {
          "output_type": "stream",
          "text": [
            "--------------- Epoch 25 ---------------\n"
          ],
          "name": "stdout"
        },
        {
          "output_type": "stream",
          "text": [
            "100%|██████████| 468/468 [00:35<00:00, 13.18it/s]\n",
            "  0%|          | 2/468 [00:00<00:34, 13.44it/s]"
          ],
          "name": "stderr"
        },
        {
          "output_type": "stream",
          "text": [
            "--------------- Epoch 26 ---------------\n"
          ],
          "name": "stdout"
        },
        {
          "output_type": "stream",
          "text": [
            "100%|██████████| 468/468 [00:35<00:00, 13.20it/s]\n",
            "  0%|          | 2/468 [00:00<00:35, 13.01it/s]"
          ],
          "name": "stderr"
        },
        {
          "output_type": "stream",
          "text": [
            "--------------- Epoch 27 ---------------\n"
          ],
          "name": "stdout"
        },
        {
          "output_type": "stream",
          "text": [
            "100%|██████████| 468/468 [00:35<00:00, 13.18it/s]\n",
            "  0%|          | 2/468 [00:00<00:34, 13.35it/s]"
          ],
          "name": "stderr"
        },
        {
          "output_type": "stream",
          "text": [
            "--------------- Epoch 28 ---------------\n"
          ],
          "name": "stdout"
        },
        {
          "output_type": "stream",
          "text": [
            "100%|██████████| 468/468 [00:35<00:00, 13.18it/s]\n",
            "  0%|          | 2/468 [00:00<00:35, 13.07it/s]"
          ],
          "name": "stderr"
        },
        {
          "output_type": "stream",
          "text": [
            "--------------- Epoch 29 ---------------\n"
          ],
          "name": "stdout"
        },
        {
          "output_type": "stream",
          "text": [
            "100%|██████████| 468/468 [00:35<00:00, 13.19it/s]\n",
            "  0%|          | 2/468 [00:00<00:35, 13.29it/s]"
          ],
          "name": "stderr"
        },
        {
          "output_type": "stream",
          "text": [
            "--------------- Epoch 30 ---------------\n"
          ],
          "name": "stdout"
        },
        {
          "output_type": "stream",
          "text": [
            "100%|██████████| 468/468 [00:35<00:00, 13.19it/s]\n",
            "  0%|          | 2/468 [00:00<00:35, 13.20it/s]"
          ],
          "name": "stderr"
        },
        {
          "output_type": "stream",
          "text": [
            "--------------- Epoch 31 ---------------\n"
          ],
          "name": "stdout"
        },
        {
          "output_type": "stream",
          "text": [
            "100%|██████████| 468/468 [00:35<00:00, 13.19it/s]\n",
            "  0%|          | 2/468 [00:00<00:35, 13.30it/s]"
          ],
          "name": "stderr"
        },
        {
          "output_type": "stream",
          "text": [
            "--------------- Epoch 32 ---------------\n"
          ],
          "name": "stdout"
        },
        {
          "output_type": "stream",
          "text": [
            "100%|██████████| 468/468 [00:35<00:00, 13.17it/s]\n",
            "  0%|          | 2/468 [00:00<00:35, 13.13it/s]"
          ],
          "name": "stderr"
        },
        {
          "output_type": "stream",
          "text": [
            "--------------- Epoch 33 ---------------\n"
          ],
          "name": "stdout"
        },
        {
          "output_type": "stream",
          "text": [
            "100%|██████████| 468/468 [00:35<00:00, 13.17it/s]\n",
            "  0%|          | 2/468 [00:00<00:34, 13.55it/s]"
          ],
          "name": "stderr"
        },
        {
          "output_type": "stream",
          "text": [
            "--------------- Epoch 34 ---------------\n"
          ],
          "name": "stdout"
        },
        {
          "output_type": "stream",
          "text": [
            "100%|██████████| 468/468 [00:35<00:00, 13.20it/s]\n",
            "  0%|          | 2/468 [00:00<00:35, 13.17it/s]"
          ],
          "name": "stderr"
        },
        {
          "output_type": "stream",
          "text": [
            "--------------- Epoch 35 ---------------\n"
          ],
          "name": "stdout"
        },
        {
          "output_type": "stream",
          "text": [
            "100%|██████████| 468/468 [00:35<00:00, 13.18it/s]\n",
            "  0%|          | 2/468 [00:00<00:35, 13.27it/s]"
          ],
          "name": "stderr"
        },
        {
          "output_type": "stream",
          "text": [
            "--------------- Epoch 36 ---------------\n"
          ],
          "name": "stdout"
        },
        {
          "output_type": "stream",
          "text": [
            "100%|██████████| 468/468 [00:35<00:00, 13.14it/s]\n",
            "  0%|          | 2/468 [00:00<00:34, 13.44it/s]"
          ],
          "name": "stderr"
        },
        {
          "output_type": "stream",
          "text": [
            "--------------- Epoch 37 ---------------\n"
          ],
          "name": "stdout"
        },
        {
          "output_type": "stream",
          "text": [
            "100%|██████████| 468/468 [00:35<00:00, 13.08it/s]\n",
            "  0%|          | 2/468 [00:00<00:36, 12.79it/s]"
          ],
          "name": "stderr"
        },
        {
          "output_type": "stream",
          "text": [
            "--------------- Epoch 38 ---------------\n"
          ],
          "name": "stdout"
        },
        {
          "output_type": "stream",
          "text": [
            "100%|██████████| 468/468 [00:35<00:00, 13.07it/s]\n",
            "  0%|          | 2/468 [00:00<00:35, 13.28it/s]"
          ],
          "name": "stderr"
        },
        {
          "output_type": "stream",
          "text": [
            "--------------- Epoch 39 ---------------\n"
          ],
          "name": "stdout"
        },
        {
          "output_type": "stream",
          "text": [
            "100%|██████████| 468/468 [00:35<00:00, 13.12it/s]\n",
            "  0%|          | 2/468 [00:00<00:35, 12.99it/s]"
          ],
          "name": "stderr"
        },
        {
          "output_type": "stream",
          "text": [
            "--------------- Epoch 40 ---------------\n"
          ],
          "name": "stdout"
        },
        {
          "output_type": "stream",
          "text": [
            "100%|██████████| 468/468 [00:35<00:00, 13.14it/s]\n",
            "  0%|          | 2/468 [00:00<00:35, 13.24it/s]"
          ],
          "name": "stderr"
        },
        {
          "output_type": "stream",
          "text": [
            "--------------- Epoch 41 ---------------\n"
          ],
          "name": "stdout"
        },
        {
          "output_type": "stream",
          "text": [
            "100%|██████████| 468/468 [00:35<00:00, 13.09it/s]\n",
            "  0%|          | 2/468 [00:00<00:34, 13.63it/s]"
          ],
          "name": "stderr"
        },
        {
          "output_type": "stream",
          "text": [
            "--------------- Epoch 42 ---------------\n"
          ],
          "name": "stdout"
        },
        {
          "output_type": "stream",
          "text": [
            "100%|██████████| 468/468 [00:35<00:00, 13.08it/s]\n",
            "  0%|          | 2/468 [00:00<00:34, 13.36it/s]"
          ],
          "name": "stderr"
        },
        {
          "output_type": "stream",
          "text": [
            "--------------- Epoch 43 ---------------\n"
          ],
          "name": "stdout"
        },
        {
          "output_type": "stream",
          "text": [
            "100%|██████████| 468/468 [00:35<00:00, 13.08it/s]\n",
            "  0%|          | 2/468 [00:00<00:33, 13.71it/s]"
          ],
          "name": "stderr"
        },
        {
          "output_type": "stream",
          "text": [
            "--------------- Epoch 44 ---------------\n"
          ],
          "name": "stdout"
        },
        {
          "output_type": "stream",
          "text": [
            "100%|██████████| 468/468 [00:35<00:00, 13.11it/s]\n",
            "  0%|          | 2/468 [00:00<00:35, 13.25it/s]"
          ],
          "name": "stderr"
        },
        {
          "output_type": "stream",
          "text": [
            "--------------- Epoch 45 ---------------\n"
          ],
          "name": "stdout"
        },
        {
          "output_type": "stream",
          "text": [
            "100%|██████████| 468/468 [00:35<00:00, 13.07it/s]\n",
            "  0%|          | 2/468 [00:00<00:36, 12.92it/s]"
          ],
          "name": "stderr"
        },
        {
          "output_type": "stream",
          "text": [
            "--------------- Epoch 46 ---------------\n"
          ],
          "name": "stdout"
        },
        {
          "output_type": "stream",
          "text": [
            "100%|██████████| 468/468 [00:35<00:00, 13.08it/s]\n",
            "  0%|          | 2/468 [00:00<00:36, 12.78it/s]"
          ],
          "name": "stderr"
        },
        {
          "output_type": "stream",
          "text": [
            "--------------- Epoch 47 ---------------\n"
          ],
          "name": "stdout"
        },
        {
          "output_type": "stream",
          "text": [
            "100%|██████████| 468/468 [00:35<00:00, 13.11it/s]\n",
            "  0%|          | 2/468 [00:00<00:34, 13.53it/s]"
          ],
          "name": "stderr"
        },
        {
          "output_type": "stream",
          "text": [
            "--------------- Epoch 48 ---------------\n"
          ],
          "name": "stdout"
        },
        {
          "output_type": "stream",
          "text": [
            "100%|██████████| 468/468 [00:35<00:00, 13.09it/s]\n",
            "  0%|          | 2/468 [00:00<00:34, 13.45it/s]"
          ],
          "name": "stderr"
        },
        {
          "output_type": "stream",
          "text": [
            "--------------- Epoch 49 ---------------\n"
          ],
          "name": "stdout"
        },
        {
          "output_type": "stream",
          "text": [
            "100%|██████████| 468/468 [00:35<00:00, 13.11it/s]\n",
            "  0%|          | 2/468 [00:00<00:34, 13.39it/s]"
          ],
          "name": "stderr"
        },
        {
          "output_type": "stream",
          "text": [
            "--------------- Epoch 50 ---------------\n"
          ],
          "name": "stdout"
        },
        {
          "output_type": "stream",
          "text": [
            "100%|██████████| 468/468 [00:35<00:00, 13.10it/s]\n",
            "  0%|          | 2/468 [00:00<00:35, 13.01it/s]"
          ],
          "name": "stderr"
        },
        {
          "output_type": "stream",
          "text": [
            "--------------- Epoch 51 ---------------\n"
          ],
          "name": "stdout"
        },
        {
          "output_type": "stream",
          "text": [
            "100%|██████████| 468/468 [00:35<00:00, 13.09it/s]\n",
            "  0%|          | 2/468 [00:00<00:35, 12.95it/s]"
          ],
          "name": "stderr"
        },
        {
          "output_type": "stream",
          "text": [
            "--------------- Epoch 52 ---------------\n"
          ],
          "name": "stdout"
        },
        {
          "output_type": "stream",
          "text": [
            "100%|██████████| 468/468 [00:35<00:00, 13.08it/s]\n",
            "  0%|          | 2/468 [00:00<00:34, 13.48it/s]"
          ],
          "name": "stderr"
        },
        {
          "output_type": "stream",
          "text": [
            "--------------- Epoch 53 ---------------\n"
          ],
          "name": "stdout"
        },
        {
          "output_type": "stream",
          "text": [
            "100%|██████████| 468/468 [00:35<00:00, 13.10it/s]\n",
            "  0%|          | 2/468 [00:00<00:34, 13.32it/s]"
          ],
          "name": "stderr"
        },
        {
          "output_type": "stream",
          "text": [
            "--------------- Epoch 54 ---------------\n"
          ],
          "name": "stdout"
        },
        {
          "output_type": "stream",
          "text": [
            "100%|██████████| 468/468 [00:35<00:00, 13.11it/s]\n",
            "  0%|          | 2/468 [00:00<00:35, 13.08it/s]"
          ],
          "name": "stderr"
        },
        {
          "output_type": "stream",
          "text": [
            "--------------- Epoch 55 ---------------\n"
          ],
          "name": "stdout"
        },
        {
          "output_type": "stream",
          "text": [
            "100%|██████████| 468/468 [00:35<00:00, 13.09it/s]\n",
            "  0%|          | 2/468 [00:00<00:35, 13.28it/s]"
          ],
          "name": "stderr"
        },
        {
          "output_type": "stream",
          "text": [
            "--------------- Epoch 56 ---------------\n"
          ],
          "name": "stdout"
        },
        {
          "output_type": "stream",
          "text": [
            "100%|██████████| 468/468 [00:35<00:00, 13.08it/s]\n",
            "  0%|          | 2/468 [00:00<00:35, 13.01it/s]"
          ],
          "name": "stderr"
        },
        {
          "output_type": "stream",
          "text": [
            "--------------- Epoch 57 ---------------\n"
          ],
          "name": "stdout"
        },
        {
          "output_type": "stream",
          "text": [
            "100%|██████████| 468/468 [00:35<00:00, 13.12it/s]\n",
            "  0%|          | 2/468 [00:00<00:35, 13.22it/s]"
          ],
          "name": "stderr"
        },
        {
          "output_type": "stream",
          "text": [
            "--------------- Epoch 58 ---------------\n"
          ],
          "name": "stdout"
        },
        {
          "output_type": "stream",
          "text": [
            "100%|██████████| 468/468 [00:35<00:00, 13.09it/s]\n",
            "  0%|          | 2/468 [00:00<00:35, 13.16it/s]"
          ],
          "name": "stderr"
        },
        {
          "output_type": "stream",
          "text": [
            "--------------- Epoch 59 ---------------\n"
          ],
          "name": "stdout"
        },
        {
          "output_type": "stream",
          "text": [
            "100%|██████████| 468/468 [00:35<00:00, 13.10it/s]\n",
            "  0%|          | 2/468 [00:00<00:36, 12.84it/s]"
          ],
          "name": "stderr"
        },
        {
          "output_type": "stream",
          "text": [
            "--------------- Epoch 60 ---------------\n"
          ],
          "name": "stdout"
        },
        {
          "output_type": "stream",
          "text": [
            "100%|██████████| 468/468 [00:35<00:00, 13.11it/s]\n",
            "  0%|          | 2/468 [00:00<00:36, 12.76it/s]"
          ],
          "name": "stderr"
        },
        {
          "output_type": "stream",
          "text": [
            "--------------- Epoch 61 ---------------\n"
          ],
          "name": "stdout"
        },
        {
          "output_type": "stream",
          "text": [
            "100%|██████████| 468/468 [00:35<00:00, 13.10it/s]\n",
            "  0%|          | 2/468 [00:00<00:35, 13.06it/s]"
          ],
          "name": "stderr"
        },
        {
          "output_type": "stream",
          "text": [
            "--------------- Epoch 62 ---------------\n"
          ],
          "name": "stdout"
        },
        {
          "output_type": "stream",
          "text": [
            "100%|██████████| 468/468 [00:35<00:00, 13.09it/s]\n",
            "  0%|          | 2/468 [00:00<00:35, 13.30it/s]"
          ],
          "name": "stderr"
        },
        {
          "output_type": "stream",
          "text": [
            "--------------- Epoch 63 ---------------\n"
          ],
          "name": "stdout"
        },
        {
          "output_type": "stream",
          "text": [
            "100%|██████████| 468/468 [00:35<00:00, 13.11it/s]\n",
            "  0%|          | 2/468 [00:00<00:35, 13.31it/s]"
          ],
          "name": "stderr"
        },
        {
          "output_type": "stream",
          "text": [
            "--------------- Epoch 64 ---------------\n"
          ],
          "name": "stdout"
        },
        {
          "output_type": "stream",
          "text": [
            "100%|██████████| 468/468 [00:35<00:00, 13.08it/s]\n",
            "  0%|          | 2/468 [00:00<00:35, 13.05it/s]"
          ],
          "name": "stderr"
        },
        {
          "output_type": "stream",
          "text": [
            "--------------- Epoch 65 ---------------\n"
          ],
          "name": "stdout"
        },
        {
          "output_type": "stream",
          "text": [
            "100%|██████████| 468/468 [00:35<00:00, 13.10it/s]\n",
            "  0%|          | 2/468 [00:00<00:36, 12.66it/s]"
          ],
          "name": "stderr"
        },
        {
          "output_type": "stream",
          "text": [
            "--------------- Epoch 66 ---------------\n"
          ],
          "name": "stdout"
        },
        {
          "output_type": "stream",
          "text": [
            "100%|██████████| 468/468 [00:35<00:00, 13.08it/s]\n",
            "  0%|          | 2/468 [00:00<00:36, 12.93it/s]"
          ],
          "name": "stderr"
        },
        {
          "output_type": "stream",
          "text": [
            "--------------- Epoch 67 ---------------\n"
          ],
          "name": "stdout"
        },
        {
          "output_type": "stream",
          "text": [
            "100%|██████████| 468/468 [00:35<00:00, 13.12it/s]\n",
            "  0%|          | 2/468 [00:00<00:34, 13.37it/s]"
          ],
          "name": "stderr"
        },
        {
          "output_type": "stream",
          "text": [
            "--------------- Epoch 68 ---------------\n"
          ],
          "name": "stdout"
        },
        {
          "output_type": "stream",
          "text": [
            "100%|██████████| 468/468 [00:35<00:00, 13.13it/s]\n",
            "  0%|          | 2/468 [00:00<00:34, 13.58it/s]"
          ],
          "name": "stderr"
        },
        {
          "output_type": "stream",
          "text": [
            "--------------- Epoch 69 ---------------\n"
          ],
          "name": "stdout"
        },
        {
          "output_type": "stream",
          "text": [
            "100%|██████████| 468/468 [00:35<00:00, 13.08it/s]\n",
            "  0%|          | 2/468 [00:00<00:35, 13.12it/s]"
          ],
          "name": "stderr"
        },
        {
          "output_type": "stream",
          "text": [
            "--------------- Epoch 70 ---------------\n"
          ],
          "name": "stdout"
        },
        {
          "output_type": "stream",
          "text": [
            "100%|██████████| 468/468 [00:35<00:00, 13.12it/s]\n",
            "  0%|          | 2/468 [00:00<00:35, 12.95it/s]"
          ],
          "name": "stderr"
        },
        {
          "output_type": "stream",
          "text": [
            "--------------- Epoch 71 ---------------\n"
          ],
          "name": "stdout"
        },
        {
          "output_type": "stream",
          "text": [
            "100%|██████████| 468/468 [00:35<00:00, 13.12it/s]\n",
            "  0%|          | 2/468 [00:00<00:35, 13.30it/s]"
          ],
          "name": "stderr"
        },
        {
          "output_type": "stream",
          "text": [
            "--------------- Epoch 72 ---------------\n"
          ],
          "name": "stdout"
        },
        {
          "output_type": "stream",
          "text": [
            "100%|██████████| 468/468 [00:35<00:00, 13.13it/s]\n",
            "  0%|          | 2/468 [00:00<00:35, 13.19it/s]"
          ],
          "name": "stderr"
        },
        {
          "output_type": "stream",
          "text": [
            "--------------- Epoch 73 ---------------\n"
          ],
          "name": "stdout"
        },
        {
          "output_type": "stream",
          "text": [
            "100%|██████████| 468/468 [00:35<00:00, 13.12it/s]\n",
            "  0%|          | 2/468 [00:00<00:34, 13.50it/s]"
          ],
          "name": "stderr"
        },
        {
          "output_type": "stream",
          "text": [
            "--------------- Epoch 74 ---------------\n"
          ],
          "name": "stdout"
        },
        {
          "output_type": "stream",
          "text": [
            "100%|██████████| 468/468 [00:35<00:00, 13.09it/s]\n",
            "  0%|          | 2/468 [00:00<00:35, 13.09it/s]"
          ],
          "name": "stderr"
        },
        {
          "output_type": "stream",
          "text": [
            "--------------- Epoch 75 ---------------\n"
          ],
          "name": "stdout"
        },
        {
          "output_type": "stream",
          "text": [
            "100%|██████████| 468/468 [00:35<00:00, 13.12it/s]\n",
            "  0%|          | 2/468 [00:00<00:35, 13.14it/s]"
          ],
          "name": "stderr"
        },
        {
          "output_type": "stream",
          "text": [
            "--------------- Epoch 76 ---------------\n"
          ],
          "name": "stdout"
        },
        {
          "output_type": "stream",
          "text": [
            "100%|██████████| 468/468 [00:35<00:00, 13.11it/s]\n",
            "  0%|          | 2/468 [00:00<00:34, 13.51it/s]"
          ],
          "name": "stderr"
        },
        {
          "output_type": "stream",
          "text": [
            "--------------- Epoch 77 ---------------\n"
          ],
          "name": "stdout"
        },
        {
          "output_type": "stream",
          "text": [
            "100%|██████████| 468/468 [00:35<00:00, 13.13it/s]\n",
            "  0%|          | 2/468 [00:00<00:34, 13.45it/s]"
          ],
          "name": "stderr"
        },
        {
          "output_type": "stream",
          "text": [
            "--------------- Epoch 78 ---------------\n"
          ],
          "name": "stdout"
        },
        {
          "output_type": "stream",
          "text": [
            "100%|██████████| 468/468 [00:35<00:00, 13.14it/s]\n",
            "  0%|          | 2/468 [00:00<00:35, 13.22it/s]"
          ],
          "name": "stderr"
        },
        {
          "output_type": "stream",
          "text": [
            "--------------- Epoch 79 ---------------\n"
          ],
          "name": "stdout"
        },
        {
          "output_type": "stream",
          "text": [
            "100%|██████████| 468/468 [00:35<00:00, 13.12it/s]\n",
            "  0%|          | 2/468 [00:00<00:35, 13.01it/s]"
          ],
          "name": "stderr"
        },
        {
          "output_type": "stream",
          "text": [
            "--------------- Epoch 80 ---------------\n"
          ],
          "name": "stdout"
        },
        {
          "output_type": "stream",
          "text": [
            "100%|██████████| 468/468 [00:35<00:00, 13.16it/s]\n",
            "  0%|          | 2/468 [00:00<00:34, 13.38it/s]"
          ],
          "name": "stderr"
        },
        {
          "output_type": "stream",
          "text": [
            "--------------- Epoch 81 ---------------\n"
          ],
          "name": "stdout"
        },
        {
          "output_type": "stream",
          "text": [
            "100%|██████████| 468/468 [00:35<00:00, 13.11it/s]\n",
            "  0%|          | 2/468 [00:00<00:35, 13.07it/s]"
          ],
          "name": "stderr"
        },
        {
          "output_type": "stream",
          "text": [
            "--------------- Epoch 82 ---------------\n"
          ],
          "name": "stdout"
        },
        {
          "output_type": "stream",
          "text": [
            "100%|██████████| 468/468 [00:35<00:00, 13.12it/s]\n",
            "  0%|          | 2/468 [00:00<00:34, 13.39it/s]"
          ],
          "name": "stderr"
        },
        {
          "output_type": "stream",
          "text": [
            "--------------- Epoch 83 ---------------\n"
          ],
          "name": "stdout"
        },
        {
          "output_type": "stream",
          "text": [
            "100%|██████████| 468/468 [00:35<00:00, 13.14it/s]\n",
            "  0%|          | 2/468 [00:00<00:34, 13.46it/s]"
          ],
          "name": "stderr"
        },
        {
          "output_type": "stream",
          "text": [
            "--------------- Epoch 84 ---------------\n"
          ],
          "name": "stdout"
        },
        {
          "output_type": "stream",
          "text": [
            "100%|██████████| 468/468 [00:35<00:00, 13.12it/s]\n",
            "  0%|          | 2/468 [00:00<00:36, 12.89it/s]"
          ],
          "name": "stderr"
        },
        {
          "output_type": "stream",
          "text": [
            "--------------- Epoch 85 ---------------\n"
          ],
          "name": "stdout"
        },
        {
          "output_type": "stream",
          "text": [
            "100%|██████████| 468/468 [00:35<00:00, 13.15it/s]\n",
            "  0%|          | 2/468 [00:00<00:35, 13.11it/s]"
          ],
          "name": "stderr"
        },
        {
          "output_type": "stream",
          "text": [
            "--------------- Epoch 86 ---------------\n"
          ],
          "name": "stdout"
        },
        {
          "output_type": "stream",
          "text": [
            "100%|██████████| 468/468 [00:35<00:00, 13.13it/s]\n",
            "  0%|          | 2/468 [00:00<00:34, 13.44it/s]"
          ],
          "name": "stderr"
        },
        {
          "output_type": "stream",
          "text": [
            "--------------- Epoch 87 ---------------\n"
          ],
          "name": "stdout"
        },
        {
          "output_type": "stream",
          "text": [
            "100%|██████████| 468/468 [00:35<00:00, 13.12it/s]\n",
            "  0%|          | 2/468 [00:00<00:35, 13.20it/s]"
          ],
          "name": "stderr"
        },
        {
          "output_type": "stream",
          "text": [
            "--------------- Epoch 88 ---------------\n"
          ],
          "name": "stdout"
        },
        {
          "output_type": "stream",
          "text": [
            "100%|██████████| 468/468 [00:35<00:00, 13.12it/s]\n",
            "  0%|          | 2/468 [00:00<00:35, 13.25it/s]"
          ],
          "name": "stderr"
        },
        {
          "output_type": "stream",
          "text": [
            "--------------- Epoch 89 ---------------\n"
          ],
          "name": "stdout"
        },
        {
          "output_type": "stream",
          "text": [
            "100%|██████████| 468/468 [00:35<00:00, 13.08it/s]\n",
            "  0%|          | 2/468 [00:00<00:35, 13.30it/s]"
          ],
          "name": "stderr"
        },
        {
          "output_type": "stream",
          "text": [
            "--------------- Epoch 90 ---------------\n"
          ],
          "name": "stdout"
        },
        {
          "output_type": "stream",
          "text": [
            "100%|██████████| 468/468 [00:35<00:00, 13.10it/s]\n",
            "  0%|          | 2/468 [00:00<00:34, 13.32it/s]"
          ],
          "name": "stderr"
        },
        {
          "output_type": "stream",
          "text": [
            "--------------- Epoch 91 ---------------\n"
          ],
          "name": "stdout"
        },
        {
          "output_type": "stream",
          "text": [
            "100%|██████████| 468/468 [00:35<00:00, 13.05it/s]\n",
            "  0%|          | 2/468 [00:00<00:35, 13.10it/s]"
          ],
          "name": "stderr"
        },
        {
          "output_type": "stream",
          "text": [
            "--------------- Epoch 92 ---------------\n"
          ],
          "name": "stdout"
        },
        {
          "output_type": "stream",
          "text": [
            "100%|██████████| 468/468 [00:35<00:00, 13.08it/s]\n",
            "  0%|          | 2/468 [00:00<00:34, 13.61it/s]"
          ],
          "name": "stderr"
        },
        {
          "output_type": "stream",
          "text": [
            "--------------- Epoch 93 ---------------\n"
          ],
          "name": "stdout"
        },
        {
          "output_type": "stream",
          "text": [
            "100%|██████████| 468/468 [00:35<00:00, 13.08it/s]\n",
            "  0%|          | 2/468 [00:00<00:34, 13.51it/s]"
          ],
          "name": "stderr"
        },
        {
          "output_type": "stream",
          "text": [
            "--------------- Epoch 94 ---------------\n"
          ],
          "name": "stdout"
        },
        {
          "output_type": "stream",
          "text": [
            "100%|██████████| 468/468 [00:35<00:00, 13.10it/s]\n",
            "  0%|          | 2/468 [00:00<00:35, 13.24it/s]"
          ],
          "name": "stderr"
        },
        {
          "output_type": "stream",
          "text": [
            "--------------- Epoch 95 ---------------\n"
          ],
          "name": "stdout"
        },
        {
          "output_type": "stream",
          "text": [
            "100%|██████████| 468/468 [00:35<00:00, 13.10it/s]\n",
            "  0%|          | 2/468 [00:00<00:35, 13.22it/s]"
          ],
          "name": "stderr"
        },
        {
          "output_type": "stream",
          "text": [
            "--------------- Epoch 96 ---------------\n"
          ],
          "name": "stdout"
        },
        {
          "output_type": "stream",
          "text": [
            "100%|██████████| 468/468 [00:35<00:00, 13.10it/s]\n",
            "  0%|          | 2/468 [00:00<00:35, 13.22it/s]"
          ],
          "name": "stderr"
        },
        {
          "output_type": "stream",
          "text": [
            "--------------- Epoch 97 ---------------\n"
          ],
          "name": "stdout"
        },
        {
          "output_type": "stream",
          "text": [
            "100%|██████████| 468/468 [00:35<00:00, 13.10it/s]\n",
            "  0%|          | 2/468 [00:00<00:34, 13.45it/s]"
          ],
          "name": "stderr"
        },
        {
          "output_type": "stream",
          "text": [
            "--------------- Epoch 98 ---------------\n"
          ],
          "name": "stdout"
        },
        {
          "output_type": "stream",
          "text": [
            "100%|██████████| 468/468 [00:35<00:00, 13.09it/s]\n",
            "  0%|          | 2/468 [00:00<00:35, 13.18it/s]"
          ],
          "name": "stderr"
        },
        {
          "output_type": "stream",
          "text": [
            "--------------- Epoch 99 ---------------\n"
          ],
          "name": "stdout"
        },
        {
          "output_type": "stream",
          "text": [
            "100%|██████████| 468/468 [00:35<00:00, 13.09it/s]\n",
            "  0%|          | 2/468 [00:00<00:36, 12.85it/s]"
          ],
          "name": "stderr"
        },
        {
          "output_type": "stream",
          "text": [
            "--------------- Epoch 100 ---------------\n"
          ],
          "name": "stdout"
        },
        {
          "output_type": "stream",
          "text": [
            "100%|██████████| 468/468 [00:35<00:00, 13.06it/s]\n",
            "  0%|          | 2/468 [00:00<00:35, 13.01it/s]"
          ],
          "name": "stderr"
        },
        {
          "output_type": "stream",
          "text": [
            "--------------- Epoch 101 ---------------\n"
          ],
          "name": "stdout"
        },
        {
          "output_type": "stream",
          "text": [
            "100%|██████████| 468/468 [00:35<00:00, 13.05it/s]\n",
            "  0%|          | 2/468 [00:00<00:34, 13.36it/s]"
          ],
          "name": "stderr"
        },
        {
          "output_type": "stream",
          "text": [
            "--------------- Epoch 102 ---------------\n"
          ],
          "name": "stdout"
        },
        {
          "output_type": "stream",
          "text": [
            "100%|██████████| 468/468 [00:35<00:00, 13.09it/s]\n",
            "  0%|          | 2/468 [00:00<00:35, 13.31it/s]"
          ],
          "name": "stderr"
        },
        {
          "output_type": "stream",
          "text": [
            "--------------- Epoch 103 ---------------\n"
          ],
          "name": "stdout"
        },
        {
          "output_type": "stream",
          "text": [
            "100%|██████████| 468/468 [00:35<00:00, 13.09it/s]\n",
            "  0%|          | 2/468 [00:00<00:34, 13.65it/s]"
          ],
          "name": "stderr"
        },
        {
          "output_type": "stream",
          "text": [
            "--------------- Epoch 104 ---------------\n"
          ],
          "name": "stdout"
        },
        {
          "output_type": "stream",
          "text": [
            "100%|██████████| 468/468 [00:35<00:00, 13.10it/s]\n",
            "  0%|          | 2/468 [00:00<00:35, 13.05it/s]"
          ],
          "name": "stderr"
        },
        {
          "output_type": "stream",
          "text": [
            "--------------- Epoch 105 ---------------\n"
          ],
          "name": "stdout"
        },
        {
          "output_type": "stream",
          "text": [
            "100%|██████████| 468/468 [00:35<00:00, 13.06it/s]\n",
            "  0%|          | 2/468 [00:00<00:34, 13.45it/s]"
          ],
          "name": "stderr"
        },
        {
          "output_type": "stream",
          "text": [
            "--------------- Epoch 106 ---------------\n"
          ],
          "name": "stdout"
        },
        {
          "output_type": "stream",
          "text": [
            "100%|██████████| 468/468 [00:35<00:00, 13.10it/s]\n",
            "  0%|          | 2/468 [00:00<00:34, 13.32it/s]"
          ],
          "name": "stderr"
        },
        {
          "output_type": "stream",
          "text": [
            "--------------- Epoch 107 ---------------\n"
          ],
          "name": "stdout"
        },
        {
          "output_type": "stream",
          "text": [
            "100%|██████████| 468/468 [00:35<00:00, 13.09it/s]\n",
            "  0%|          | 2/468 [00:00<00:34, 13.34it/s]"
          ],
          "name": "stderr"
        },
        {
          "output_type": "stream",
          "text": [
            "--------------- Epoch 108 ---------------\n"
          ],
          "name": "stdout"
        },
        {
          "output_type": "stream",
          "text": [
            "100%|██████████| 468/468 [00:35<00:00, 13.07it/s]\n",
            "  0%|          | 2/468 [00:00<00:35, 13.21it/s]"
          ],
          "name": "stderr"
        },
        {
          "output_type": "stream",
          "text": [
            "--------------- Epoch 109 ---------------\n"
          ],
          "name": "stdout"
        },
        {
          "output_type": "stream",
          "text": [
            "100%|██████████| 468/468 [00:35<00:00, 13.06it/s]\n",
            "  0%|          | 2/468 [00:00<00:35, 13.15it/s]"
          ],
          "name": "stderr"
        },
        {
          "output_type": "stream",
          "text": [
            "--------------- Epoch 110 ---------------\n"
          ],
          "name": "stdout"
        },
        {
          "output_type": "stream",
          "text": [
            "100%|██████████| 468/468 [00:35<00:00, 13.11it/s]\n",
            "  0%|          | 2/468 [00:00<00:36, 12.80it/s]"
          ],
          "name": "stderr"
        },
        {
          "output_type": "stream",
          "text": [
            "--------------- Epoch 111 ---------------\n"
          ],
          "name": "stdout"
        },
        {
          "output_type": "stream",
          "text": [
            "100%|██████████| 468/468 [00:35<00:00, 13.07it/s]\n",
            "  0%|          | 2/468 [00:00<00:34, 13.48it/s]"
          ],
          "name": "stderr"
        },
        {
          "output_type": "stream",
          "text": [
            "--------------- Epoch 112 ---------------\n"
          ],
          "name": "stdout"
        },
        {
          "output_type": "stream",
          "text": [
            "100%|██████████| 468/468 [00:35<00:00, 13.11it/s]\n",
            "  0%|          | 2/468 [00:00<00:34, 13.57it/s]"
          ],
          "name": "stderr"
        },
        {
          "output_type": "stream",
          "text": [
            "--------------- Epoch 113 ---------------\n"
          ],
          "name": "stdout"
        },
        {
          "output_type": "stream",
          "text": [
            "100%|██████████| 468/468 [00:35<00:00, 13.10it/s]\n",
            "  0%|          | 2/468 [00:00<00:34, 13.37it/s]"
          ],
          "name": "stderr"
        },
        {
          "output_type": "stream",
          "text": [
            "--------------- Epoch 114 ---------------\n"
          ],
          "name": "stdout"
        },
        {
          "output_type": "stream",
          "text": [
            "100%|██████████| 468/468 [00:35<00:00, 13.08it/s]\n",
            "  0%|          | 2/468 [00:00<00:35, 13.15it/s]"
          ],
          "name": "stderr"
        },
        {
          "output_type": "stream",
          "text": [
            "--------------- Epoch 115 ---------------\n"
          ],
          "name": "stdout"
        },
        {
          "output_type": "stream",
          "text": [
            "100%|██████████| 468/468 [00:35<00:00, 13.11it/s]\n",
            "  0%|          | 2/468 [00:00<00:34, 13.41it/s]"
          ],
          "name": "stderr"
        },
        {
          "output_type": "stream",
          "text": [
            "--------------- Epoch 116 ---------------\n"
          ],
          "name": "stdout"
        },
        {
          "output_type": "stream",
          "text": [
            "100%|██████████| 468/468 [00:35<00:00, 13.05it/s]\n",
            "  0%|          | 2/468 [00:00<00:34, 13.40it/s]"
          ],
          "name": "stderr"
        },
        {
          "output_type": "stream",
          "text": [
            "--------------- Epoch 117 ---------------\n"
          ],
          "name": "stdout"
        },
        {
          "output_type": "stream",
          "text": [
            "100%|██████████| 468/468 [00:35<00:00, 13.05it/s]\n",
            "  0%|          | 2/468 [00:00<00:35, 13.28it/s]"
          ],
          "name": "stderr"
        },
        {
          "output_type": "stream",
          "text": [
            "--------------- Epoch 118 ---------------\n"
          ],
          "name": "stdout"
        },
        {
          "output_type": "stream",
          "text": [
            "100%|██████████| 468/468 [00:35<00:00, 13.04it/s]\n",
            "  0%|          | 2/468 [00:00<00:34, 13.32it/s]"
          ],
          "name": "stderr"
        },
        {
          "output_type": "stream",
          "text": [
            "--------------- Epoch 119 ---------------\n"
          ],
          "name": "stdout"
        },
        {
          "output_type": "stream",
          "text": [
            "100%|██████████| 468/468 [00:35<00:00, 13.05it/s]\n",
            "  0%|          | 2/468 [00:00<00:34, 13.55it/s]"
          ],
          "name": "stderr"
        },
        {
          "output_type": "stream",
          "text": [
            "--------------- Epoch 120 ---------------\n"
          ],
          "name": "stdout"
        },
        {
          "output_type": "stream",
          "text": [
            "100%|██████████| 468/468 [00:35<00:00, 13.06it/s]\n",
            "  0%|          | 2/468 [00:00<00:35, 13.23it/s]"
          ],
          "name": "stderr"
        },
        {
          "output_type": "stream",
          "text": [
            "--------------- Epoch 121 ---------------\n"
          ],
          "name": "stdout"
        },
        {
          "output_type": "stream",
          "text": [
            "100%|██████████| 468/468 [00:35<00:00, 13.08it/s]\n",
            "  0%|          | 2/468 [00:00<00:36, 12.70it/s]"
          ],
          "name": "stderr"
        },
        {
          "output_type": "stream",
          "text": [
            "--------------- Epoch 122 ---------------\n"
          ],
          "name": "stdout"
        },
        {
          "output_type": "stream",
          "text": [
            "100%|██████████| 468/468 [00:35<00:00, 13.06it/s]\n",
            "  0%|          | 2/468 [00:00<00:35, 13.10it/s]"
          ],
          "name": "stderr"
        },
        {
          "output_type": "stream",
          "text": [
            "--------------- Epoch 123 ---------------\n"
          ],
          "name": "stdout"
        },
        {
          "output_type": "stream",
          "text": [
            "100%|██████████| 468/468 [00:35<00:00, 13.05it/s]\n",
            "  0%|          | 2/468 [00:00<00:34, 13.41it/s]"
          ],
          "name": "stderr"
        },
        {
          "output_type": "stream",
          "text": [
            "--------------- Epoch 124 ---------------\n"
          ],
          "name": "stdout"
        },
        {
          "output_type": "stream",
          "text": [
            "100%|██████████| 468/468 [00:35<00:00, 13.06it/s]\n",
            "  0%|          | 2/468 [00:00<00:35, 13.21it/s]"
          ],
          "name": "stderr"
        },
        {
          "output_type": "stream",
          "text": [
            "--------------- Epoch 125 ---------------\n"
          ],
          "name": "stdout"
        },
        {
          "output_type": "stream",
          "text": [
            "100%|██████████| 468/468 [00:35<00:00, 13.04it/s]\n",
            "  0%|          | 2/468 [00:00<00:35, 13.15it/s]"
          ],
          "name": "stderr"
        },
        {
          "output_type": "stream",
          "text": [
            "--------------- Epoch 126 ---------------\n"
          ],
          "name": "stdout"
        },
        {
          "output_type": "stream",
          "text": [
            "100%|██████████| 468/468 [00:35<00:00, 13.07it/s]\n",
            "  0%|          | 2/468 [00:00<00:35, 13.20it/s]"
          ],
          "name": "stderr"
        },
        {
          "output_type": "stream",
          "text": [
            "--------------- Epoch 127 ---------------\n"
          ],
          "name": "stdout"
        },
        {
          "output_type": "stream",
          "text": [
            "100%|██████████| 468/468 [00:35<00:00, 13.09it/s]\n",
            "  0%|          | 2/468 [00:00<00:34, 13.60it/s]"
          ],
          "name": "stderr"
        },
        {
          "output_type": "stream",
          "text": [
            "--------------- Epoch 128 ---------------\n"
          ],
          "name": "stdout"
        },
        {
          "output_type": "stream",
          "text": [
            "100%|██████████| 468/468 [00:35<00:00, 13.09it/s]\n",
            "  0%|          | 2/468 [00:00<00:33, 13.75it/s]"
          ],
          "name": "stderr"
        },
        {
          "output_type": "stream",
          "text": [
            "--------------- Epoch 129 ---------------\n"
          ],
          "name": "stdout"
        },
        {
          "output_type": "stream",
          "text": [
            "100%|██████████| 468/468 [00:35<00:00, 13.06it/s]\n",
            "  0%|          | 2/468 [00:00<00:34, 13.37it/s]"
          ],
          "name": "stderr"
        },
        {
          "output_type": "stream",
          "text": [
            "--------------- Epoch 130 ---------------\n"
          ],
          "name": "stdout"
        },
        {
          "output_type": "stream",
          "text": [
            "100%|██████████| 468/468 [00:35<00:00, 13.08it/s]\n",
            "  0%|          | 2/468 [00:00<00:35, 13.14it/s]"
          ],
          "name": "stderr"
        },
        {
          "output_type": "stream",
          "text": [
            "--------------- Epoch 131 ---------------\n"
          ],
          "name": "stdout"
        },
        {
          "output_type": "stream",
          "text": [
            "100%|██████████| 468/468 [00:35<00:00, 13.06it/s]\n",
            "  0%|          | 2/468 [00:00<00:36, 12.93it/s]"
          ],
          "name": "stderr"
        },
        {
          "output_type": "stream",
          "text": [
            "--------------- Epoch 132 ---------------\n"
          ],
          "name": "stdout"
        },
        {
          "output_type": "stream",
          "text": [
            "100%|██████████| 468/468 [00:35<00:00, 13.09it/s]\n",
            "  0%|          | 2/468 [00:00<00:35, 13.22it/s]"
          ],
          "name": "stderr"
        },
        {
          "output_type": "stream",
          "text": [
            "--------------- Epoch 133 ---------------\n"
          ],
          "name": "stdout"
        },
        {
          "output_type": "stream",
          "text": [
            "100%|██████████| 468/468 [00:35<00:00, 13.08it/s]\n",
            "  0%|          | 2/468 [00:00<00:35, 13.07it/s]"
          ],
          "name": "stderr"
        },
        {
          "output_type": "stream",
          "text": [
            "--------------- Epoch 134 ---------------\n"
          ],
          "name": "stdout"
        },
        {
          "output_type": "stream",
          "text": [
            "100%|██████████| 468/468 [00:35<00:00, 13.11it/s]\n",
            "  0%|          | 2/468 [00:00<00:36, 12.86it/s]"
          ],
          "name": "stderr"
        },
        {
          "output_type": "stream",
          "text": [
            "--------------- Epoch 135 ---------------\n"
          ],
          "name": "stdout"
        },
        {
          "output_type": "stream",
          "text": [
            "100%|██████████| 468/468 [00:35<00:00, 13.07it/s]\n",
            "  0%|          | 2/468 [00:00<00:34, 13.33it/s]"
          ],
          "name": "stderr"
        },
        {
          "output_type": "stream",
          "text": [
            "--------------- Epoch 136 ---------------\n"
          ],
          "name": "stdout"
        },
        {
          "output_type": "stream",
          "text": [
            "100%|██████████| 468/468 [00:35<00:00, 13.10it/s]\n",
            "  0%|          | 2/468 [00:00<00:35, 13.02it/s]"
          ],
          "name": "stderr"
        },
        {
          "output_type": "stream",
          "text": [
            "--------------- Epoch 137 ---------------\n"
          ],
          "name": "stdout"
        },
        {
          "output_type": "stream",
          "text": [
            "100%|██████████| 468/468 [00:35<00:00, 13.08it/s]\n",
            "  0%|          | 2/468 [00:00<00:34, 13.40it/s]"
          ],
          "name": "stderr"
        },
        {
          "output_type": "stream",
          "text": [
            "--------------- Epoch 138 ---------------\n"
          ],
          "name": "stdout"
        },
        {
          "output_type": "stream",
          "text": [
            "100%|██████████| 468/468 [00:35<00:00, 13.07it/s]\n",
            "  0%|          | 2/468 [00:00<00:35, 13.28it/s]"
          ],
          "name": "stderr"
        },
        {
          "output_type": "stream",
          "text": [
            "--------------- Epoch 139 ---------------\n"
          ],
          "name": "stdout"
        },
        {
          "output_type": "stream",
          "text": [
            "100%|██████████| 468/468 [00:35<00:00, 13.08it/s]\n",
            "  0%|          | 2/468 [00:00<00:35, 13.27it/s]"
          ],
          "name": "stderr"
        },
        {
          "output_type": "stream",
          "text": [
            "--------------- Epoch 140 ---------------\n"
          ],
          "name": "stdout"
        },
        {
          "output_type": "stream",
          "text": [
            "100%|██████████| 468/468 [00:35<00:00, 13.08it/s]\n",
            "  0%|          | 2/468 [00:00<00:35, 13.23it/s]"
          ],
          "name": "stderr"
        },
        {
          "output_type": "stream",
          "text": [
            "--------------- Epoch 141 ---------------\n"
          ],
          "name": "stdout"
        },
        {
          "output_type": "stream",
          "text": [
            "100%|██████████| 468/468 [00:35<00:00, 13.07it/s]\n",
            "  0%|          | 2/468 [00:00<00:36, 12.88it/s]"
          ],
          "name": "stderr"
        },
        {
          "output_type": "stream",
          "text": [
            "--------------- Epoch 142 ---------------\n"
          ],
          "name": "stdout"
        },
        {
          "output_type": "stream",
          "text": [
            "100%|██████████| 468/468 [00:35<00:00, 13.08it/s]\n",
            "  0%|          | 2/468 [00:00<00:36, 12.94it/s]"
          ],
          "name": "stderr"
        },
        {
          "output_type": "stream",
          "text": [
            "--------------- Epoch 143 ---------------\n"
          ],
          "name": "stdout"
        },
        {
          "output_type": "stream",
          "text": [
            "100%|██████████| 468/468 [00:35<00:00, 13.06it/s]\n",
            "  0%|          | 2/468 [00:00<00:34, 13.49it/s]"
          ],
          "name": "stderr"
        },
        {
          "output_type": "stream",
          "text": [
            "--------------- Epoch 144 ---------------\n"
          ],
          "name": "stdout"
        },
        {
          "output_type": "stream",
          "text": [
            "100%|██████████| 468/468 [00:35<00:00, 13.09it/s]\n",
            "  0%|          | 2/468 [00:00<00:36, 12.81it/s]"
          ],
          "name": "stderr"
        },
        {
          "output_type": "stream",
          "text": [
            "--------------- Epoch 145 ---------------\n"
          ],
          "name": "stdout"
        },
        {
          "output_type": "stream",
          "text": [
            "100%|██████████| 468/468 [00:35<00:00, 13.05it/s]\n",
            "  0%|          | 2/468 [00:00<00:35, 13.14it/s]"
          ],
          "name": "stderr"
        },
        {
          "output_type": "stream",
          "text": [
            "--------------- Epoch 146 ---------------\n"
          ],
          "name": "stdout"
        },
        {
          "output_type": "stream",
          "text": [
            "100%|██████████| 468/468 [00:35<00:00, 13.10it/s]\n",
            "  0%|          | 2/468 [00:00<00:36, 12.74it/s]"
          ],
          "name": "stderr"
        },
        {
          "output_type": "stream",
          "text": [
            "--------------- Epoch 147 ---------------\n"
          ],
          "name": "stdout"
        },
        {
          "output_type": "stream",
          "text": [
            "100%|██████████| 468/468 [00:35<00:00, 13.07it/s]\n",
            "  0%|          | 2/468 [00:00<00:34, 13.33it/s]"
          ],
          "name": "stderr"
        },
        {
          "output_type": "stream",
          "text": [
            "--------------- Epoch 148 ---------------\n"
          ],
          "name": "stdout"
        },
        {
          "output_type": "stream",
          "text": [
            "100%|██████████| 468/468 [00:35<00:00, 13.08it/s]\n",
            "  0%|          | 2/468 [00:00<00:35, 13.05it/s]"
          ],
          "name": "stderr"
        },
        {
          "output_type": "stream",
          "text": [
            "--------------- Epoch 149 ---------------\n"
          ],
          "name": "stdout"
        },
        {
          "output_type": "stream",
          "text": [
            "100%|██████████| 468/468 [00:35<00:00, 13.08it/s]\n",
            "  0%|          | 2/468 [00:00<00:35, 13.16it/s]"
          ],
          "name": "stderr"
        },
        {
          "output_type": "stream",
          "text": [
            "--------------- Epoch 150 ---------------\n"
          ],
          "name": "stdout"
        },
        {
          "output_type": "stream",
          "text": [
            "100%|██████████| 468/468 [00:35<00:00, 13.04it/s]\n",
            "  0%|          | 2/468 [00:00<00:35, 13.13it/s]"
          ],
          "name": "stderr"
        },
        {
          "output_type": "stream",
          "text": [
            "--------------- Epoch 151 ---------------\n"
          ],
          "name": "stdout"
        },
        {
          "output_type": "stream",
          "text": [
            "100%|██████████| 468/468 [00:35<00:00, 13.07it/s]\n",
            "  0%|          | 2/468 [00:00<00:36, 12.76it/s]"
          ],
          "name": "stderr"
        },
        {
          "output_type": "stream",
          "text": [
            "--------------- Epoch 152 ---------------\n"
          ],
          "name": "stdout"
        },
        {
          "output_type": "stream",
          "text": [
            "100%|██████████| 468/468 [00:35<00:00, 13.06it/s]\n",
            "  0%|          | 2/468 [00:00<00:35, 13.31it/s]"
          ],
          "name": "stderr"
        },
        {
          "output_type": "stream",
          "text": [
            "--------------- Epoch 153 ---------------\n"
          ],
          "name": "stdout"
        },
        {
          "output_type": "stream",
          "text": [
            "100%|██████████| 468/468 [00:35<00:00, 13.09it/s]\n",
            "  0%|          | 2/468 [00:00<00:36, 12.88it/s]"
          ],
          "name": "stderr"
        },
        {
          "output_type": "stream",
          "text": [
            "--------------- Epoch 154 ---------------\n"
          ],
          "name": "stdout"
        },
        {
          "output_type": "stream",
          "text": [
            "100%|██████████| 468/468 [00:35<00:00, 13.07it/s]\n",
            "  0%|          | 2/468 [00:00<00:35, 13.17it/s]"
          ],
          "name": "stderr"
        },
        {
          "output_type": "stream",
          "text": [
            "--------------- Epoch 155 ---------------\n"
          ],
          "name": "stdout"
        },
        {
          "output_type": "stream",
          "text": [
            "100%|██████████| 468/468 [00:35<00:00, 13.05it/s]\n",
            "  0%|          | 2/468 [00:00<00:34, 13.32it/s]"
          ],
          "name": "stderr"
        },
        {
          "output_type": "stream",
          "text": [
            "--------------- Epoch 156 ---------------\n"
          ],
          "name": "stdout"
        },
        {
          "output_type": "stream",
          "text": [
            "100%|██████████| 468/468 [00:35<00:00, 13.05it/s]\n",
            "  0%|          | 2/468 [00:00<00:34, 13.35it/s]"
          ],
          "name": "stderr"
        },
        {
          "output_type": "stream",
          "text": [
            "--------------- Epoch 157 ---------------\n"
          ],
          "name": "stdout"
        },
        {
          "output_type": "stream",
          "text": [
            "100%|██████████| 468/468 [00:35<00:00, 13.05it/s]\n",
            "  0%|          | 2/468 [00:00<00:34, 13.35it/s]"
          ],
          "name": "stderr"
        },
        {
          "output_type": "stream",
          "text": [
            "--------------- Epoch 158 ---------------\n"
          ],
          "name": "stdout"
        },
        {
          "output_type": "stream",
          "text": [
            "100%|██████████| 468/468 [00:35<00:00, 13.09it/s]\n",
            "  0%|          | 2/468 [00:00<00:34, 13.35it/s]"
          ],
          "name": "stderr"
        },
        {
          "output_type": "stream",
          "text": [
            "--------------- Epoch 159 ---------------\n"
          ],
          "name": "stdout"
        },
        {
          "output_type": "stream",
          "text": [
            "100%|██████████| 468/468 [00:35<00:00, 13.11it/s]\n",
            "  0%|          | 2/468 [00:00<00:34, 13.45it/s]"
          ],
          "name": "stderr"
        },
        {
          "output_type": "stream",
          "text": [
            "--------------- Epoch 160 ---------------\n"
          ],
          "name": "stdout"
        },
        {
          "output_type": "stream",
          "text": [
            "100%|██████████| 468/468 [00:35<00:00, 13.09it/s]\n",
            "  0%|          | 2/468 [00:00<00:35, 13.02it/s]"
          ],
          "name": "stderr"
        },
        {
          "output_type": "stream",
          "text": [
            "--------------- Epoch 161 ---------------\n"
          ],
          "name": "stdout"
        },
        {
          "output_type": "stream",
          "text": [
            "100%|██████████| 468/468 [00:35<00:00, 13.06it/s]\n",
            "  0%|          | 2/468 [00:00<00:36, 12.92it/s]"
          ],
          "name": "stderr"
        },
        {
          "output_type": "stream",
          "text": [
            "--------------- Epoch 162 ---------------\n"
          ],
          "name": "stdout"
        },
        {
          "output_type": "stream",
          "text": [
            "100%|██████████| 468/468 [00:35<00:00, 13.06it/s]\n",
            "  0%|          | 2/468 [00:00<00:35, 13.17it/s]"
          ],
          "name": "stderr"
        },
        {
          "output_type": "stream",
          "text": [
            "--------------- Epoch 163 ---------------\n"
          ],
          "name": "stdout"
        },
        {
          "output_type": "stream",
          "text": [
            "100%|██████████| 468/468 [00:35<00:00, 13.07it/s]\n",
            "  0%|          | 2/468 [00:00<00:34, 13.48it/s]"
          ],
          "name": "stderr"
        },
        {
          "output_type": "stream",
          "text": [
            "--------------- Epoch 164 ---------------\n"
          ],
          "name": "stdout"
        },
        {
          "output_type": "stream",
          "text": [
            "100%|██████████| 468/468 [00:35<00:00, 13.10it/s]\n",
            "  0%|          | 2/468 [00:00<00:35, 13.23it/s]"
          ],
          "name": "stderr"
        },
        {
          "output_type": "stream",
          "text": [
            "--------------- Epoch 165 ---------------\n"
          ],
          "name": "stdout"
        },
        {
          "output_type": "stream",
          "text": [
            "100%|██████████| 468/468 [00:35<00:00, 13.02it/s]\n",
            "  0%|          | 2/468 [00:00<00:35, 12.98it/s]"
          ],
          "name": "stderr"
        },
        {
          "output_type": "stream",
          "text": [
            "--------------- Epoch 166 ---------------\n"
          ],
          "name": "stdout"
        },
        {
          "output_type": "stream",
          "text": [
            "100%|██████████| 468/468 [00:35<00:00, 13.03it/s]\n",
            "  0%|          | 2/468 [00:00<00:35, 13.23it/s]"
          ],
          "name": "stderr"
        },
        {
          "output_type": "stream",
          "text": [
            "--------------- Epoch 167 ---------------\n"
          ],
          "name": "stdout"
        },
        {
          "output_type": "stream",
          "text": [
            "100%|██████████| 468/468 [00:36<00:00, 13.00it/s]\n",
            "  0%|          | 2/468 [00:00<00:37, 12.49it/s]"
          ],
          "name": "stderr"
        },
        {
          "output_type": "stream",
          "text": [
            "--------------- Epoch 168 ---------------\n"
          ],
          "name": "stdout"
        },
        {
          "output_type": "stream",
          "text": [
            "100%|██████████| 468/468 [00:35<00:00, 13.01it/s]\n",
            "  0%|          | 2/468 [00:00<00:36, 12.93it/s]"
          ],
          "name": "stderr"
        },
        {
          "output_type": "stream",
          "text": [
            "--------------- Epoch 169 ---------------\n"
          ],
          "name": "stdout"
        },
        {
          "output_type": "stream",
          "text": [
            "100%|██████████| 468/468 [00:35<00:00, 13.02it/s]\n",
            "  0%|          | 2/468 [00:00<00:35, 13.16it/s]"
          ],
          "name": "stderr"
        },
        {
          "output_type": "stream",
          "text": [
            "--------------- Epoch 170 ---------------\n"
          ],
          "name": "stdout"
        },
        {
          "output_type": "stream",
          "text": [
            "100%|██████████| 468/468 [00:35<00:00, 13.02it/s]\n",
            "  0%|          | 2/468 [00:00<00:35, 13.31it/s]"
          ],
          "name": "stderr"
        },
        {
          "output_type": "stream",
          "text": [
            "--------------- Epoch 171 ---------------\n"
          ],
          "name": "stdout"
        },
        {
          "output_type": "stream",
          "text": [
            "100%|██████████| 468/468 [00:35<00:00, 13.07it/s]\n",
            "  0%|          | 2/468 [00:00<00:35, 13.24it/s]"
          ],
          "name": "stderr"
        },
        {
          "output_type": "stream",
          "text": [
            "--------------- Epoch 172 ---------------\n"
          ],
          "name": "stdout"
        },
        {
          "output_type": "stream",
          "text": [
            "100%|██████████| 468/468 [00:35<00:00, 13.05it/s]\n",
            "  0%|          | 2/468 [00:00<00:35, 13.01it/s]"
          ],
          "name": "stderr"
        },
        {
          "output_type": "stream",
          "text": [
            "--------------- Epoch 173 ---------------\n"
          ],
          "name": "stdout"
        },
        {
          "output_type": "stream",
          "text": [
            "100%|██████████| 468/468 [00:35<00:00, 13.07it/s]\n",
            "  0%|          | 2/468 [00:00<00:36, 12.67it/s]"
          ],
          "name": "stderr"
        },
        {
          "output_type": "stream",
          "text": [
            "--------------- Epoch 174 ---------------\n"
          ],
          "name": "stdout"
        },
        {
          "output_type": "stream",
          "text": [
            "100%|██████████| 468/468 [00:35<00:00, 13.07it/s]\n",
            "  0%|          | 2/468 [00:00<00:34, 13.42it/s]"
          ],
          "name": "stderr"
        },
        {
          "output_type": "stream",
          "text": [
            "--------------- Epoch 175 ---------------\n"
          ],
          "name": "stdout"
        },
        {
          "output_type": "stream",
          "text": [
            "100%|██████████| 468/468 [00:35<00:00, 13.09it/s]\n",
            "  0%|          | 2/468 [00:00<00:34, 13.35it/s]"
          ],
          "name": "stderr"
        },
        {
          "output_type": "stream",
          "text": [
            "--------------- Epoch 176 ---------------\n"
          ],
          "name": "stdout"
        },
        {
          "output_type": "stream",
          "text": [
            "100%|██████████| 468/468 [00:35<00:00, 13.08it/s]\n",
            "  0%|          | 2/468 [00:00<00:34, 13.38it/s]"
          ],
          "name": "stderr"
        },
        {
          "output_type": "stream",
          "text": [
            "--------------- Epoch 177 ---------------\n"
          ],
          "name": "stdout"
        },
        {
          "output_type": "stream",
          "text": [
            "100%|██████████| 468/468 [00:35<00:00, 13.08it/s]\n",
            "  0%|          | 2/468 [00:00<00:36, 12.87it/s]"
          ],
          "name": "stderr"
        },
        {
          "output_type": "stream",
          "text": [
            "--------------- Epoch 178 ---------------\n"
          ],
          "name": "stdout"
        },
        {
          "output_type": "stream",
          "text": [
            "100%|██████████| 468/468 [00:35<00:00, 13.10it/s]\n",
            "  0%|          | 2/468 [00:00<00:34, 13.33it/s]"
          ],
          "name": "stderr"
        },
        {
          "output_type": "stream",
          "text": [
            "--------------- Epoch 179 ---------------\n"
          ],
          "name": "stdout"
        },
        {
          "output_type": "stream",
          "text": [
            "100%|██████████| 468/468 [00:35<00:00, 13.10it/s]\n",
            "  0%|          | 2/468 [00:00<00:35, 13.09it/s]"
          ],
          "name": "stderr"
        },
        {
          "output_type": "stream",
          "text": [
            "--------------- Epoch 180 ---------------\n"
          ],
          "name": "stdout"
        },
        {
          "output_type": "stream",
          "text": [
            "100%|██████████| 468/468 [00:35<00:00, 13.09it/s]\n",
            "  0%|          | 2/468 [00:00<00:36, 12.94it/s]"
          ],
          "name": "stderr"
        },
        {
          "output_type": "stream",
          "text": [
            "--------------- Epoch 181 ---------------\n"
          ],
          "name": "stdout"
        },
        {
          "output_type": "stream",
          "text": [
            "100%|██████████| 468/468 [00:35<00:00, 13.08it/s]\n",
            "  0%|          | 2/468 [00:00<00:37, 12.40it/s]"
          ],
          "name": "stderr"
        },
        {
          "output_type": "stream",
          "text": [
            "--------------- Epoch 182 ---------------\n"
          ],
          "name": "stdout"
        },
        {
          "output_type": "stream",
          "text": [
            "100%|██████████| 468/468 [00:35<00:00, 13.08it/s]\n",
            "  0%|          | 2/468 [00:00<00:35, 13.01it/s]"
          ],
          "name": "stderr"
        },
        {
          "output_type": "stream",
          "text": [
            "--------------- Epoch 183 ---------------\n"
          ],
          "name": "stdout"
        },
        {
          "output_type": "stream",
          "text": [
            "100%|██████████| 468/468 [00:35<00:00, 13.08it/s]\n",
            "  0%|          | 2/468 [00:00<00:35, 13.22it/s]"
          ],
          "name": "stderr"
        },
        {
          "output_type": "stream",
          "text": [
            "--------------- Epoch 184 ---------------\n"
          ],
          "name": "stdout"
        },
        {
          "output_type": "stream",
          "text": [
            "100%|██████████| 468/468 [00:35<00:00, 13.11it/s]\n",
            "  0%|          | 2/468 [00:00<00:35, 13.17it/s]"
          ],
          "name": "stderr"
        },
        {
          "output_type": "stream",
          "text": [
            "--------------- Epoch 185 ---------------\n"
          ],
          "name": "stdout"
        },
        {
          "output_type": "stream",
          "text": [
            "100%|██████████| 468/468 [00:35<00:00, 13.10it/s]\n",
            "  0%|          | 2/468 [00:00<00:35, 13.21it/s]"
          ],
          "name": "stderr"
        },
        {
          "output_type": "stream",
          "text": [
            "--------------- Epoch 186 ---------------\n"
          ],
          "name": "stdout"
        },
        {
          "output_type": "stream",
          "text": [
            "100%|██████████| 468/468 [00:35<00:00, 13.03it/s]\n",
            "  0%|          | 2/468 [00:00<00:36, 12.86it/s]"
          ],
          "name": "stderr"
        },
        {
          "output_type": "stream",
          "text": [
            "--------------- Epoch 187 ---------------\n"
          ],
          "name": "stdout"
        },
        {
          "output_type": "stream",
          "text": [
            "100%|██████████| 468/468 [00:35<00:00, 13.02it/s]\n",
            "  0%|          | 2/468 [00:00<00:35, 13.25it/s]"
          ],
          "name": "stderr"
        },
        {
          "output_type": "stream",
          "text": [
            "--------------- Epoch 188 ---------------\n"
          ],
          "name": "stdout"
        },
        {
          "output_type": "stream",
          "text": [
            "100%|██████████| 468/468 [00:35<00:00, 13.08it/s]\n",
            "  0%|          | 2/468 [00:00<00:34, 13.43it/s]"
          ],
          "name": "stderr"
        },
        {
          "output_type": "stream",
          "text": [
            "--------------- Epoch 189 ---------------\n"
          ],
          "name": "stdout"
        },
        {
          "output_type": "stream",
          "text": [
            "100%|██████████| 468/468 [00:35<00:00, 13.07it/s]\n",
            "  0%|          | 2/468 [00:00<00:34, 13.32it/s]"
          ],
          "name": "stderr"
        },
        {
          "output_type": "stream",
          "text": [
            "--------------- Epoch 190 ---------------\n"
          ],
          "name": "stdout"
        },
        {
          "output_type": "stream",
          "text": [
            "100%|██████████| 468/468 [00:35<00:00, 13.07it/s]\n",
            "  0%|          | 2/468 [00:00<00:35, 13.02it/s]"
          ],
          "name": "stderr"
        },
        {
          "output_type": "stream",
          "text": [
            "--------------- Epoch 191 ---------------\n"
          ],
          "name": "stdout"
        },
        {
          "output_type": "stream",
          "text": [
            "100%|██████████| 468/468 [00:35<00:00, 13.11it/s]\n",
            "  0%|          | 2/468 [00:00<00:34, 13.52it/s]"
          ],
          "name": "stderr"
        },
        {
          "output_type": "stream",
          "text": [
            "--------------- Epoch 192 ---------------\n"
          ],
          "name": "stdout"
        },
        {
          "output_type": "stream",
          "text": [
            "100%|██████████| 468/468 [00:35<00:00, 13.10it/s]\n",
            "  0%|          | 2/468 [00:00<00:35, 13.25it/s]"
          ],
          "name": "stderr"
        },
        {
          "output_type": "stream",
          "text": [
            "--------------- Epoch 193 ---------------\n"
          ],
          "name": "stdout"
        },
        {
          "output_type": "stream",
          "text": [
            "100%|██████████| 468/468 [00:35<00:00, 13.07it/s]\n",
            "  0%|          | 2/468 [00:00<00:35, 13.20it/s]"
          ],
          "name": "stderr"
        },
        {
          "output_type": "stream",
          "text": [
            "--------------- Epoch 194 ---------------\n"
          ],
          "name": "stdout"
        },
        {
          "output_type": "stream",
          "text": [
            "100%|██████████| 468/468 [00:35<00:00, 13.04it/s]\n",
            "  0%|          | 2/468 [00:00<00:34, 13.42it/s]"
          ],
          "name": "stderr"
        },
        {
          "output_type": "stream",
          "text": [
            "--------------- Epoch 195 ---------------\n"
          ],
          "name": "stdout"
        },
        {
          "output_type": "stream",
          "text": [
            "100%|██████████| 468/468 [00:35<00:00, 13.07it/s]\n",
            "  0%|          | 2/468 [00:00<00:34, 13.53it/s]"
          ],
          "name": "stderr"
        },
        {
          "output_type": "stream",
          "text": [
            "--------------- Epoch 196 ---------------\n"
          ],
          "name": "stdout"
        },
        {
          "output_type": "stream",
          "text": [
            "100%|██████████| 468/468 [00:35<00:00, 13.09it/s]\n",
            "  0%|          | 2/468 [00:00<00:35, 13.19it/s]"
          ],
          "name": "stderr"
        },
        {
          "output_type": "stream",
          "text": [
            "--------------- Epoch 197 ---------------\n"
          ],
          "name": "stdout"
        },
        {
          "output_type": "stream",
          "text": [
            "100%|██████████| 468/468 [00:35<00:00, 13.09it/s]\n",
            "  0%|          | 2/468 [00:00<00:35, 13.20it/s]"
          ],
          "name": "stderr"
        },
        {
          "output_type": "stream",
          "text": [
            "--------------- Epoch 198 ---------------\n"
          ],
          "name": "stdout"
        },
        {
          "output_type": "stream",
          "text": [
            "100%|██████████| 468/468 [00:35<00:00, 13.08it/s]\n",
            "  0%|          | 2/468 [00:00<00:34, 13.42it/s]"
          ],
          "name": "stderr"
        },
        {
          "output_type": "stream",
          "text": [
            "--------------- Epoch 199 ---------------\n"
          ],
          "name": "stdout"
        },
        {
          "output_type": "stream",
          "text": [
            "100%|██████████| 468/468 [00:35<00:00, 13.07it/s]\n",
            "  0%|          | 2/468 [00:00<00:34, 13.39it/s]"
          ],
          "name": "stderr"
        },
        {
          "output_type": "stream",
          "text": [
            "--------------- Epoch 200 ---------------\n"
          ],
          "name": "stdout"
        },
        {
          "output_type": "stream",
          "text": [
            "100%|██████████| 468/468 [00:35<00:00, 13.11it/s]\n"
          ],
          "name": "stderr"
        }
      ]
    },
    {
      "metadata": {
        "id": "8AD2ceUrx-O3",
        "colab_type": "code",
        "colab": {
          "autoexec": {
            "startup": false,
            "wait_interval": 0
          },
          "base_uri": "https://localhost:8080/",
          "height": 34
        },
        "outputId": "ecd9ba36-8f4f-4dd8-ef32-04c7aa0b643b",
        "executionInfo": {
          "status": "ok",
          "timestamp": 1524196877702,
          "user_tz": -120,
          "elapsed": 687,
          "user": {
            "displayName": "nourhene chaalia",
            "photoUrl": "https://lh3.googleusercontent.com/a/default-user=s128",
            "userId": "100626486300945214800"
          }
        }
      },
      "cell_type": "code",
      "source": [
        "len(resultat)"
      ],
      "execution_count": 8,
      "outputs": [
        {
          "output_type": "execute_result",
          "data": {
            "text/plain": [
              "20000"
            ]
          },
          "metadata": {
            "tags": []
          },
          "execution_count": 8
        }
      ]
    },
    {
      "metadata": {
        "id": "WNjjTeVvOb3S",
        "colab_type": "text"
      },
      "cell_type": "markdown",
      "source": [
        "# GAN Dense"
      ]
    },
    {
      "metadata": {
        "id": "Xj-1r4Bi_PiN",
        "colab_type": "code",
        "colab": {
          "autoexec": {
            "startup": false,
            "wait_interval": 0
          },
          "base_uri": "https://localhost:8080/",
          "height": 6868
        },
        "outputId": "b4bdbde0-250b-4f29-8e5c-afa592be4a2a",
        "executionInfo": {
          "status": "ok",
          "timestamp": 1524199662790,
          "user_tz": -120,
          "elapsed": 2784843,
          "user": {
            "displayName": "nourhene chaalia",
            "photoUrl": "https://lh3.googleusercontent.com/a/default-user=s128",
            "userId": "100626486300945214800"
          }
        }
      },
      "cell_type": "code",
      "source": [
        "X_train = X_train.reshape(60000, 784)\n",
        "\n",
        "# Optimizer\n",
        "adam = Adam(lr=0.0002, beta_1=0.5)\n",
        "\n",
        "generator = Sequential()\n",
        "generator.add(Dense(256, input_dim=randomDim, kernel_initializer=initializers.RandomNormal(stddev=0.02)))\n",
        "generator.add(LeakyReLU(0.2))\n",
        "generator.add(Dense(512))\n",
        "generator.add(LeakyReLU(0.2))\n",
        "generator.add(Dense(1024))\n",
        "generator.add(LeakyReLU(0.2))\n",
        "generator.add(Dense(784, activation='tanh'))\n",
        "generator.compile(loss='binary_crossentropy', optimizer=adam)\n",
        "\n",
        "discriminator = Sequential()\n",
        "discriminator.add(Dense(1024, input_dim=784, kernel_initializer=initializers.RandomNormal(stddev=0.02)))\n",
        "discriminator.add(LeakyReLU(0.2))\n",
        "discriminator.add(Dropout(0.3))\n",
        "discriminator.add(Dense(512))\n",
        "discriminator.add(LeakyReLU(0.2))\n",
        "discriminator.add(Dropout(0.3))\n",
        "discriminator.add(Dense(256))\n",
        "discriminator.add(LeakyReLU(0.2))\n",
        "discriminator.add(Dropout(0.3))\n",
        "discriminator.add(Dense(1, activation='sigmoid'))\n",
        "discriminator.compile(loss='binary_crossentropy', optimizer=adam)\n",
        "\n",
        "# Combined network\n",
        "discriminator.trainable = False\n",
        "ganInput = Input(shape=(randomDim,))\n",
        "x = generator(ganInput)\n",
        "ganOutput = discriminator(x)\n",
        "gan = Model(inputs=ganInput, outputs=ganOutput)\n",
        "gan.compile(loss='binary_crossentropy', optimizer=adam)\n",
        "\n",
        "dLosses = []\n",
        "gLosses = []\n",
        "# Plot the loss from each batch\n",
        "def plotLoss(epoch):\n",
        "    plt.figure(figsize=(10, 8))\n",
        "    plt.plot(dLosses, label='Discriminitive loss')\n",
        "    plt.plot(gLosses, label='Generative loss')\n",
        "    plt.xlabel('Epoch')\n",
        "    plt.ylabel('Loss')\n",
        "    plt.legend()\n",
        "    plt.savefig('gan_loss_epoch_%d.png' % epoch)\n",
        "\n",
        "# Create a wall of generated MNIST images\n",
        "def plotGeneratedImages(epoch, examples=100, dim=(10, 10), figsize=(10, 10)):\n",
        "    noise = np.random.normal(0, 1, size=[examples, randomDim])\n",
        "    generatedImages = generator.predict(noise)\n",
        "    generatedImages = generatedImages.reshape(examples, 28, 28)\n",
        "    generatedImages1=generatedImages.reshape(examples, 28*28)\n",
        "    result=discriminator.predict(generatedImages1)\n",
        "    for i in range(examples): \n",
        "      dossier.append(generatedImages[i,:,:])\n",
        "      resultat.append(result[i][0])\n",
        "\n",
        "   # plt.figure(figsize=figsize)\n",
        "    #for i in range(generatedImages.shape[0]):\n",
        "     #   plt.subplot(dim[0], dim[1], i+1)\n",
        "      #  plt.imshow(generatedImages[i], interpolation='nearest', cmap='gray_r')\n",
        "       # plt.axis('off')\n",
        "   # plt.tight_layout()\n",
        "    #plt.savefig('gan_generated_image_epoch_%d.png' % epoch)\n",
        "\n",
        "# Save the generator and discriminator networks (and weights) for later use\n",
        "def saveModels(epoch):\n",
        "    generator.save('gan_generator_epoch_%d.h5' % epoch)\n",
        "    discriminator.save('gan_discriminator_epoch_%d.h5' % epoch)\n",
        "\n",
        "def train(epochs=1, batchSize=128):\n",
        "    batchCount = X_train.shape[0] / batchSize\n",
        "    print 'Epochs:', epochs\n",
        "    print 'Batch size:', batchSize\n",
        "    print 'Batches per epoch:', batchCount\n",
        "\n",
        "    for e in xrange(1, epochs+1):\n",
        "        print '-'*15, 'Epoch %d' % e, '-'*15\n",
        "        for _ in tqdm(xrange(batchCount)):\n",
        "            # Get a random set of input noise and images\n",
        "            noise = np.random.normal(0, 1, size=[batchSize, randomDim])\n",
        "            imageBatch = X_train[np.random.randint(0, X_train.shape[0], size=batchSize)]\n",
        "\n",
        "            # Generate fake MNIST images\n",
        "            generatedImages = generator.predict(noise)\n",
        "            # print np.shape(imageBatch), np.shape(generatedImages)\n",
        "            X = np.concatenate([imageBatch, generatedImages])\n",
        "\n",
        "            # Labels for generated and real data\n",
        "            yDis = np.zeros(2*batchSize)\n",
        "            # One-sided label smoothing\n",
        "            yDis[:batchSize] = 0.9\n",
        "\n",
        "            # Train discriminator\n",
        "            discriminator.trainable = True\n",
        "            dloss = discriminator.train_on_batch(X, yDis)\n",
        "\n",
        "            # Train generator\n",
        "            noise = np.random.normal(0, 1, size=[batchSize, randomDim])\n",
        "            yGen = np.ones(batchSize)\n",
        "            discriminator.trainable = False\n",
        "            gloss = gan.train_on_batch(noise, yGen)\n",
        "\n",
        "        # Store loss of most recent batch from this epoch\n",
        "        dLosses.append(dloss)\n",
        "        gLosses.append(gloss)\n",
        "        \n",
        "       # if e == 1 or e % 20 == 0:\n",
        "        plotGeneratedImages(e)\n",
        "       # saveModels(e)\n",
        "\n",
        "    # Plot losses from every epoch\n",
        "    #plotLoss(e)\n",
        "\n",
        "if __name__ == '__main__':\n",
        "    train(200, 128)\n"
      ],
      "execution_count": 9,
      "outputs": [
        {
          "output_type": "stream",
          "text": [
            "\r  0%|          | 0/468 [00:00<?, ?it/s]"
          ],
          "name": "stderr"
        },
        {
          "output_type": "stream",
          "text": [
            "Epochs: 200\n",
            "Batch size: 128\n",
            "Batches per epoch: 468\n",
            "--------------- Epoch 1 ---------------\n"
          ],
          "name": "stdout"
        },
        {
          "output_type": "stream",
          "text": [
            "100%|██████████| 468/468 [00:15<00:00, 29.52it/s]\n",
            "  1%|          | 4/468 [00:00<00:14, 31.56it/s]"
          ],
          "name": "stderr"
        },
        {
          "output_type": "stream",
          "text": [
            "--------------- Epoch 2 ---------------\n"
          ],
          "name": "stdout"
        },
        {
          "output_type": "stream",
          "text": [
            "100%|██████████| 468/468 [00:13<00:00, 33.63it/s]\n",
            "  1%|          | 4/468 [00:00<00:13, 34.59it/s]"
          ],
          "name": "stderr"
        },
        {
          "output_type": "stream",
          "text": [
            "--------------- Epoch 3 ---------------\n"
          ],
          "name": "stdout"
        },
        {
          "output_type": "stream",
          "text": [
            "100%|██████████| 468/468 [00:13<00:00, 33.80it/s]\n",
            "  1%|          | 4/468 [00:00<00:12, 36.19it/s]"
          ],
          "name": "stderr"
        },
        {
          "output_type": "stream",
          "text": [
            "--------------- Epoch 4 ---------------\n"
          ],
          "name": "stdout"
        },
        {
          "output_type": "stream",
          "text": [
            "100%|██████████| 468/468 [00:13<00:00, 33.77it/s]\n",
            "  1%|          | 4/468 [00:00<00:13, 34.19it/s]"
          ],
          "name": "stderr"
        },
        {
          "output_type": "stream",
          "text": [
            "--------------- Epoch 5 ---------------\n"
          ],
          "name": "stdout"
        },
        {
          "output_type": "stream",
          "text": [
            "100%|██████████| 468/468 [00:13<00:00, 33.77it/s]\n",
            "  1%|          | 4/468 [00:00<00:14, 32.81it/s]"
          ],
          "name": "stderr"
        },
        {
          "output_type": "stream",
          "text": [
            "--------------- Epoch 6 ---------------\n"
          ],
          "name": "stdout"
        },
        {
          "output_type": "stream",
          "text": [
            "100%|██████████| 468/468 [00:13<00:00, 33.93it/s]\n",
            "  1%|          | 4/468 [00:00<00:13, 33.47it/s]"
          ],
          "name": "stderr"
        },
        {
          "output_type": "stream",
          "text": [
            "--------------- Epoch 7 ---------------\n"
          ],
          "name": "stdout"
        },
        {
          "output_type": "stream",
          "text": [
            "100%|██████████| 468/468 [00:13<00:00, 33.86it/s]\n",
            "  1%|          | 4/468 [00:00<00:13, 35.02it/s]"
          ],
          "name": "stderr"
        },
        {
          "output_type": "stream",
          "text": [
            "--------------- Epoch 8 ---------------\n"
          ],
          "name": "stdout"
        },
        {
          "output_type": "stream",
          "text": [
            "100%|██████████| 468/468 [00:13<00:00, 33.87it/s]\n",
            "  1%|          | 4/468 [00:00<00:13, 35.38it/s]"
          ],
          "name": "stderr"
        },
        {
          "output_type": "stream",
          "text": [
            "--------------- Epoch 9 ---------------\n"
          ],
          "name": "stdout"
        },
        {
          "output_type": "stream",
          "text": [
            "100%|██████████| 468/468 [00:13<00:00, 33.62it/s]\n",
            "  1%|          | 4/468 [00:00<00:13, 34.69it/s]"
          ],
          "name": "stderr"
        },
        {
          "output_type": "stream",
          "text": [
            "--------------- Epoch 10 ---------------\n"
          ],
          "name": "stdout"
        },
        {
          "output_type": "stream",
          "text": [
            "100%|██████████| 468/468 [00:13<00:00, 33.60it/s]\n",
            "  1%|          | 4/468 [00:00<00:13, 33.38it/s]"
          ],
          "name": "stderr"
        },
        {
          "output_type": "stream",
          "text": [
            "--------------- Epoch 11 ---------------\n"
          ],
          "name": "stdout"
        },
        {
          "output_type": "stream",
          "text": [
            "100%|██████████| 468/468 [00:13<00:00, 33.73it/s]\n",
            "  1%|          | 4/468 [00:00<00:13, 34.37it/s]"
          ],
          "name": "stderr"
        },
        {
          "output_type": "stream",
          "text": [
            "--------------- Epoch 12 ---------------\n"
          ],
          "name": "stdout"
        },
        {
          "output_type": "stream",
          "text": [
            "100%|██████████| 468/468 [00:13<00:00, 33.69it/s]\n",
            "  1%|          | 4/468 [00:00<00:14, 32.92it/s]"
          ],
          "name": "stderr"
        },
        {
          "output_type": "stream",
          "text": [
            "--------------- Epoch 13 ---------------\n"
          ],
          "name": "stdout"
        },
        {
          "output_type": "stream",
          "text": [
            "100%|██████████| 468/468 [00:13<00:00, 33.70it/s]\n",
            "  1%|          | 4/468 [00:00<00:13, 33.73it/s]"
          ],
          "name": "stderr"
        },
        {
          "output_type": "stream",
          "text": [
            "--------------- Epoch 14 ---------------\n"
          ],
          "name": "stdout"
        },
        {
          "output_type": "stream",
          "text": [
            "100%|██████████| 468/468 [00:13<00:00, 33.61it/s]\n",
            "  1%|          | 4/468 [00:00<00:13, 33.26it/s]"
          ],
          "name": "stderr"
        },
        {
          "output_type": "stream",
          "text": [
            "--------------- Epoch 15 ---------------\n"
          ],
          "name": "stdout"
        },
        {
          "output_type": "stream",
          "text": [
            "100%|██████████| 468/468 [00:13<00:00, 33.77it/s]\n",
            "  1%|          | 4/468 [00:00<00:13, 33.40it/s]"
          ],
          "name": "stderr"
        },
        {
          "output_type": "stream",
          "text": [
            "--------------- Epoch 16 ---------------\n"
          ],
          "name": "stdout"
        },
        {
          "output_type": "stream",
          "text": [
            "100%|██████████| 468/468 [00:13<00:00, 33.58it/s]\n",
            "  1%|          | 4/468 [00:00<00:13, 34.54it/s]"
          ],
          "name": "stderr"
        },
        {
          "output_type": "stream",
          "text": [
            "--------------- Epoch 17 ---------------\n"
          ],
          "name": "stdout"
        },
        {
          "output_type": "stream",
          "text": [
            "100%|██████████| 468/468 [00:13<00:00, 33.70it/s]\n",
            "  1%|          | 4/468 [00:00<00:13, 33.28it/s]"
          ],
          "name": "stderr"
        },
        {
          "output_type": "stream",
          "text": [
            "--------------- Epoch 18 ---------------\n"
          ],
          "name": "stdout"
        },
        {
          "output_type": "stream",
          "text": [
            "100%|██████████| 468/468 [00:13<00:00, 33.56it/s]\n",
            "  1%|          | 4/468 [00:00<00:13, 34.19it/s]"
          ],
          "name": "stderr"
        },
        {
          "output_type": "stream",
          "text": [
            "--------------- Epoch 19 ---------------\n"
          ],
          "name": "stdout"
        },
        {
          "output_type": "stream",
          "text": [
            "100%|██████████| 468/468 [00:13<00:00, 33.45it/s]\n",
            "  1%|          | 4/468 [00:00<00:13, 33.89it/s]"
          ],
          "name": "stderr"
        },
        {
          "output_type": "stream",
          "text": [
            "--------------- Epoch 20 ---------------\n"
          ],
          "name": "stdout"
        },
        {
          "output_type": "stream",
          "text": [
            "100%|██████████| 468/468 [00:13<00:00, 33.67it/s]\n",
            "  1%|          | 4/468 [00:00<00:13, 33.40it/s]"
          ],
          "name": "stderr"
        },
        {
          "output_type": "stream",
          "text": [
            "--------------- Epoch 21 ---------------\n"
          ],
          "name": "stdout"
        },
        {
          "output_type": "stream",
          "text": [
            "100%|██████████| 468/468 [00:13<00:00, 33.68it/s]\n",
            "  1%|          | 4/468 [00:00<00:14, 33.13it/s]"
          ],
          "name": "stderr"
        },
        {
          "output_type": "stream",
          "text": [
            "--------------- Epoch 22 ---------------\n"
          ],
          "name": "stdout"
        },
        {
          "output_type": "stream",
          "text": [
            "100%|██████████| 468/468 [00:13<00:00, 33.63it/s]\n",
            "  1%|          | 4/468 [00:00<00:14, 32.62it/s]"
          ],
          "name": "stderr"
        },
        {
          "output_type": "stream",
          "text": [
            "--------------- Epoch 23 ---------------\n"
          ],
          "name": "stdout"
        },
        {
          "output_type": "stream",
          "text": [
            "100%|██████████| 468/468 [00:13<00:00, 33.60it/s]\n",
            "  1%|          | 4/468 [00:00<00:13, 33.89it/s]"
          ],
          "name": "stderr"
        },
        {
          "output_type": "stream",
          "text": [
            "--------------- Epoch 24 ---------------\n"
          ],
          "name": "stdout"
        },
        {
          "output_type": "stream",
          "text": [
            "100%|██████████| 468/468 [00:13<00:00, 33.46it/s]\n",
            "  1%|          | 4/468 [00:00<00:13, 34.59it/s]"
          ],
          "name": "stderr"
        },
        {
          "output_type": "stream",
          "text": [
            "--------------- Epoch 25 ---------------\n"
          ],
          "name": "stdout"
        },
        {
          "output_type": "stream",
          "text": [
            "100%|██████████| 468/468 [00:13<00:00, 33.56it/s]\n",
            "  1%|          | 4/468 [00:00<00:13, 33.53it/s]"
          ],
          "name": "stderr"
        },
        {
          "output_type": "stream",
          "text": [
            "--------------- Epoch 26 ---------------\n"
          ],
          "name": "stdout"
        },
        {
          "output_type": "stream",
          "text": [
            "100%|██████████| 468/468 [00:13<00:00, 33.65it/s]\n",
            "  1%|          | 4/468 [00:00<00:14, 32.75it/s]"
          ],
          "name": "stderr"
        },
        {
          "output_type": "stream",
          "text": [
            "--------------- Epoch 27 ---------------\n"
          ],
          "name": "stdout"
        },
        {
          "output_type": "stream",
          "text": [
            "100%|██████████| 468/468 [00:13<00:00, 33.66it/s]\n",
            "  1%|          | 4/468 [00:00<00:13, 34.32it/s]"
          ],
          "name": "stderr"
        },
        {
          "output_type": "stream",
          "text": [
            "--------------- Epoch 28 ---------------\n"
          ],
          "name": "stdout"
        },
        {
          "output_type": "stream",
          "text": [
            "100%|██████████| 468/468 [00:13<00:00, 33.55it/s]\n",
            "  1%|          | 4/468 [00:00<00:13, 33.78it/s]"
          ],
          "name": "stderr"
        },
        {
          "output_type": "stream",
          "text": [
            "--------------- Epoch 29 ---------------\n"
          ],
          "name": "stdout"
        },
        {
          "output_type": "stream",
          "text": [
            "100%|██████████| 468/468 [00:13<00:00, 33.53it/s]\n",
            "  1%|          | 4/468 [00:00<00:14, 32.92it/s]"
          ],
          "name": "stderr"
        },
        {
          "output_type": "stream",
          "text": [
            "--------------- Epoch 30 ---------------\n"
          ],
          "name": "stdout"
        },
        {
          "output_type": "stream",
          "text": [
            "100%|██████████| 468/468 [00:13<00:00, 33.59it/s]\n",
            "  1%|          | 4/468 [00:00<00:13, 33.27it/s]"
          ],
          "name": "stderr"
        },
        {
          "output_type": "stream",
          "text": [
            "--------------- Epoch 31 ---------------\n"
          ],
          "name": "stdout"
        },
        {
          "output_type": "stream",
          "text": [
            "100%|██████████| 468/468 [00:13<00:00, 33.56it/s]\n",
            "  1%|          | 4/468 [00:00<00:12, 35.72it/s]"
          ],
          "name": "stderr"
        },
        {
          "output_type": "stream",
          "text": [
            "--------------- Epoch 32 ---------------\n"
          ],
          "name": "stdout"
        },
        {
          "output_type": "stream",
          "text": [
            "100%|██████████| 468/468 [00:13<00:00, 33.62it/s]\n",
            "  1%|          | 4/468 [00:00<00:14, 32.52it/s]"
          ],
          "name": "stderr"
        },
        {
          "output_type": "stream",
          "text": [
            "--------------- Epoch 33 ---------------\n"
          ],
          "name": "stdout"
        },
        {
          "output_type": "stream",
          "text": [
            "100%|██████████| 468/468 [00:13<00:00, 33.58it/s]\n",
            "  1%|          | 4/468 [00:00<00:13, 33.15it/s]"
          ],
          "name": "stderr"
        },
        {
          "output_type": "stream",
          "text": [
            "--------------- Epoch 34 ---------------\n"
          ],
          "name": "stdout"
        },
        {
          "output_type": "stream",
          "text": [
            "100%|██████████| 468/468 [00:13<00:00, 33.70it/s]\n",
            "  1%|          | 4/468 [00:00<00:13, 34.19it/s]"
          ],
          "name": "stderr"
        },
        {
          "output_type": "stream",
          "text": [
            "--------------- Epoch 35 ---------------\n"
          ],
          "name": "stdout"
        },
        {
          "output_type": "stream",
          "text": [
            "100%|██████████| 468/468 [00:13<00:00, 33.69it/s]\n",
            "  1%|          | 4/468 [00:00<00:13, 33.21it/s]"
          ],
          "name": "stderr"
        },
        {
          "output_type": "stream",
          "text": [
            "--------------- Epoch 36 ---------------\n"
          ],
          "name": "stdout"
        },
        {
          "output_type": "stream",
          "text": [
            "100%|██████████| 468/468 [00:13<00:00, 33.75it/s]\n",
            "  1%|          | 4/468 [00:00<00:13, 33.77it/s]"
          ],
          "name": "stderr"
        },
        {
          "output_type": "stream",
          "text": [
            "--------------- Epoch 37 ---------------\n"
          ],
          "name": "stdout"
        },
        {
          "output_type": "stream",
          "text": [
            "100%|██████████| 468/468 [00:13<00:00, 33.85it/s]\n",
            "  1%|          | 4/468 [00:00<00:13, 34.92it/s]"
          ],
          "name": "stderr"
        },
        {
          "output_type": "stream",
          "text": [
            "--------------- Epoch 38 ---------------\n"
          ],
          "name": "stdout"
        },
        {
          "output_type": "stream",
          "text": [
            "100%|██████████| 468/468 [00:13<00:00, 33.67it/s]\n",
            "  1%|          | 4/468 [00:00<00:13, 35.66it/s]"
          ],
          "name": "stderr"
        },
        {
          "output_type": "stream",
          "text": [
            "--------------- Epoch 39 ---------------\n"
          ],
          "name": "stdout"
        },
        {
          "output_type": "stream",
          "text": [
            "100%|██████████| 468/468 [00:13<00:00, 33.74it/s]\n",
            "  1%|          | 4/468 [00:00<00:13, 34.46it/s]"
          ],
          "name": "stderr"
        },
        {
          "output_type": "stream",
          "text": [
            "--------------- Epoch 40 ---------------\n"
          ],
          "name": "stdout"
        },
        {
          "output_type": "stream",
          "text": [
            "100%|██████████| 468/468 [00:13<00:00, 33.72it/s]\n",
            "  1%|          | 4/468 [00:00<00:13, 33.90it/s]"
          ],
          "name": "stderr"
        },
        {
          "output_type": "stream",
          "text": [
            "--------------- Epoch 41 ---------------\n"
          ],
          "name": "stdout"
        },
        {
          "output_type": "stream",
          "text": [
            "100%|██████████| 468/468 [00:13<00:00, 33.67it/s]\n",
            "  1%|          | 4/468 [00:00<00:13, 33.25it/s]"
          ],
          "name": "stderr"
        },
        {
          "output_type": "stream",
          "text": [
            "--------------- Epoch 42 ---------------\n"
          ],
          "name": "stdout"
        },
        {
          "output_type": "stream",
          "text": [
            "100%|██████████| 468/468 [00:13<00:00, 33.75it/s]\n",
            "  1%|          | 4/468 [00:00<00:13, 34.09it/s]"
          ],
          "name": "stderr"
        },
        {
          "output_type": "stream",
          "text": [
            "--------------- Epoch 43 ---------------\n"
          ],
          "name": "stdout"
        },
        {
          "output_type": "stream",
          "text": [
            "100%|██████████| 468/468 [00:13<00:00, 33.71it/s]\n",
            "  1%|          | 4/468 [00:00<00:13, 34.77it/s]"
          ],
          "name": "stderr"
        },
        {
          "output_type": "stream",
          "text": [
            "--------------- Epoch 44 ---------------\n"
          ],
          "name": "stdout"
        },
        {
          "output_type": "stream",
          "text": [
            "100%|██████████| 468/468 [00:13<00:00, 33.62it/s]\n",
            "  1%|          | 4/468 [00:00<00:13, 34.08it/s]"
          ],
          "name": "stderr"
        },
        {
          "output_type": "stream",
          "text": [
            "--------------- Epoch 45 ---------------\n"
          ],
          "name": "stdout"
        },
        {
          "output_type": "stream",
          "text": [
            "100%|██████████| 468/468 [00:13<00:00, 33.64it/s]\n",
            "  1%|          | 4/468 [00:00<00:14, 31.98it/s]"
          ],
          "name": "stderr"
        },
        {
          "output_type": "stream",
          "text": [
            "--------------- Epoch 46 ---------------\n"
          ],
          "name": "stdout"
        },
        {
          "output_type": "stream",
          "text": [
            "100%|██████████| 468/468 [00:14<00:00, 33.20it/s]\n",
            "  1%|          | 4/468 [00:00<00:13, 33.66it/s]"
          ],
          "name": "stderr"
        },
        {
          "output_type": "stream",
          "text": [
            "--------------- Epoch 47 ---------------\n"
          ],
          "name": "stdout"
        },
        {
          "output_type": "stream",
          "text": [
            "100%|██████████| 468/468 [00:13<00:00, 33.63it/s]\n",
            "  1%|          | 4/468 [00:00<00:13, 33.77it/s]"
          ],
          "name": "stderr"
        },
        {
          "output_type": "stream",
          "text": [
            "--------------- Epoch 48 ---------------\n"
          ],
          "name": "stdout"
        },
        {
          "output_type": "stream",
          "text": [
            "100%|██████████| 468/468 [00:13<00:00, 33.48it/s]\n",
            "  1%|          | 4/468 [00:00<00:13, 33.62it/s]"
          ],
          "name": "stderr"
        },
        {
          "output_type": "stream",
          "text": [
            "--------------- Epoch 49 ---------------\n"
          ],
          "name": "stdout"
        },
        {
          "output_type": "stream",
          "text": [
            "100%|██████████| 468/468 [00:13<00:00, 33.46it/s]\n",
            "  1%|          | 4/468 [00:00<00:14, 32.71it/s]"
          ],
          "name": "stderr"
        },
        {
          "output_type": "stream",
          "text": [
            "--------------- Epoch 50 ---------------\n"
          ],
          "name": "stdout"
        },
        {
          "output_type": "stream",
          "text": [
            "100%|██████████| 468/468 [00:13<00:00, 33.52it/s]\n",
            "  1%|          | 4/468 [00:00<00:14, 31.91it/s]"
          ],
          "name": "stderr"
        },
        {
          "output_type": "stream",
          "text": [
            "--------------- Epoch 51 ---------------\n"
          ],
          "name": "stdout"
        },
        {
          "output_type": "stream",
          "text": [
            "100%|██████████| 468/468 [00:13<00:00, 33.43it/s]\n",
            "  1%|          | 4/468 [00:00<00:13, 33.80it/s]"
          ],
          "name": "stderr"
        },
        {
          "output_type": "stream",
          "text": [
            "--------------- Epoch 52 ---------------\n"
          ],
          "name": "stdout"
        },
        {
          "output_type": "stream",
          "text": [
            "100%|██████████| 468/468 [00:13<00:00, 33.58it/s]\n",
            "  1%|          | 4/468 [00:00<00:13, 35.26it/s]"
          ],
          "name": "stderr"
        },
        {
          "output_type": "stream",
          "text": [
            "--------------- Epoch 53 ---------------\n"
          ],
          "name": "stdout"
        },
        {
          "output_type": "stream",
          "text": [
            "100%|██████████| 468/468 [00:13<00:00, 33.49it/s]\n",
            "  1%|          | 4/468 [00:00<00:13, 33.54it/s]"
          ],
          "name": "stderr"
        },
        {
          "output_type": "stream",
          "text": [
            "--------------- Epoch 54 ---------------\n"
          ],
          "name": "stdout"
        },
        {
          "output_type": "stream",
          "text": [
            "100%|██████████| 468/468 [00:13<00:00, 33.60it/s]\n",
            "  1%|          | 4/468 [00:00<00:13, 33.24it/s]"
          ],
          "name": "stderr"
        },
        {
          "output_type": "stream",
          "text": [
            "--------------- Epoch 55 ---------------\n"
          ],
          "name": "stdout"
        },
        {
          "output_type": "stream",
          "text": [
            "100%|██████████| 468/468 [00:13<00:00, 33.54it/s]\n",
            "  1%|          | 4/468 [00:00<00:13, 34.01it/s]"
          ],
          "name": "stderr"
        },
        {
          "output_type": "stream",
          "text": [
            "--------------- Epoch 56 ---------------\n"
          ],
          "name": "stdout"
        },
        {
          "output_type": "stream",
          "text": [
            "100%|██████████| 468/468 [00:13<00:00, 33.67it/s]\n",
            "  1%|          | 4/468 [00:00<00:13, 35.43it/s]"
          ],
          "name": "stderr"
        },
        {
          "output_type": "stream",
          "text": [
            "--------------- Epoch 57 ---------------\n"
          ],
          "name": "stdout"
        },
        {
          "output_type": "stream",
          "text": [
            "100%|██████████| 468/468 [00:13<00:00, 33.70it/s]\n",
            "  1%|          | 4/468 [00:00<00:13, 33.64it/s]"
          ],
          "name": "stderr"
        },
        {
          "output_type": "stream",
          "text": [
            "--------------- Epoch 58 ---------------\n"
          ],
          "name": "stdout"
        },
        {
          "output_type": "stream",
          "text": [
            "100%|██████████| 468/468 [00:13<00:00, 33.59it/s]\n",
            "  1%|          | 4/468 [00:00<00:14, 32.11it/s]"
          ],
          "name": "stderr"
        },
        {
          "output_type": "stream",
          "text": [
            "--------------- Epoch 59 ---------------\n"
          ],
          "name": "stdout"
        },
        {
          "output_type": "stream",
          "text": [
            "100%|██████████| 468/468 [00:13<00:00, 33.60it/s]\n",
            "  1%|          | 4/468 [00:00<00:13, 34.36it/s]"
          ],
          "name": "stderr"
        },
        {
          "output_type": "stream",
          "text": [
            "--------------- Epoch 60 ---------------\n"
          ],
          "name": "stdout"
        },
        {
          "output_type": "stream",
          "text": [
            "100%|██████████| 468/468 [00:13<00:00, 33.72it/s]\n",
            "  1%|          | 4/468 [00:00<00:13, 34.54it/s]"
          ],
          "name": "stderr"
        },
        {
          "output_type": "stream",
          "text": [
            "--------------- Epoch 61 ---------------\n"
          ],
          "name": "stdout"
        },
        {
          "output_type": "stream",
          "text": [
            "100%|██████████| 468/468 [00:13<00:00, 33.69it/s]\n",
            "  1%|          | 4/468 [00:00<00:14, 32.28it/s]"
          ],
          "name": "stderr"
        },
        {
          "output_type": "stream",
          "text": [
            "--------------- Epoch 62 ---------------\n"
          ],
          "name": "stdout"
        },
        {
          "output_type": "stream",
          "text": [
            "100%|██████████| 468/468 [00:13<00:00, 33.66it/s]\n",
            "  1%|          | 4/468 [00:00<00:13, 34.61it/s]"
          ],
          "name": "stderr"
        },
        {
          "output_type": "stream",
          "text": [
            "--------------- Epoch 63 ---------------\n"
          ],
          "name": "stdout"
        },
        {
          "output_type": "stream",
          "text": [
            "100%|██████████| 468/468 [00:13<00:00, 33.83it/s]\n",
            "  1%|          | 4/468 [00:00<00:13, 34.74it/s]"
          ],
          "name": "stderr"
        },
        {
          "output_type": "stream",
          "text": [
            "--------------- Epoch 64 ---------------\n"
          ],
          "name": "stdout"
        },
        {
          "output_type": "stream",
          "text": [
            "100%|██████████| 468/468 [00:13<00:00, 33.73it/s]\n",
            "  1%|          | 4/468 [00:00<00:13, 34.83it/s]"
          ],
          "name": "stderr"
        },
        {
          "output_type": "stream",
          "text": [
            "--------------- Epoch 65 ---------------\n"
          ],
          "name": "stdout"
        },
        {
          "output_type": "stream",
          "text": [
            "100%|██████████| 468/468 [00:13<00:00, 33.58it/s]\n",
            "  1%|          | 4/468 [00:00<00:13, 34.64it/s]"
          ],
          "name": "stderr"
        },
        {
          "output_type": "stream",
          "text": [
            "--------------- Epoch 66 ---------------\n"
          ],
          "name": "stdout"
        },
        {
          "output_type": "stream",
          "text": [
            "100%|██████████| 468/468 [00:13<00:00, 33.53it/s]\n",
            "  1%|          | 4/468 [00:00<00:13, 33.41it/s]"
          ],
          "name": "stderr"
        },
        {
          "output_type": "stream",
          "text": [
            "--------------- Epoch 67 ---------------\n"
          ],
          "name": "stdout"
        },
        {
          "output_type": "stream",
          "text": [
            "100%|██████████| 468/468 [00:13<00:00, 33.52it/s]\n",
            "  1%|          | 4/468 [00:00<00:13, 33.77it/s]"
          ],
          "name": "stderr"
        },
        {
          "output_type": "stream",
          "text": [
            "--------------- Epoch 68 ---------------\n"
          ],
          "name": "stdout"
        },
        {
          "output_type": "stream",
          "text": [
            "100%|██████████| 468/468 [00:13<00:00, 33.57it/s]\n",
            "  1%|          | 4/468 [00:00<00:13, 35.68it/s]"
          ],
          "name": "stderr"
        },
        {
          "output_type": "stream",
          "text": [
            "--------------- Epoch 69 ---------------\n"
          ],
          "name": "stdout"
        },
        {
          "output_type": "stream",
          "text": [
            "100%|██████████| 468/468 [00:13<00:00, 33.58it/s]\n",
            "  1%|          | 4/468 [00:00<00:13, 33.44it/s]"
          ],
          "name": "stderr"
        },
        {
          "output_type": "stream",
          "text": [
            "--------------- Epoch 70 ---------------\n"
          ],
          "name": "stdout"
        },
        {
          "output_type": "stream",
          "text": [
            "100%|██████████| 468/468 [00:13<00:00, 33.58it/s]\n",
            "  1%|          | 4/468 [00:00<00:14, 32.38it/s]"
          ],
          "name": "stderr"
        },
        {
          "output_type": "stream",
          "text": [
            "--------------- Epoch 71 ---------------\n"
          ],
          "name": "stdout"
        },
        {
          "output_type": "stream",
          "text": [
            "100%|██████████| 468/468 [00:13<00:00, 33.81it/s]\n",
            "  1%|          | 4/468 [00:00<00:13, 34.20it/s]"
          ],
          "name": "stderr"
        },
        {
          "output_type": "stream",
          "text": [
            "--------------- Epoch 72 ---------------\n"
          ],
          "name": "stdout"
        },
        {
          "output_type": "stream",
          "text": [
            "100%|██████████| 468/468 [00:13<00:00, 33.46it/s]\n",
            "  1%|          | 4/468 [00:00<00:14, 33.11it/s]"
          ],
          "name": "stderr"
        },
        {
          "output_type": "stream",
          "text": [
            "--------------- Epoch 73 ---------------\n"
          ],
          "name": "stdout"
        },
        {
          "output_type": "stream",
          "text": [
            "100%|██████████| 468/468 [00:13<00:00, 33.64it/s]\n",
            "  1%|          | 4/468 [00:00<00:14, 33.03it/s]"
          ],
          "name": "stderr"
        },
        {
          "output_type": "stream",
          "text": [
            "--------------- Epoch 74 ---------------\n"
          ],
          "name": "stdout"
        },
        {
          "output_type": "stream",
          "text": [
            "100%|██████████| 468/468 [00:13<00:00, 33.57it/s]\n",
            "  1%|          | 4/468 [00:00<00:13, 33.19it/s]"
          ],
          "name": "stderr"
        },
        {
          "output_type": "stream",
          "text": [
            "--------------- Epoch 75 ---------------\n"
          ],
          "name": "stdout"
        },
        {
          "output_type": "stream",
          "text": [
            "100%|██████████| 468/468 [00:13<00:00, 33.63it/s]\n",
            "  1%|          | 4/468 [00:00<00:13, 34.74it/s]"
          ],
          "name": "stderr"
        },
        {
          "output_type": "stream",
          "text": [
            "--------------- Epoch 76 ---------------\n"
          ],
          "name": "stdout"
        },
        {
          "output_type": "stream",
          "text": [
            "100%|██████████| 468/468 [00:13<00:00, 33.70it/s]\n",
            "  1%|          | 4/468 [00:00<00:14, 32.13it/s]"
          ],
          "name": "stderr"
        },
        {
          "output_type": "stream",
          "text": [
            "--------------- Epoch 77 ---------------\n"
          ],
          "name": "stdout"
        },
        {
          "output_type": "stream",
          "text": [
            "100%|██████████| 468/468 [00:13<00:00, 33.59it/s]\n",
            "  1%|          | 4/468 [00:00<00:13, 34.07it/s]"
          ],
          "name": "stderr"
        },
        {
          "output_type": "stream",
          "text": [
            "--------------- Epoch 78 ---------------\n"
          ],
          "name": "stdout"
        },
        {
          "output_type": "stream",
          "text": [
            "100%|██████████| 468/468 [00:13<00:00, 33.56it/s]\n",
            "  1%|          | 4/468 [00:00<00:13, 34.46it/s]"
          ],
          "name": "stderr"
        },
        {
          "output_type": "stream",
          "text": [
            "--------------- Epoch 79 ---------------\n"
          ],
          "name": "stdout"
        },
        {
          "output_type": "stream",
          "text": [
            "100%|██████████| 468/468 [00:13<00:00, 33.50it/s]\n",
            "  1%|          | 4/468 [00:00<00:13, 34.15it/s]"
          ],
          "name": "stderr"
        },
        {
          "output_type": "stream",
          "text": [
            "--------------- Epoch 80 ---------------\n"
          ],
          "name": "stdout"
        },
        {
          "output_type": "stream",
          "text": [
            "100%|██████████| 468/468 [00:13<00:00, 33.78it/s]\n",
            "  1%|          | 4/468 [00:00<00:13, 34.07it/s]"
          ],
          "name": "stderr"
        },
        {
          "output_type": "stream",
          "text": [
            "--------------- Epoch 81 ---------------\n"
          ],
          "name": "stdout"
        },
        {
          "output_type": "stream",
          "text": [
            "100%|██████████| 468/468 [00:13<00:00, 33.51it/s]\n",
            "  1%|          | 4/468 [00:00<00:12, 35.87it/s]"
          ],
          "name": "stderr"
        },
        {
          "output_type": "stream",
          "text": [
            "--------------- Epoch 82 ---------------\n"
          ],
          "name": "stdout"
        },
        {
          "output_type": "stream",
          "text": [
            "100%|██████████| 468/468 [00:13<00:00, 33.65it/s]\n",
            "  1%|          | 4/468 [00:00<00:13, 34.55it/s]"
          ],
          "name": "stderr"
        },
        {
          "output_type": "stream",
          "text": [
            "--------------- Epoch 83 ---------------\n"
          ],
          "name": "stdout"
        },
        {
          "output_type": "stream",
          "text": [
            "100%|██████████| 468/468 [00:13<00:00, 33.67it/s]\n",
            "  1%|          | 4/468 [00:00<00:13, 33.85it/s]"
          ],
          "name": "stderr"
        },
        {
          "output_type": "stream",
          "text": [
            "--------------- Epoch 84 ---------------\n"
          ],
          "name": "stdout"
        },
        {
          "output_type": "stream",
          "text": [
            "100%|██████████| 468/468 [00:13<00:00, 33.60it/s]\n",
            "  1%|          | 4/468 [00:00<00:13, 34.71it/s]"
          ],
          "name": "stderr"
        },
        {
          "output_type": "stream",
          "text": [
            "--------------- Epoch 85 ---------------\n"
          ],
          "name": "stdout"
        },
        {
          "output_type": "stream",
          "text": [
            "100%|██████████| 468/468 [00:13<00:00, 33.73it/s]\n",
            "  1%|          | 4/468 [00:00<00:13, 34.66it/s]"
          ],
          "name": "stderr"
        },
        {
          "output_type": "stream",
          "text": [
            "--------------- Epoch 86 ---------------\n"
          ],
          "name": "stdout"
        },
        {
          "output_type": "stream",
          "text": [
            "100%|██████████| 468/468 [00:13<00:00, 33.71it/s]\n",
            "  1%|          | 4/468 [00:00<00:13, 35.20it/s]"
          ],
          "name": "stderr"
        },
        {
          "output_type": "stream",
          "text": [
            "--------------- Epoch 87 ---------------\n"
          ],
          "name": "stdout"
        },
        {
          "output_type": "stream",
          "text": [
            "100%|██████████| 468/468 [00:13<00:00, 33.72it/s]\n",
            "  1%|          | 4/468 [00:00<00:12, 35.94it/s]"
          ],
          "name": "stderr"
        },
        {
          "output_type": "stream",
          "text": [
            "--------------- Epoch 88 ---------------\n"
          ],
          "name": "stdout"
        },
        {
          "output_type": "stream",
          "text": [
            "100%|██████████| 468/468 [00:13<00:00, 33.72it/s]\n",
            "  1%|          | 4/468 [00:00<00:13, 33.45it/s]"
          ],
          "name": "stderr"
        },
        {
          "output_type": "stream",
          "text": [
            "--------------- Epoch 89 ---------------\n"
          ],
          "name": "stdout"
        },
        {
          "output_type": "stream",
          "text": [
            "100%|██████████| 468/468 [00:13<00:00, 33.72it/s]\n",
            "  1%|          | 4/468 [00:00<00:13, 33.50it/s]"
          ],
          "name": "stderr"
        },
        {
          "output_type": "stream",
          "text": [
            "--------------- Epoch 90 ---------------\n"
          ],
          "name": "stdout"
        },
        {
          "output_type": "stream",
          "text": [
            "100%|██████████| 468/468 [00:13<00:00, 33.62it/s]\n",
            "  1%|          | 4/468 [00:00<00:14, 32.83it/s]"
          ],
          "name": "stderr"
        },
        {
          "output_type": "stream",
          "text": [
            "--------------- Epoch 91 ---------------\n"
          ],
          "name": "stdout"
        },
        {
          "output_type": "stream",
          "text": [
            "100%|██████████| 468/468 [00:13<00:00, 33.82it/s]\n",
            "  1%|          | 4/468 [00:00<00:13, 34.78it/s]"
          ],
          "name": "stderr"
        },
        {
          "output_type": "stream",
          "text": [
            "--------------- Epoch 92 ---------------\n"
          ],
          "name": "stdout"
        },
        {
          "output_type": "stream",
          "text": [
            "100%|██████████| 468/468 [00:13<00:00, 33.82it/s]\n",
            "  1%|          | 4/468 [00:00<00:13, 33.45it/s]"
          ],
          "name": "stderr"
        },
        {
          "output_type": "stream",
          "text": [
            "--------------- Epoch 93 ---------------\n"
          ],
          "name": "stdout"
        },
        {
          "output_type": "stream",
          "text": [
            "100%|██████████| 468/468 [00:13<00:00, 33.64it/s]\n",
            "  1%|          | 4/468 [00:00<00:13, 33.24it/s]"
          ],
          "name": "stderr"
        },
        {
          "output_type": "stream",
          "text": [
            "--------------- Epoch 94 ---------------\n"
          ],
          "name": "stdout"
        },
        {
          "output_type": "stream",
          "text": [
            "100%|██████████| 468/468 [00:13<00:00, 33.74it/s]\n",
            "  1%|          | 4/468 [00:00<00:13, 34.68it/s]"
          ],
          "name": "stderr"
        },
        {
          "output_type": "stream",
          "text": [
            "--------------- Epoch 95 ---------------\n"
          ],
          "name": "stdout"
        },
        {
          "output_type": "stream",
          "text": [
            "100%|██████████| 468/468 [00:13<00:00, 33.72it/s]\n",
            "  1%|          | 4/468 [00:00<00:13, 33.27it/s]"
          ],
          "name": "stderr"
        },
        {
          "output_type": "stream",
          "text": [
            "--------------- Epoch 96 ---------------\n"
          ],
          "name": "stdout"
        },
        {
          "output_type": "stream",
          "text": [
            "100%|██████████| 468/468 [00:13<00:00, 33.70it/s]\n",
            "  1%|          | 4/468 [00:00<00:13, 34.94it/s]"
          ],
          "name": "stderr"
        },
        {
          "output_type": "stream",
          "text": [
            "--------------- Epoch 97 ---------------\n"
          ],
          "name": "stdout"
        },
        {
          "output_type": "stream",
          "text": [
            "100%|██████████| 468/468 [00:13<00:00, 33.72it/s]\n",
            "  1%|          | 4/468 [00:00<00:13, 33.44it/s]"
          ],
          "name": "stderr"
        },
        {
          "output_type": "stream",
          "text": [
            "--------------- Epoch 98 ---------------\n"
          ],
          "name": "stdout"
        },
        {
          "output_type": "stream",
          "text": [
            "100%|██████████| 468/468 [00:13<00:00, 33.65it/s]\n",
            "  1%|          | 4/468 [00:00<00:12, 35.88it/s]"
          ],
          "name": "stderr"
        },
        {
          "output_type": "stream",
          "text": [
            "--------------- Epoch 99 ---------------\n"
          ],
          "name": "stdout"
        },
        {
          "output_type": "stream",
          "text": [
            "100%|██████████| 468/468 [00:13<00:00, 33.72it/s]\n",
            "  1%|          | 4/468 [00:00<00:13, 33.87it/s]"
          ],
          "name": "stderr"
        },
        {
          "output_type": "stream",
          "text": [
            "--------------- Epoch 100 ---------------\n"
          ],
          "name": "stdout"
        },
        {
          "output_type": "stream",
          "text": [
            "100%|██████████| 468/468 [00:13<00:00, 33.75it/s]\n",
            "  1%|          | 4/468 [00:00<00:13, 33.76it/s]"
          ],
          "name": "stderr"
        },
        {
          "output_type": "stream",
          "text": [
            "--------------- Epoch 101 ---------------\n"
          ],
          "name": "stdout"
        },
        {
          "output_type": "stream",
          "text": [
            "100%|██████████| 468/468 [00:13<00:00, 33.67it/s]\n",
            "  1%|          | 4/468 [00:00<00:14, 31.88it/s]"
          ],
          "name": "stderr"
        },
        {
          "output_type": "stream",
          "text": [
            "--------------- Epoch 102 ---------------\n"
          ],
          "name": "stdout"
        },
        {
          "output_type": "stream",
          "text": [
            "100%|██████████| 468/468 [00:13<00:00, 33.65it/s]\n",
            "  1%|          | 4/468 [00:00<00:13, 34.81it/s]"
          ],
          "name": "stderr"
        },
        {
          "output_type": "stream",
          "text": [
            "--------------- Epoch 103 ---------------\n"
          ],
          "name": "stdout"
        },
        {
          "output_type": "stream",
          "text": [
            "100%|██████████| 468/468 [00:13<00:00, 33.81it/s]\n",
            "  1%|          | 4/468 [00:00<00:13, 33.25it/s]"
          ],
          "name": "stderr"
        },
        {
          "output_type": "stream",
          "text": [
            "--------------- Epoch 104 ---------------\n"
          ],
          "name": "stdout"
        },
        {
          "output_type": "stream",
          "text": [
            "100%|██████████| 468/468 [00:13<00:00, 33.51it/s]\n",
            "  1%|          | 4/468 [00:00<00:13, 34.54it/s]"
          ],
          "name": "stderr"
        },
        {
          "output_type": "stream",
          "text": [
            "--------------- Epoch 105 ---------------\n"
          ],
          "name": "stdout"
        },
        {
          "output_type": "stream",
          "text": [
            "100%|██████████| 468/468 [00:13<00:00, 33.70it/s]\n",
            "  1%|          | 4/468 [00:00<00:12, 36.10it/s]"
          ],
          "name": "stderr"
        },
        {
          "output_type": "stream",
          "text": [
            "--------------- Epoch 106 ---------------\n"
          ],
          "name": "stdout"
        },
        {
          "output_type": "stream",
          "text": [
            "100%|██████████| 468/468 [00:13<00:00, 33.69it/s]\n",
            "  1%|          | 4/468 [00:00<00:13, 34.74it/s]"
          ],
          "name": "stderr"
        },
        {
          "output_type": "stream",
          "text": [
            "--------------- Epoch 107 ---------------\n"
          ],
          "name": "stdout"
        },
        {
          "output_type": "stream",
          "text": [
            "100%|██████████| 468/468 [00:13<00:00, 33.76it/s]\n",
            "  1%|          | 4/468 [00:00<00:13, 34.72it/s]"
          ],
          "name": "stderr"
        },
        {
          "output_type": "stream",
          "text": [
            "--------------- Epoch 108 ---------------\n"
          ],
          "name": "stdout"
        },
        {
          "output_type": "stream",
          "text": [
            "100%|██████████| 468/468 [00:13<00:00, 33.75it/s]\n",
            "  1%|          | 4/468 [00:00<00:13, 34.27it/s]"
          ],
          "name": "stderr"
        },
        {
          "output_type": "stream",
          "text": [
            "--------------- Epoch 109 ---------------\n"
          ],
          "name": "stdout"
        },
        {
          "output_type": "stream",
          "text": [
            "100%|██████████| 468/468 [00:13<00:00, 33.56it/s]\n",
            "  1%|          | 4/468 [00:00<00:13, 33.31it/s]"
          ],
          "name": "stderr"
        },
        {
          "output_type": "stream",
          "text": [
            "--------------- Epoch 110 ---------------\n"
          ],
          "name": "stdout"
        },
        {
          "output_type": "stream",
          "text": [
            "100%|██████████| 468/468 [00:13<00:00, 33.76it/s]\n",
            "  1%|          | 4/468 [00:00<00:13, 34.69it/s]"
          ],
          "name": "stderr"
        },
        {
          "output_type": "stream",
          "text": [
            "--------------- Epoch 111 ---------------\n"
          ],
          "name": "stdout"
        },
        {
          "output_type": "stream",
          "text": [
            "100%|██████████| 468/468 [00:13<00:00, 33.74it/s]\n",
            "  1%|          | 4/468 [00:00<00:13, 33.81it/s]"
          ],
          "name": "stderr"
        },
        {
          "output_type": "stream",
          "text": [
            "--------------- Epoch 112 ---------------\n"
          ],
          "name": "stdout"
        },
        {
          "output_type": "stream",
          "text": [
            "100%|██████████| 468/468 [00:13<00:00, 33.61it/s]\n",
            "  1%|          | 4/468 [00:00<00:13, 33.37it/s]"
          ],
          "name": "stderr"
        },
        {
          "output_type": "stream",
          "text": [
            "--------------- Epoch 113 ---------------\n"
          ],
          "name": "stdout"
        },
        {
          "output_type": "stream",
          "text": [
            "100%|██████████| 468/468 [00:13<00:00, 33.60it/s]\n",
            "  1%|          | 4/468 [00:00<00:13, 34.52it/s]"
          ],
          "name": "stderr"
        },
        {
          "output_type": "stream",
          "text": [
            "--------------- Epoch 114 ---------------\n"
          ],
          "name": "stdout"
        },
        {
          "output_type": "stream",
          "text": [
            "100%|██████████| 468/468 [00:13<00:00, 33.56it/s]\n",
            "  1%|          | 4/468 [00:00<00:13, 35.55it/s]"
          ],
          "name": "stderr"
        },
        {
          "output_type": "stream",
          "text": [
            "--------------- Epoch 115 ---------------\n"
          ],
          "name": "stdout"
        },
        {
          "output_type": "stream",
          "text": [
            "100%|██████████| 468/468 [00:14<00:00, 33.27it/s]\n",
            "  1%|          | 4/468 [00:00<00:13, 34.41it/s]"
          ],
          "name": "stderr"
        },
        {
          "output_type": "stream",
          "text": [
            "--------------- Epoch 116 ---------------\n"
          ],
          "name": "stdout"
        },
        {
          "output_type": "stream",
          "text": [
            "100%|██████████| 468/468 [00:13<00:00, 33.67it/s]\n",
            "  1%|          | 4/468 [00:00<00:13, 35.34it/s]"
          ],
          "name": "stderr"
        },
        {
          "output_type": "stream",
          "text": [
            "--------------- Epoch 117 ---------------\n"
          ],
          "name": "stdout"
        },
        {
          "output_type": "stream",
          "text": [
            "100%|██████████| 468/468 [00:13<00:00, 33.68it/s]\n",
            "  1%|          | 4/468 [00:00<00:12, 35.79it/s]"
          ],
          "name": "stderr"
        },
        {
          "output_type": "stream",
          "text": [
            "--------------- Epoch 118 ---------------\n"
          ],
          "name": "stdout"
        },
        {
          "output_type": "stream",
          "text": [
            "100%|██████████| 468/468 [00:13<00:00, 33.79it/s]\n",
            "  1%|          | 4/468 [00:00<00:13, 34.32it/s]"
          ],
          "name": "stderr"
        },
        {
          "output_type": "stream",
          "text": [
            "--------------- Epoch 119 ---------------\n"
          ],
          "name": "stdout"
        },
        {
          "output_type": "stream",
          "text": [
            "100%|██████████| 468/468 [00:13<00:00, 33.80it/s]\n",
            "  1%|          | 4/468 [00:00<00:13, 34.72it/s]"
          ],
          "name": "stderr"
        },
        {
          "output_type": "stream",
          "text": [
            "--------------- Epoch 120 ---------------\n"
          ],
          "name": "stdout"
        },
        {
          "output_type": "stream",
          "text": [
            "100%|██████████| 468/468 [00:13<00:00, 33.64it/s]\n",
            "  1%|          | 4/468 [00:00<00:13, 34.46it/s]"
          ],
          "name": "stderr"
        },
        {
          "output_type": "stream",
          "text": [
            "--------------- Epoch 121 ---------------\n"
          ],
          "name": "stdout"
        },
        {
          "output_type": "stream",
          "text": [
            "100%|██████████| 468/468 [00:14<00:00, 32.82it/s]\n",
            "  1%|          | 4/468 [00:00<00:13, 33.42it/s]"
          ],
          "name": "stderr"
        },
        {
          "output_type": "stream",
          "text": [
            "--------------- Epoch 122 ---------------\n"
          ],
          "name": "stdout"
        },
        {
          "output_type": "stream",
          "text": [
            "100%|██████████| 468/468 [00:14<00:00, 33.26it/s]\n",
            "  1%|          | 4/468 [00:00<00:13, 34.22it/s]"
          ],
          "name": "stderr"
        },
        {
          "output_type": "stream",
          "text": [
            "--------------- Epoch 123 ---------------\n"
          ],
          "name": "stdout"
        },
        {
          "output_type": "stream",
          "text": [
            "100%|██████████| 468/468 [00:13<00:00, 33.68it/s]\n",
            "  1%|          | 4/468 [00:00<00:14, 32.74it/s]"
          ],
          "name": "stderr"
        },
        {
          "output_type": "stream",
          "text": [
            "--------------- Epoch 124 ---------------\n"
          ],
          "name": "stdout"
        },
        {
          "output_type": "stream",
          "text": [
            "100%|██████████| 468/468 [00:13<00:00, 33.56it/s]\n",
            "  1%|          | 4/468 [00:00<00:14, 33.00it/s]"
          ],
          "name": "stderr"
        },
        {
          "output_type": "stream",
          "text": [
            "--------------- Epoch 125 ---------------\n"
          ],
          "name": "stdout"
        },
        {
          "output_type": "stream",
          "text": [
            "100%|██████████| 468/468 [00:13<00:00, 33.59it/s]\n",
            "  1%|          | 4/468 [00:00<00:13, 35.19it/s]"
          ],
          "name": "stderr"
        },
        {
          "output_type": "stream",
          "text": [
            "--------------- Epoch 126 ---------------\n"
          ],
          "name": "stdout"
        },
        {
          "output_type": "stream",
          "text": [
            "100%|██████████| 468/468 [00:13<00:00, 33.68it/s]\n",
            "  1%|          | 4/468 [00:00<00:14, 32.51it/s]"
          ],
          "name": "stderr"
        },
        {
          "output_type": "stream",
          "text": [
            "--------------- Epoch 127 ---------------\n"
          ],
          "name": "stdout"
        },
        {
          "output_type": "stream",
          "text": [
            "100%|██████████| 468/468 [00:13<00:00, 33.66it/s]\n",
            "  1%|          | 4/468 [00:00<00:13, 34.46it/s]"
          ],
          "name": "stderr"
        },
        {
          "output_type": "stream",
          "text": [
            "--------------- Epoch 128 ---------------\n"
          ],
          "name": "stdout"
        },
        {
          "output_type": "stream",
          "text": [
            "100%|██████████| 468/468 [00:13<00:00, 33.68it/s]\n",
            "  1%|          | 4/468 [00:00<00:13, 34.45it/s]"
          ],
          "name": "stderr"
        },
        {
          "output_type": "stream",
          "text": [
            "--------------- Epoch 129 ---------------\n"
          ],
          "name": "stdout"
        },
        {
          "output_type": "stream",
          "text": [
            "100%|██████████| 468/468 [00:13<00:00, 33.60it/s]\n",
            "  1%|          | 4/468 [00:00<00:14, 32.23it/s]"
          ],
          "name": "stderr"
        },
        {
          "output_type": "stream",
          "text": [
            "--------------- Epoch 130 ---------------\n"
          ],
          "name": "stdout"
        },
        {
          "output_type": "stream",
          "text": [
            "100%|██████████| 468/468 [00:13<00:00, 33.76it/s]\n",
            "  1%|          | 4/468 [00:00<00:13, 35.10it/s]"
          ],
          "name": "stderr"
        },
        {
          "output_type": "stream",
          "text": [
            "--------------- Epoch 131 ---------------\n"
          ],
          "name": "stdout"
        },
        {
          "output_type": "stream",
          "text": [
            "100%|██████████| 468/468 [00:13<00:00, 33.76it/s]\n",
            "  1%|          | 4/468 [00:00<00:14, 32.98it/s]"
          ],
          "name": "stderr"
        },
        {
          "output_type": "stream",
          "text": [
            "--------------- Epoch 132 ---------------\n"
          ],
          "name": "stdout"
        },
        {
          "output_type": "stream",
          "text": [
            "100%|██████████| 468/468 [00:13<00:00, 33.73it/s]\n",
            "  1%|          | 4/468 [00:00<00:13, 34.11it/s]"
          ],
          "name": "stderr"
        },
        {
          "output_type": "stream",
          "text": [
            "--------------- Epoch 133 ---------------\n"
          ],
          "name": "stdout"
        },
        {
          "output_type": "stream",
          "text": [
            "100%|██████████| 468/468 [00:13<00:00, 33.65it/s]\n",
            "  1%|          | 4/468 [00:00<00:13, 35.27it/s]"
          ],
          "name": "stderr"
        },
        {
          "output_type": "stream",
          "text": [
            "--------------- Epoch 134 ---------------\n"
          ],
          "name": "stdout"
        },
        {
          "output_type": "stream",
          "text": [
            "100%|██████████| 468/468 [00:13<00:00, 33.86it/s]\n",
            "  1%|          | 4/468 [00:00<00:14, 32.86it/s]"
          ],
          "name": "stderr"
        },
        {
          "output_type": "stream",
          "text": [
            "--------------- Epoch 135 ---------------\n"
          ],
          "name": "stdout"
        },
        {
          "output_type": "stream",
          "text": [
            "100%|██████████| 468/468 [00:13<00:00, 33.67it/s]\n",
            "  1%|          | 3/468 [00:00<00:15, 29.31it/s]"
          ],
          "name": "stderr"
        },
        {
          "output_type": "stream",
          "text": [
            "--------------- Epoch 136 ---------------\n"
          ],
          "name": "stdout"
        },
        {
          "output_type": "stream",
          "text": [
            "100%|██████████| 468/468 [00:13<00:00, 33.58it/s]\n",
            "  1%|          | 4/468 [00:00<00:13, 33.73it/s]"
          ],
          "name": "stderr"
        },
        {
          "output_type": "stream",
          "text": [
            "--------------- Epoch 137 ---------------\n"
          ],
          "name": "stdout"
        },
        {
          "output_type": "stream",
          "text": [
            "100%|██████████| 468/468 [00:13<00:00, 33.59it/s]\n",
            "  1%|          | 4/468 [00:00<00:13, 35.40it/s]"
          ],
          "name": "stderr"
        },
        {
          "output_type": "stream",
          "text": [
            "--------------- Epoch 138 ---------------\n"
          ],
          "name": "stdout"
        },
        {
          "output_type": "stream",
          "text": [
            "100%|██████████| 468/468 [00:13<00:00, 33.56it/s]\n",
            "  1%|          | 4/468 [00:00<00:12, 35.85it/s]"
          ],
          "name": "stderr"
        },
        {
          "output_type": "stream",
          "text": [
            "--------------- Epoch 139 ---------------\n"
          ],
          "name": "stdout"
        },
        {
          "output_type": "stream",
          "text": [
            "100%|██████████| 468/468 [00:13<00:00, 33.63it/s]\n",
            "  1%|          | 4/468 [00:00<00:13, 33.51it/s]"
          ],
          "name": "stderr"
        },
        {
          "output_type": "stream",
          "text": [
            "--------------- Epoch 140 ---------------\n"
          ],
          "name": "stdout"
        },
        {
          "output_type": "stream",
          "text": [
            "100%|██████████| 468/468 [00:13<00:00, 33.67it/s]\n",
            "  1%|          | 4/468 [00:00<00:13, 34.58it/s]"
          ],
          "name": "stderr"
        },
        {
          "output_type": "stream",
          "text": [
            "--------------- Epoch 141 ---------------\n"
          ],
          "name": "stdout"
        },
        {
          "output_type": "stream",
          "text": [
            "100%|██████████| 468/468 [00:13<00:00, 33.70it/s]\n",
            "  1%|          | 4/468 [00:00<00:13, 33.49it/s]"
          ],
          "name": "stderr"
        },
        {
          "output_type": "stream",
          "text": [
            "--------------- Epoch 142 ---------------\n"
          ],
          "name": "stdout"
        },
        {
          "output_type": "stream",
          "text": [
            "100%|██████████| 468/468 [00:13<00:00, 33.68it/s]\n",
            "  1%|          | 4/468 [00:00<00:13, 34.90it/s]"
          ],
          "name": "stderr"
        },
        {
          "output_type": "stream",
          "text": [
            "--------------- Epoch 143 ---------------\n"
          ],
          "name": "stdout"
        },
        {
          "output_type": "stream",
          "text": [
            "100%|██████████| 468/468 [00:13<00:00, 33.66it/s]\n",
            "  1%|          | 4/468 [00:00<00:13, 33.90it/s]"
          ],
          "name": "stderr"
        },
        {
          "output_type": "stream",
          "text": [
            "--------------- Epoch 144 ---------------\n"
          ],
          "name": "stdout"
        },
        {
          "output_type": "stream",
          "text": [
            "100%|██████████| 468/468 [00:13<00:00, 33.48it/s]\n",
            "  1%|          | 4/468 [00:00<00:13, 33.25it/s]"
          ],
          "name": "stderr"
        },
        {
          "output_type": "stream",
          "text": [
            "--------------- Epoch 145 ---------------\n"
          ],
          "name": "stdout"
        },
        {
          "output_type": "stream",
          "text": [
            "100%|██████████| 468/468 [00:13<00:00, 33.62it/s]\n",
            "  1%|          | 4/468 [00:00<00:13, 33.90it/s]"
          ],
          "name": "stderr"
        },
        {
          "output_type": "stream",
          "text": [
            "--------------- Epoch 146 ---------------\n"
          ],
          "name": "stdout"
        },
        {
          "output_type": "stream",
          "text": [
            "100%|██████████| 468/468 [00:13<00:00, 33.63it/s]\n",
            "  1%|          | 4/468 [00:00<00:13, 33.44it/s]"
          ],
          "name": "stderr"
        },
        {
          "output_type": "stream",
          "text": [
            "--------------- Epoch 147 ---------------\n"
          ],
          "name": "stdout"
        },
        {
          "output_type": "stream",
          "text": [
            "100%|██████████| 468/468 [00:14<00:00, 33.38it/s]\n",
            "  1%|          | 4/468 [00:00<00:13, 33.70it/s]"
          ],
          "name": "stderr"
        },
        {
          "output_type": "stream",
          "text": [
            "--------------- Epoch 148 ---------------\n"
          ],
          "name": "stdout"
        },
        {
          "output_type": "stream",
          "text": [
            "100%|██████████| 468/468 [00:13<00:00, 33.87it/s]\n",
            "  1%|          | 4/468 [00:00<00:14, 33.08it/s]"
          ],
          "name": "stderr"
        },
        {
          "output_type": "stream",
          "text": [
            "--------------- Epoch 149 ---------------\n"
          ],
          "name": "stdout"
        },
        {
          "output_type": "stream",
          "text": [
            "100%|██████████| 468/468 [00:13<00:00, 33.87it/s]\n",
            "  1%|          | 4/468 [00:00<00:14, 32.52it/s]"
          ],
          "name": "stderr"
        },
        {
          "output_type": "stream",
          "text": [
            "--------------- Epoch 150 ---------------\n"
          ],
          "name": "stdout"
        },
        {
          "output_type": "stream",
          "text": [
            "100%|██████████| 468/468 [00:13<00:00, 33.70it/s]\n",
            "  1%|          | 4/468 [00:00<00:13, 35.01it/s]"
          ],
          "name": "stderr"
        },
        {
          "output_type": "stream",
          "text": [
            "--------------- Epoch 151 ---------------\n"
          ],
          "name": "stdout"
        },
        {
          "output_type": "stream",
          "text": [
            "100%|██████████| 468/468 [00:13<00:00, 33.80it/s]\n",
            "  1%|          | 4/468 [00:00<00:13, 34.77it/s]"
          ],
          "name": "stderr"
        },
        {
          "output_type": "stream",
          "text": [
            "--------------- Epoch 152 ---------------\n"
          ],
          "name": "stdout"
        },
        {
          "output_type": "stream",
          "text": [
            "100%|██████████| 468/468 [00:13<00:00, 33.83it/s]\n",
            "  1%|          | 4/468 [00:00<00:13, 34.55it/s]"
          ],
          "name": "stderr"
        },
        {
          "output_type": "stream",
          "text": [
            "--------------- Epoch 153 ---------------\n"
          ],
          "name": "stdout"
        },
        {
          "output_type": "stream",
          "text": [
            "100%|██████████| 468/468 [00:13<00:00, 33.91it/s]\n",
            "  1%|          | 4/468 [00:00<00:13, 35.44it/s]"
          ],
          "name": "stderr"
        },
        {
          "output_type": "stream",
          "text": [
            "--------------- Epoch 154 ---------------\n"
          ],
          "name": "stdout"
        },
        {
          "output_type": "stream",
          "text": [
            "100%|██████████| 468/468 [00:13<00:00, 33.92it/s]\n",
            "  1%|          | 4/468 [00:00<00:13, 33.92it/s]"
          ],
          "name": "stderr"
        },
        {
          "output_type": "stream",
          "text": [
            "--------------- Epoch 155 ---------------\n"
          ],
          "name": "stdout"
        },
        {
          "output_type": "stream",
          "text": [
            "100%|██████████| 468/468 [00:13<00:00, 33.74it/s]\n",
            "  1%|          | 4/468 [00:00<00:13, 33.63it/s]"
          ],
          "name": "stderr"
        },
        {
          "output_type": "stream",
          "text": [
            "--------------- Epoch 156 ---------------\n"
          ],
          "name": "stdout"
        },
        {
          "output_type": "stream",
          "text": [
            "100%|██████████| 468/468 [00:13<00:00, 33.81it/s]\n",
            "  1%|          | 4/468 [00:00<00:13, 34.42it/s]"
          ],
          "name": "stderr"
        },
        {
          "output_type": "stream",
          "text": [
            "--------------- Epoch 157 ---------------\n"
          ],
          "name": "stdout"
        },
        {
          "output_type": "stream",
          "text": [
            "100%|██████████| 468/468 [00:13<00:00, 33.99it/s]\n",
            "  1%|          | 4/468 [00:00<00:13, 33.48it/s]"
          ],
          "name": "stderr"
        },
        {
          "output_type": "stream",
          "text": [
            "--------------- Epoch 158 ---------------\n"
          ],
          "name": "stdout"
        },
        {
          "output_type": "stream",
          "text": [
            "100%|██████████| 468/468 [00:13<00:00, 33.74it/s]\n",
            "  1%|          | 4/468 [00:00<00:13, 34.68it/s]"
          ],
          "name": "stderr"
        },
        {
          "output_type": "stream",
          "text": [
            "--------------- Epoch 159 ---------------\n"
          ],
          "name": "stdout"
        },
        {
          "output_type": "stream",
          "text": [
            "100%|██████████| 468/468 [00:13<00:00, 33.63it/s]\n",
            "  1%|          | 4/468 [00:00<00:13, 35.22it/s]"
          ],
          "name": "stderr"
        },
        {
          "output_type": "stream",
          "text": [
            "--------------- Epoch 160 ---------------\n"
          ],
          "name": "stdout"
        },
        {
          "output_type": "stream",
          "text": [
            "100%|██████████| 468/468 [00:13<00:00, 33.77it/s]\n",
            "  1%|          | 4/468 [00:00<00:13, 34.22it/s]"
          ],
          "name": "stderr"
        },
        {
          "output_type": "stream",
          "text": [
            "--------------- Epoch 161 ---------------\n"
          ],
          "name": "stdout"
        },
        {
          "output_type": "stream",
          "text": [
            "100%|██████████| 468/468 [00:13<00:00, 33.79it/s]\n",
            "  1%|          | 4/468 [00:00<00:13, 34.97it/s]"
          ],
          "name": "stderr"
        },
        {
          "output_type": "stream",
          "text": [
            "--------------- Epoch 162 ---------------\n"
          ],
          "name": "stdout"
        },
        {
          "output_type": "stream",
          "text": [
            "100%|██████████| 468/468 [00:13<00:00, 33.83it/s]\n",
            "  1%|          | 4/468 [00:00<00:13, 34.86it/s]"
          ],
          "name": "stderr"
        },
        {
          "output_type": "stream",
          "text": [
            "--------------- Epoch 163 ---------------\n"
          ],
          "name": "stdout"
        },
        {
          "output_type": "stream",
          "text": [
            "100%|██████████| 468/468 [00:13<00:00, 33.84it/s]\n",
            "  1%|          | 4/468 [00:00<00:13, 34.78it/s]"
          ],
          "name": "stderr"
        },
        {
          "output_type": "stream",
          "text": [
            "--------------- Epoch 164 ---------------\n"
          ],
          "name": "stdout"
        },
        {
          "output_type": "stream",
          "text": [
            "100%|██████████| 468/468 [00:13<00:00, 33.75it/s]\n",
            "  1%|          | 4/468 [00:00<00:13, 35.40it/s]"
          ],
          "name": "stderr"
        },
        {
          "output_type": "stream",
          "text": [
            "--------------- Epoch 165 ---------------\n"
          ],
          "name": "stdout"
        },
        {
          "output_type": "stream",
          "text": [
            "100%|██████████| 468/468 [00:13<00:00, 33.87it/s]\n",
            "  1%|          | 4/468 [00:00<00:13, 33.32it/s]"
          ],
          "name": "stderr"
        },
        {
          "output_type": "stream",
          "text": [
            "--------------- Epoch 166 ---------------\n"
          ],
          "name": "stdout"
        },
        {
          "output_type": "stream",
          "text": [
            "100%|██████████| 468/468 [00:13<00:00, 33.97it/s]\n",
            "  1%|          | 4/468 [00:00<00:13, 34.85it/s]"
          ],
          "name": "stderr"
        },
        {
          "output_type": "stream",
          "text": [
            "--------------- Epoch 167 ---------------\n"
          ],
          "name": "stdout"
        },
        {
          "output_type": "stream",
          "text": [
            "100%|██████████| 468/468 [00:13<00:00, 34.08it/s]\n",
            "  1%|          | 4/468 [00:00<00:13, 34.99it/s]"
          ],
          "name": "stderr"
        },
        {
          "output_type": "stream",
          "text": [
            "--------------- Epoch 168 ---------------\n"
          ],
          "name": "stdout"
        },
        {
          "output_type": "stream",
          "text": [
            "100%|██████████| 468/468 [00:13<00:00, 34.07it/s]\n",
            "  1%|          | 4/468 [00:00<00:13, 34.83it/s]"
          ],
          "name": "stderr"
        },
        {
          "output_type": "stream",
          "text": [
            "--------------- Epoch 169 ---------------\n"
          ],
          "name": "stdout"
        },
        {
          "output_type": "stream",
          "text": [
            "100%|██████████| 468/468 [00:13<00:00, 34.23it/s]\n",
            "  1%|          | 4/468 [00:00<00:13, 34.50it/s]"
          ],
          "name": "stderr"
        },
        {
          "output_type": "stream",
          "text": [
            "--------------- Epoch 170 ---------------\n"
          ],
          "name": "stdout"
        },
        {
          "output_type": "stream",
          "text": [
            "100%|██████████| 468/468 [00:13<00:00, 34.18it/s]\n",
            "  1%|          | 4/468 [00:00<00:13, 33.29it/s]"
          ],
          "name": "stderr"
        },
        {
          "output_type": "stream",
          "text": [
            "--------------- Epoch 171 ---------------\n"
          ],
          "name": "stdout"
        },
        {
          "output_type": "stream",
          "text": [
            "100%|██████████| 468/468 [00:13<00:00, 33.98it/s]\n",
            "  1%|          | 4/468 [00:00<00:14, 33.07it/s]"
          ],
          "name": "stderr"
        },
        {
          "output_type": "stream",
          "text": [
            "--------------- Epoch 172 ---------------\n"
          ],
          "name": "stdout"
        },
        {
          "output_type": "stream",
          "text": [
            "100%|██████████| 468/468 [00:13<00:00, 34.13it/s]\n",
            "  1%|          | 4/468 [00:00<00:14, 32.49it/s]"
          ],
          "name": "stderr"
        },
        {
          "output_type": "stream",
          "text": [
            "--------------- Epoch 173 ---------------\n"
          ],
          "name": "stdout"
        },
        {
          "output_type": "stream",
          "text": [
            "100%|██████████| 468/468 [00:13<00:00, 34.02it/s]\n",
            "  1%|          | 4/468 [00:00<00:13, 33.18it/s]"
          ],
          "name": "stderr"
        },
        {
          "output_type": "stream",
          "text": [
            "--------------- Epoch 174 ---------------\n"
          ],
          "name": "stdout"
        },
        {
          "output_type": "stream",
          "text": [
            "100%|██████████| 468/468 [00:13<00:00, 33.93it/s]\n",
            "  1%|          | 4/468 [00:00<00:13, 34.75it/s]"
          ],
          "name": "stderr"
        },
        {
          "output_type": "stream",
          "text": [
            "--------------- Epoch 175 ---------------\n"
          ],
          "name": "stdout"
        },
        {
          "output_type": "stream",
          "text": [
            "100%|██████████| 468/468 [00:13<00:00, 34.07it/s]\n",
            "  1%|          | 4/468 [00:00<00:13, 35.21it/s]"
          ],
          "name": "stderr"
        },
        {
          "output_type": "stream",
          "text": [
            "--------------- Epoch 176 ---------------\n"
          ],
          "name": "stdout"
        },
        {
          "output_type": "stream",
          "text": [
            "100%|██████████| 468/468 [00:13<00:00, 33.87it/s]\n",
            "  1%|          | 4/468 [00:00<00:13, 34.63it/s]"
          ],
          "name": "stderr"
        },
        {
          "output_type": "stream",
          "text": [
            "--------------- Epoch 177 ---------------\n"
          ],
          "name": "stdout"
        },
        {
          "output_type": "stream",
          "text": [
            "100%|██████████| 468/468 [00:13<00:00, 34.02it/s]\n",
            "  1%|          | 4/468 [00:00<00:13, 34.45it/s]"
          ],
          "name": "stderr"
        },
        {
          "output_type": "stream",
          "text": [
            "--------------- Epoch 178 ---------------\n"
          ],
          "name": "stdout"
        },
        {
          "output_type": "stream",
          "text": [
            "100%|██████████| 468/468 [00:13<00:00, 33.69it/s]\n",
            "  1%|          | 4/468 [00:00<00:13, 33.29it/s]"
          ],
          "name": "stderr"
        },
        {
          "output_type": "stream",
          "text": [
            "--------------- Epoch 179 ---------------\n"
          ],
          "name": "stdout"
        },
        {
          "output_type": "stream",
          "text": [
            "100%|██████████| 468/468 [00:13<00:00, 33.63it/s]\n",
            "  1%|          | 4/468 [00:00<00:13, 34.89it/s]"
          ],
          "name": "stderr"
        },
        {
          "output_type": "stream",
          "text": [
            "--------------- Epoch 180 ---------------\n"
          ],
          "name": "stdout"
        },
        {
          "output_type": "stream",
          "text": [
            "100%|██████████| 468/468 [00:13<00:00, 33.69it/s]\n",
            "  1%|          | 4/468 [00:00<00:13, 34.34it/s]"
          ],
          "name": "stderr"
        },
        {
          "output_type": "stream",
          "text": [
            "--------------- Epoch 181 ---------------\n"
          ],
          "name": "stdout"
        },
        {
          "output_type": "stream",
          "text": [
            "100%|██████████| 468/468 [00:13<00:00, 33.68it/s]\n",
            "  1%|          | 4/468 [00:00<00:13, 35.08it/s]"
          ],
          "name": "stderr"
        },
        {
          "output_type": "stream",
          "text": [
            "--------------- Epoch 182 ---------------\n"
          ],
          "name": "stdout"
        },
        {
          "output_type": "stream",
          "text": [
            "100%|██████████| 468/468 [00:13<00:00, 33.83it/s]\n",
            "  1%|          | 4/468 [00:00<00:13, 33.43it/s]"
          ],
          "name": "stderr"
        },
        {
          "output_type": "stream",
          "text": [
            "--------------- Epoch 183 ---------------\n"
          ],
          "name": "stdout"
        },
        {
          "output_type": "stream",
          "text": [
            "100%|██████████| 468/468 [00:13<00:00, 33.85it/s]\n",
            "  1%|          | 4/468 [00:00<00:12, 36.53it/s]"
          ],
          "name": "stderr"
        },
        {
          "output_type": "stream",
          "text": [
            "--------------- Epoch 184 ---------------\n"
          ],
          "name": "stdout"
        },
        {
          "output_type": "stream",
          "text": [
            "100%|██████████| 468/468 [00:13<00:00, 33.76it/s]\n",
            "  1%|          | 4/468 [00:00<00:13, 34.64it/s]"
          ],
          "name": "stderr"
        },
        {
          "output_type": "stream",
          "text": [
            "--------------- Epoch 185 ---------------\n"
          ],
          "name": "stdout"
        },
        {
          "output_type": "stream",
          "text": [
            "100%|██████████| 468/468 [00:13<00:00, 33.94it/s]\n",
            "  1%|          | 4/468 [00:00<00:13, 33.86it/s]"
          ],
          "name": "stderr"
        },
        {
          "output_type": "stream",
          "text": [
            "--------------- Epoch 186 ---------------\n"
          ],
          "name": "stdout"
        },
        {
          "output_type": "stream",
          "text": [
            "100%|██████████| 468/468 [00:13<00:00, 33.89it/s]\n",
            "  1%|          | 4/468 [00:00<00:13, 33.41it/s]"
          ],
          "name": "stderr"
        },
        {
          "output_type": "stream",
          "text": [
            "--------------- Epoch 187 ---------------\n"
          ],
          "name": "stdout"
        },
        {
          "output_type": "stream",
          "text": [
            "100%|██████████| 468/468 [00:13<00:00, 33.85it/s]\n",
            "  1%|          | 4/468 [00:00<00:13, 33.31it/s]"
          ],
          "name": "stderr"
        },
        {
          "output_type": "stream",
          "text": [
            "--------------- Epoch 188 ---------------\n"
          ],
          "name": "stdout"
        },
        {
          "output_type": "stream",
          "text": [
            "100%|██████████| 468/468 [00:13<00:00, 33.72it/s]\n",
            "  1%|          | 4/468 [00:00<00:13, 34.87it/s]"
          ],
          "name": "stderr"
        },
        {
          "output_type": "stream",
          "text": [
            "--------------- Epoch 189 ---------------\n"
          ],
          "name": "stdout"
        },
        {
          "output_type": "stream",
          "text": [
            "100%|██████████| 468/468 [00:13<00:00, 33.83it/s]\n",
            "  1%|          | 4/468 [00:00<00:14, 33.08it/s]"
          ],
          "name": "stderr"
        },
        {
          "output_type": "stream",
          "text": [
            "--------------- Epoch 190 ---------------\n"
          ],
          "name": "stdout"
        },
        {
          "output_type": "stream",
          "text": [
            "100%|██████████| 468/468 [00:13<00:00, 33.73it/s]\n",
            "  1%|          | 4/468 [00:00<00:13, 34.53it/s]"
          ],
          "name": "stderr"
        },
        {
          "output_type": "stream",
          "text": [
            "--------------- Epoch 191 ---------------\n"
          ],
          "name": "stdout"
        },
        {
          "output_type": "stream",
          "text": [
            "100%|██████████| 468/468 [00:13<00:00, 33.62it/s]\n",
            "  1%|          | 4/468 [00:00<00:13, 34.22it/s]"
          ],
          "name": "stderr"
        },
        {
          "output_type": "stream",
          "text": [
            "--------------- Epoch 192 ---------------\n"
          ],
          "name": "stdout"
        },
        {
          "output_type": "stream",
          "text": [
            "100%|██████████| 468/468 [00:13<00:00, 33.63it/s]\n",
            "  1%|          | 4/468 [00:00<00:13, 33.81it/s]"
          ],
          "name": "stderr"
        },
        {
          "output_type": "stream",
          "text": [
            "--------------- Epoch 193 ---------------\n"
          ],
          "name": "stdout"
        },
        {
          "output_type": "stream",
          "text": [
            "100%|██████████| 468/468 [00:13<00:00, 33.81it/s]\n",
            "  1%|          | 4/468 [00:00<00:14, 33.13it/s]"
          ],
          "name": "stderr"
        },
        {
          "output_type": "stream",
          "text": [
            "--------------- Epoch 194 ---------------\n"
          ],
          "name": "stdout"
        },
        {
          "output_type": "stream",
          "text": [
            "100%|██████████| 468/468 [00:13<00:00, 33.89it/s]\n",
            "  1%|          | 4/468 [00:00<00:13, 35.27it/s]"
          ],
          "name": "stderr"
        },
        {
          "output_type": "stream",
          "text": [
            "--------------- Epoch 195 ---------------\n"
          ],
          "name": "stdout"
        },
        {
          "output_type": "stream",
          "text": [
            "100%|██████████| 468/468 [00:13<00:00, 33.74it/s]\n",
            "  1%|          | 4/468 [00:00<00:13, 34.82it/s]"
          ],
          "name": "stderr"
        },
        {
          "output_type": "stream",
          "text": [
            "--------------- Epoch 196 ---------------\n"
          ],
          "name": "stdout"
        },
        {
          "output_type": "stream",
          "text": [
            "100%|██████████| 468/468 [00:13<00:00, 33.81it/s]\n",
            "  1%|          | 4/468 [00:00<00:13, 33.43it/s]"
          ],
          "name": "stderr"
        },
        {
          "output_type": "stream",
          "text": [
            "--------------- Epoch 197 ---------------\n"
          ],
          "name": "stdout"
        },
        {
          "output_type": "stream",
          "text": [
            "100%|██████████| 468/468 [00:13<00:00, 33.90it/s]\n",
            "  1%|          | 4/468 [00:00<00:13, 33.88it/s]"
          ],
          "name": "stderr"
        },
        {
          "output_type": "stream",
          "text": [
            "--------------- Epoch 198 ---------------\n"
          ],
          "name": "stdout"
        },
        {
          "output_type": "stream",
          "text": [
            "100%|██████████| 468/468 [00:13<00:00, 33.84it/s]\n",
            "  1%|          | 4/468 [00:00<00:13, 35.37it/s]"
          ],
          "name": "stderr"
        },
        {
          "output_type": "stream",
          "text": [
            "--------------- Epoch 199 ---------------\n"
          ],
          "name": "stdout"
        },
        {
          "output_type": "stream",
          "text": [
            "100%|██████████| 468/468 [00:13<00:00, 34.22it/s]\n",
            "  1%|          | 4/468 [00:00<00:13, 34.09it/s]"
          ],
          "name": "stderr"
        },
        {
          "output_type": "stream",
          "text": [
            "--------------- Epoch 200 ---------------\n"
          ],
          "name": "stdout"
        },
        {
          "output_type": "stream",
          "text": [
            "100%|██████████| 468/468 [00:13<00:00, 34.09it/s]\n"
          ],
          "name": "stderr"
        }
      ]
    },
    {
      "metadata": {
        "id": "s_lCLlWe8mh6",
        "colab_type": "text"
      },
      "cell_type": "markdown",
      "source": [
        "# Save Images in a DataFrame"
      ]
    },
    {
      "metadata": {
        "id": "gRGgNmdS6Jdw",
        "colab_type": "code",
        "colab": {
          "autoexec": {
            "startup": false,
            "wait_interval": 0
          }
        }
      },
      "cell_type": "code",
      "source": [
        "dossier1=[]\n",
        "for i in range(len(dossier)):\n",
        "  dossier1.append(dossier[i].reshape(28*28))\n",
        "  \n",
        "dossier1=np.reshape(dossier1,(len(dossier),28*28))"
      ],
      "execution_count": 0,
      "outputs": []
    },
    {
      "metadata": {
        "id": "lxrPHHmx8rqM",
        "colab_type": "code",
        "colab": {
          "autoexec": {
            "startup": false,
            "wait_interval": 0
          }
        }
      },
      "cell_type": "code",
      "source": [
        "dossier1.shape\n",
        "import pandas as pd\n",
        "dossier1=pd.DataFrame(dossier1)\n",
        "dossier1['resultat']=pd.Series(resultat)"
      ],
      "execution_count": 0,
      "outputs": []
    },
    {
      "metadata": {
        "id": "89EK28dD56wz",
        "colab_type": "text"
      },
      "cell_type": "markdown",
      "source": [
        "# Good examples"
      ]
    },
    {
      "metadata": {
        "id": "f-techuS71fa",
        "colab_type": "code",
        "colab": {
          "autoexec": {
            "startup": false,
            "wait_interval": 0
          }
        }
      },
      "cell_type": "code",
      "source": [
        "seuil=0.48\n",
        "good_examples=dossier1[(dossier1.resultat>seuil)]\n",
        "\n",
        "good_examples=good_examples.drop(['resultat'],axis=1)"
      ],
      "execution_count": 0,
      "outputs": []
    },
    {
      "metadata": {
        "id": "_q6WuoRUCMdH",
        "colab_type": "code",
        "colab": {
          "autoexec": {
            "startup": false,
            "wait_interval": 0
          },
          "base_uri": "https://localhost:8080/",
          "height": 253
        },
        "outputId": "100f0160-b478-450a-beb9-87ba056c4a3c",
        "executionInfo": {
          "status": "ok",
          "timestamp": 1524201181577,
          "user_tz": -120,
          "elapsed": 888,
          "user": {
            "displayName": "nourhene chaalia",
            "photoUrl": "https://lh3.googleusercontent.com/a/default-user=s128",
            "userId": "100626486300945214800"
          }
        }
      },
      "cell_type": "code",
      "source": [
        "good_examples=good_examples.reset_index()\n",
        "good_examples=good_examples.drop(['level_0'],axis=1)\n",
        "good_examples=good_examples.drop(['index'],axis=1)\n",
        "\n",
        "good_examples.head()"
      ],
      "execution_count": 53,
      "outputs": [
        {
          "output_type": "execute_result",
          "data": {
            "text/html": [
              "<div>\n",
              "<style scoped>\n",
              "    .dataframe tbody tr th:only-of-type {\n",
              "        vertical-align: middle;\n",
              "    }\n",
              "\n",
              "    .dataframe tbody tr th {\n",
              "        vertical-align: top;\n",
              "    }\n",
              "\n",
              "    .dataframe thead th {\n",
              "        text-align: right;\n",
              "    }\n",
              "</style>\n",
              "<table border=\"1\" class=\"dataframe\">\n",
              "  <thead>\n",
              "    <tr style=\"text-align: right;\">\n",
              "      <th></th>\n",
              "      <th>0</th>\n",
              "      <th>1</th>\n",
              "      <th>2</th>\n",
              "      <th>3</th>\n",
              "      <th>4</th>\n",
              "      <th>5</th>\n",
              "      <th>6</th>\n",
              "      <th>7</th>\n",
              "      <th>8</th>\n",
              "      <th>9</th>\n",
              "      <th>...</th>\n",
              "      <th>774</th>\n",
              "      <th>775</th>\n",
              "      <th>776</th>\n",
              "      <th>777</th>\n",
              "      <th>778</th>\n",
              "      <th>779</th>\n",
              "      <th>780</th>\n",
              "      <th>781</th>\n",
              "      <th>782</th>\n",
              "      <th>783</th>\n",
              "    </tr>\n",
              "  </thead>\n",
              "  <tbody>\n",
              "    <tr>\n",
              "      <th>0</th>\n",
              "      <td>-0.983227</td>\n",
              "      <td>-0.993217</td>\n",
              "      <td>-0.995469</td>\n",
              "      <td>-0.996149</td>\n",
              "      <td>-0.996065</td>\n",
              "      <td>-0.996918</td>\n",
              "      <td>-0.998670</td>\n",
              "      <td>-0.998696</td>\n",
              "      <td>-0.999168</td>\n",
              "      <td>-0.999693</td>\n",
              "      <td>...</td>\n",
              "      <td>-0.999806</td>\n",
              "      <td>-0.999166</td>\n",
              "      <td>-0.998058</td>\n",
              "      <td>-0.996066</td>\n",
              "      <td>-0.997863</td>\n",
              "      <td>-0.999571</td>\n",
              "      <td>-0.999890</td>\n",
              "      <td>-0.999945</td>\n",
              "      <td>-0.999610</td>\n",
              "      <td>-0.997905</td>\n",
              "    </tr>\n",
              "    <tr>\n",
              "      <th>1</th>\n",
              "      <td>-0.990363</td>\n",
              "      <td>-0.997725</td>\n",
              "      <td>-0.998300</td>\n",
              "      <td>-0.998861</td>\n",
              "      <td>-0.999054</td>\n",
              "      <td>-0.999130</td>\n",
              "      <td>-0.999862</td>\n",
              "      <td>-0.999935</td>\n",
              "      <td>-0.999973</td>\n",
              "      <td>-0.999963</td>\n",
              "      <td>...</td>\n",
              "      <td>-0.999070</td>\n",
              "      <td>-0.999068</td>\n",
              "      <td>-0.999056</td>\n",
              "      <td>-0.999489</td>\n",
              "      <td>-0.999407</td>\n",
              "      <td>-0.999237</td>\n",
              "      <td>-0.998847</td>\n",
              "      <td>-0.999223</td>\n",
              "      <td>-0.997654</td>\n",
              "      <td>-0.991551</td>\n",
              "    </tr>\n",
              "    <tr>\n",
              "      <th>2</th>\n",
              "      <td>-0.994364</td>\n",
              "      <td>-0.999487</td>\n",
              "      <td>-0.999920</td>\n",
              "      <td>-0.999904</td>\n",
              "      <td>-0.999884</td>\n",
              "      <td>-0.999623</td>\n",
              "      <td>-0.998228</td>\n",
              "      <td>-0.996502</td>\n",
              "      <td>-0.989637</td>\n",
              "      <td>-0.992420</td>\n",
              "      <td>...</td>\n",
              "      <td>-0.970849</td>\n",
              "      <td>-0.990397</td>\n",
              "      <td>-0.998301</td>\n",
              "      <td>-0.999411</td>\n",
              "      <td>-0.999759</td>\n",
              "      <td>-0.999904</td>\n",
              "      <td>-0.999948</td>\n",
              "      <td>-0.999978</td>\n",
              "      <td>-0.999905</td>\n",
              "      <td>-0.999504</td>\n",
              "    </tr>\n",
              "    <tr>\n",
              "      <th>3</th>\n",
              "      <td>-0.997474</td>\n",
              "      <td>-0.999623</td>\n",
              "      <td>-0.999951</td>\n",
              "      <td>-0.999866</td>\n",
              "      <td>-0.999580</td>\n",
              "      <td>-0.999939</td>\n",
              "      <td>-0.999988</td>\n",
              "      <td>-0.999998</td>\n",
              "      <td>-1.000000</td>\n",
              "      <td>-0.999998</td>\n",
              "      <td>...</td>\n",
              "      <td>-0.999962</td>\n",
              "      <td>-0.999423</td>\n",
              "      <td>-0.998685</td>\n",
              "      <td>-0.999785</td>\n",
              "      <td>-0.999987</td>\n",
              "      <td>-0.999998</td>\n",
              "      <td>-0.999999</td>\n",
              "      <td>-0.999999</td>\n",
              "      <td>-0.999972</td>\n",
              "      <td>-0.999607</td>\n",
              "    </tr>\n",
              "    <tr>\n",
              "      <th>4</th>\n",
              "      <td>-0.987982</td>\n",
              "      <td>-0.999009</td>\n",
              "      <td>-0.999977</td>\n",
              "      <td>-0.999984</td>\n",
              "      <td>-0.999962</td>\n",
              "      <td>-0.999963</td>\n",
              "      <td>-0.999955</td>\n",
              "      <td>-0.999967</td>\n",
              "      <td>-0.999984</td>\n",
              "      <td>-0.999974</td>\n",
              "      <td>...</td>\n",
              "      <td>-0.999991</td>\n",
              "      <td>-0.999957</td>\n",
              "      <td>-0.999860</td>\n",
              "      <td>-0.999941</td>\n",
              "      <td>-0.999952</td>\n",
              "      <td>-0.999980</td>\n",
              "      <td>-0.999982</td>\n",
              "      <td>-0.999969</td>\n",
              "      <td>-0.999721</td>\n",
              "      <td>-0.998422</td>\n",
              "    </tr>\n",
              "  </tbody>\n",
              "</table>\n",
              "<p>5 rows × 784 columns</p>\n",
              "</div>"
            ],
            "text/plain": [
              "        0         1         2         3         4         5         6    \\\n",
              "0 -0.983227 -0.993217 -0.995469 -0.996149 -0.996065 -0.996918 -0.998670   \n",
              "1 -0.990363 -0.997725 -0.998300 -0.998861 -0.999054 -0.999130 -0.999862   \n",
              "2 -0.994364 -0.999487 -0.999920 -0.999904 -0.999884 -0.999623 -0.998228   \n",
              "3 -0.997474 -0.999623 -0.999951 -0.999866 -0.999580 -0.999939 -0.999988   \n",
              "4 -0.987982 -0.999009 -0.999977 -0.999984 -0.999962 -0.999963 -0.999955   \n",
              "\n",
              "        7         8         9      ...          774       775       776  \\\n",
              "0 -0.998696 -0.999168 -0.999693    ...    -0.999806 -0.999166 -0.998058   \n",
              "1 -0.999935 -0.999973 -0.999963    ...    -0.999070 -0.999068 -0.999056   \n",
              "2 -0.996502 -0.989637 -0.992420    ...    -0.970849 -0.990397 -0.998301   \n",
              "3 -0.999998 -1.000000 -0.999998    ...    -0.999962 -0.999423 -0.998685   \n",
              "4 -0.999967 -0.999984 -0.999974    ...    -0.999991 -0.999957 -0.999860   \n",
              "\n",
              "        777       778       779       780       781       782       783  \n",
              "0 -0.996066 -0.997863 -0.999571 -0.999890 -0.999945 -0.999610 -0.997905  \n",
              "1 -0.999489 -0.999407 -0.999237 -0.998847 -0.999223 -0.997654 -0.991551  \n",
              "2 -0.999411 -0.999759 -0.999904 -0.999948 -0.999978 -0.999905 -0.999504  \n",
              "3 -0.999785 -0.999987 -0.999998 -0.999999 -0.999999 -0.999972 -0.999607  \n",
              "4 -0.999941 -0.999952 -0.999980 -0.999982 -0.999969 -0.999721 -0.998422  \n",
              "\n",
              "[5 rows x 784 columns]"
            ]
          },
          "metadata": {
            "tags": []
          },
          "execution_count": 53
        }
      ]
    },
    {
      "metadata": {
        "id": "xn8XLXj_A977",
        "colab_type": "code",
        "colab": {
          "autoexec": {
            "startup": false,
            "wait_interval": 0
          },
          "base_uri": "https://localhost:8080/",
          "height": 364
        },
        "outputId": "a03fc24e-9f7c-49b7-b1b9-24840c658eb2",
        "executionInfo": {
          "status": "ok",
          "timestamp": 1524201199685,
          "user_tz": -120,
          "elapsed": 556,
          "user": {
            "displayName": "nourhene chaalia",
            "photoUrl": "https://lh3.googleusercontent.com/a/default-user=s128",
            "userId": "100626486300945214800"
          }
        }
      },
      "cell_type": "code",
      "source": [
        "\n",
        "plt.imshow(good_examples.ix[1].values.reshape(28,28), interpolation='nearest', cmap='gray_r')\n",
        "\n"
      ],
      "execution_count": 56,
      "outputs": [
        {
          "output_type": "execute_result",
          "data": {
            "text/plain": [
              "<matplotlib.image.AxesImage at 0x7f148d335f90>"
            ]
          },
          "metadata": {
            "tags": []
          },
          "execution_count": 56
        },
        {
          "output_type": "display_data",
          "data": {
            "image/png": "[encoded data removed]",
            "text/plain": [
              "<matplotlib.figure.Figure at 0x7f148d3ad890>"
            ]
          },
          "metadata": {
            "tags": []
          }
        }
      ]
    },
    {
      "metadata": {
        "id": "J38o2id4Lxwr",
        "colab_type": "code",
        "colab": {
          "autoexec": {
            "startup": false,
            "wait_interval": 0
          }
        }
      },
      "cell_type": "code",
      "source": [
        "good_examples['target']=0.9"
      ],
      "execution_count": 0,
      "outputs": []
    },
    {
      "metadata": {
        "id": "lCEQGZX2b7VX",
        "colab_type": "code",
        "colab": {
          "autoexec": {
            "startup": false,
            "wait_interval": 0
          },
          "base_uri": "https://localhost:8080/",
          "height": 346
        },
        "outputId": "a1b65e20-de8e-4a76-c4f9-ff6cbc2d8611",
        "executionInfo": {
          "status": "ok",
          "timestamp": 1524201239861,
          "user_tz": -120,
          "elapsed": 3726,
          "user": {
            "displayName": "nourhene chaalia",
            "photoUrl": "https://lh3.googleusercontent.com/a/default-user=s128",
            "userId": "100626486300945214800"
          }
        }
      },
      "cell_type": "code",
      "source": [
        "good_examples.describe()\n"
      ],
      "execution_count": 57,
      "outputs": [
        {
          "output_type": "execute_result",
          "data": {
            "text/html": [
              "<div>\n",
              "<style scoped>\n",
              "    .dataframe tbody tr th:only-of-type {\n",
              "        vertical-align: middle;\n",
              "    }\n",
              "\n",
              "    .dataframe tbody tr th {\n",
              "        vertical-align: top;\n",
              "    }\n",
              "\n",
              "    .dataframe thead th {\n",
              "        text-align: right;\n",
              "    }\n",
              "</style>\n",
              "<table border=\"1\" class=\"dataframe\">\n",
              "  <thead>\n",
              "    <tr style=\"text-align: right;\">\n",
              "      <th></th>\n",
              "      <th>0</th>\n",
              "      <th>1</th>\n",
              "      <th>2</th>\n",
              "      <th>3</th>\n",
              "      <th>4</th>\n",
              "      <th>5</th>\n",
              "      <th>6</th>\n",
              "      <th>7</th>\n",
              "      <th>8</th>\n",
              "      <th>9</th>\n",
              "      <th>...</th>\n",
              "      <th>774</th>\n",
              "      <th>775</th>\n",
              "      <th>776</th>\n",
              "      <th>777</th>\n",
              "      <th>778</th>\n",
              "      <th>779</th>\n",
              "      <th>780</th>\n",
              "      <th>781</th>\n",
              "      <th>782</th>\n",
              "      <th>783</th>\n",
              "    </tr>\n",
              "  </thead>\n",
              "  <tbody>\n",
              "    <tr>\n",
              "      <th>count</th>\n",
              "      <td>1597.000000</td>\n",
              "      <td>1597.000000</td>\n",
              "      <td>1597.000000</td>\n",
              "      <td>1597.000000</td>\n",
              "      <td>1597.000000</td>\n",
              "      <td>1597.000000</td>\n",
              "      <td>1597.000000</td>\n",
              "      <td>1597.000000</td>\n",
              "      <td>1597.000000</td>\n",
              "      <td>1597.000000</td>\n",
              "      <td>...</td>\n",
              "      <td>1597.000000</td>\n",
              "      <td>1597.000000</td>\n",
              "      <td>1597.000000</td>\n",
              "      <td>1597.000000</td>\n",
              "      <td>1597.000000</td>\n",
              "      <td>1597.000000</td>\n",
              "      <td>1597.000000</td>\n",
              "      <td>1597.000000</td>\n",
              "      <td>1597.000000</td>\n",
              "      <td>1597.000000</td>\n",
              "    </tr>\n",
              "    <tr>\n",
              "      <th>mean</th>\n",
              "      <td>-0.995176</td>\n",
              "      <td>-0.993766</td>\n",
              "      <td>-0.996131</td>\n",
              "      <td>-0.996940</td>\n",
              "      <td>-0.995033</td>\n",
              "      <td>-0.994356</td>\n",
              "      <td>-0.994659</td>\n",
              "      <td>-0.993177</td>\n",
              "      <td>-0.995948</td>\n",
              "      <td>-0.996043</td>\n",
              "      <td>...</td>\n",
              "      <td>-0.995247</td>\n",
              "      <td>-0.994506</td>\n",
              "      <td>-0.995754</td>\n",
              "      <td>-0.995953</td>\n",
              "      <td>-0.996218</td>\n",
              "      <td>-0.995564</td>\n",
              "      <td>-0.996984</td>\n",
              "      <td>-0.994430</td>\n",
              "      <td>-0.994446</td>\n",
              "      <td>-0.994867</td>\n",
              "    </tr>\n",
              "    <tr>\n",
              "      <th>std</th>\n",
              "      <td>0.022676</td>\n",
              "      <td>0.071719</td>\n",
              "      <td>0.030761</td>\n",
              "      <td>0.021868</td>\n",
              "      <td>0.058353</td>\n",
              "      <td>0.068595</td>\n",
              "      <td>0.056665</td>\n",
              "      <td>0.090976</td>\n",
              "      <td>0.028683</td>\n",
              "      <td>0.022478</td>\n",
              "      <td>...</td>\n",
              "      <td>0.044414</td>\n",
              "      <td>0.043754</td>\n",
              "      <td>0.044672</td>\n",
              "      <td>0.048292</td>\n",
              "      <td>0.040180</td>\n",
              "      <td>0.056766</td>\n",
              "      <td>0.036540</td>\n",
              "      <td>0.064524</td>\n",
              "      <td>0.062713</td>\n",
              "      <td>0.043451</td>\n",
              "    </tr>\n",
              "    <tr>\n",
              "      <th>min</th>\n",
              "      <td>-1.000000</td>\n",
              "      <td>-1.000000</td>\n",
              "      <td>-1.000000</td>\n",
              "      <td>-1.000000</td>\n",
              "      <td>-1.000000</td>\n",
              "      <td>-1.000000</td>\n",
              "      <td>-1.000000</td>\n",
              "      <td>-1.000000</td>\n",
              "      <td>-1.000000</td>\n",
              "      <td>-1.000000</td>\n",
              "      <td>...</td>\n",
              "      <td>-1.000000</td>\n",
              "      <td>-1.000000</td>\n",
              "      <td>-1.000000</td>\n",
              "      <td>-1.000000</td>\n",
              "      <td>-1.000000</td>\n",
              "      <td>-1.000000</td>\n",
              "      <td>-1.000000</td>\n",
              "      <td>-1.000000</td>\n",
              "      <td>-1.000000</td>\n",
              "      <td>-1.000000</td>\n",
              "    </tr>\n",
              "    <tr>\n",
              "      <th>25%</th>\n",
              "      <td>-0.999997</td>\n",
              "      <td>-0.999998</td>\n",
              "      <td>-1.000000</td>\n",
              "      <td>-1.000000</td>\n",
              "      <td>-1.000000</td>\n",
              "      <td>-1.000000</td>\n",
              "      <td>-1.000000</td>\n",
              "      <td>-1.000000</td>\n",
              "      <td>-1.000000</td>\n",
              "      <td>-1.000000</td>\n",
              "      <td>...</td>\n",
              "      <td>-1.000000</td>\n",
              "      <td>-1.000000</td>\n",
              "      <td>-1.000000</td>\n",
              "      <td>-1.000000</td>\n",
              "      <td>-1.000000</td>\n",
              "      <td>-1.000000</td>\n",
              "      <td>-1.000000</td>\n",
              "      <td>-1.000000</td>\n",
              "      <td>-1.000000</td>\n",
              "      <td>-0.999999</td>\n",
              "    </tr>\n",
              "    <tr>\n",
              "      <th>50%</th>\n",
              "      <td>-0.999690</td>\n",
              "      <td>-0.999968</td>\n",
              "      <td>-0.999994</td>\n",
              "      <td>-0.999994</td>\n",
              "      <td>-0.999998</td>\n",
              "      <td>-0.999997</td>\n",
              "      <td>-0.999997</td>\n",
              "      <td>-0.999997</td>\n",
              "      <td>-0.999995</td>\n",
              "      <td>-0.999996</td>\n",
              "      <td>...</td>\n",
              "      <td>-0.999999</td>\n",
              "      <td>-0.999996</td>\n",
              "      <td>-0.999998</td>\n",
              "      <td>-0.999999</td>\n",
              "      <td>-0.999999</td>\n",
              "      <td>-0.999999</td>\n",
              "      <td>-0.999999</td>\n",
              "      <td>-0.999999</td>\n",
              "      <td>-0.999998</td>\n",
              "      <td>-0.999978</td>\n",
              "    </tr>\n",
              "    <tr>\n",
              "      <th>75%</th>\n",
              "      <td>-0.997382</td>\n",
              "      <td>-0.999635</td>\n",
              "      <td>-0.999862</td>\n",
              "      <td>-0.999796</td>\n",
              "      <td>-0.999907</td>\n",
              "      <td>-0.999875</td>\n",
              "      <td>-0.999838</td>\n",
              "      <td>-0.999876</td>\n",
              "      <td>-0.999832</td>\n",
              "      <td>-0.999779</td>\n",
              "      <td>...</td>\n",
              "      <td>-0.999886</td>\n",
              "      <td>-0.999799</td>\n",
              "      <td>-0.999833</td>\n",
              "      <td>-0.999874</td>\n",
              "      <td>-0.999893</td>\n",
              "      <td>-0.999910</td>\n",
              "      <td>-0.999924</td>\n",
              "      <td>-0.999925</td>\n",
              "      <td>-0.999897</td>\n",
              "      <td>-0.999665</td>\n",
              "    </tr>\n",
              "    <tr>\n",
              "      <th>max</th>\n",
              "      <td>-0.554537</td>\n",
              "      <td>0.973915</td>\n",
              "      <td>-0.473082</td>\n",
              "      <td>-0.504714</td>\n",
              "      <td>0.898213</td>\n",
              "      <td>0.927467</td>\n",
              "      <td>0.562766</td>\n",
              "      <td>0.997642</td>\n",
              "      <td>-0.449555</td>\n",
              "      <td>-0.625932</td>\n",
              "      <td>...</td>\n",
              "      <td>0.300256</td>\n",
              "      <td>0.106140</td>\n",
              "      <td>0.301157</td>\n",
              "      <td>0.593253</td>\n",
              "      <td>0.266494</td>\n",
              "      <td>0.692286</td>\n",
              "      <td>0.354387</td>\n",
              "      <td>0.742561</td>\n",
              "      <td>0.787538</td>\n",
              "      <td>0.058935</td>\n",
              "    </tr>\n",
              "  </tbody>\n",
              "</table>\n",
              "<p>8 rows × 784 columns</p>\n",
              "</div>"
            ],
            "text/plain": [
              "               0            1            2            3            4    \\\n",
              "count  1597.000000  1597.000000  1597.000000  1597.000000  1597.000000   \n",
              "mean     -0.995176    -0.993766    -0.996131    -0.996940    -0.995033   \n",
              "std       0.022676     0.071719     0.030761     0.021868     0.058353   \n",
              "min      -1.000000    -1.000000    -1.000000    -1.000000    -1.000000   \n",
              "25%      -0.999997    -0.999998    -1.000000    -1.000000    -1.000000   \n",
              "50%      -0.999690    -0.999968    -0.999994    -0.999994    -0.999998   \n",
              "75%      -0.997382    -0.999635    -0.999862    -0.999796    -0.999907   \n",
              "max      -0.554537     0.973915    -0.473082    -0.504714     0.898213   \n",
              "\n",
              "               5            6            7            8            9    \\\n",
              "count  1597.000000  1597.000000  1597.000000  1597.000000  1597.000000   \n",
              "mean     -0.994356    -0.994659    -0.993177    -0.995948    -0.996043   \n",
              "std       0.068595     0.056665     0.090976     0.028683     0.022478   \n",
              "min      -1.000000    -1.000000    -1.000000    -1.000000    -1.000000   \n",
              "25%      -1.000000    -1.000000    -1.000000    -1.000000    -1.000000   \n",
              "50%      -0.999997    -0.999997    -0.999997    -0.999995    -0.999996   \n",
              "75%      -0.999875    -0.999838    -0.999876    -0.999832    -0.999779   \n",
              "max       0.927467     0.562766     0.997642    -0.449555    -0.625932   \n",
              "\n",
              "          ...               774          775          776          777  \\\n",
              "count     ...       1597.000000  1597.000000  1597.000000  1597.000000   \n",
              "mean      ...         -0.995247    -0.994506    -0.995754    -0.995953   \n",
              "std       ...          0.044414     0.043754     0.044672     0.048292   \n",
              "min       ...         -1.000000    -1.000000    -1.000000    -1.000000   \n",
              "25%       ...         -1.000000    -1.000000    -1.000000    -1.000000   \n",
              "50%       ...         -0.999999    -0.999996    -0.999998    -0.999999   \n",
              "75%       ...         -0.999886    -0.999799    -0.999833    -0.999874   \n",
              "max       ...          0.300256     0.106140     0.301157     0.593253   \n",
              "\n",
              "               778          779          780          781          782  \\\n",
              "count  1597.000000  1597.000000  1597.000000  1597.000000  1597.000000   \n",
              "mean     -0.996218    -0.995564    -0.996984    -0.994430    -0.994446   \n",
              "std       0.040180     0.056766     0.036540     0.064524     0.062713   \n",
              "min      -1.000000    -1.000000    -1.000000    -1.000000    -1.000000   \n",
              "25%      -1.000000    -1.000000    -1.000000    -1.000000    -1.000000   \n",
              "50%      -0.999999    -0.999999    -0.999999    -0.999999    -0.999998   \n",
              "75%      -0.999893    -0.999910    -0.999924    -0.999925    -0.999897   \n",
              "max       0.266494     0.692286     0.354387     0.742561     0.787538   \n",
              "\n",
              "               783  \n",
              "count  1597.000000  \n",
              "mean     -0.994867  \n",
              "std       0.043451  \n",
              "min      -1.000000  \n",
              "25%      -0.999999  \n",
              "50%      -0.999978  \n",
              "75%      -0.999665  \n",
              "max       0.058935  \n",
              "\n",
              "[8 rows x 784 columns]"
            ]
          },
          "metadata": {
            "tags": []
          },
          "execution_count": 57
        }
      ]
    },
    {
      "metadata": {
        "id": "W8vfGs2JEYcw",
        "colab_type": "text"
      },
      "cell_type": "markdown",
      "source": [
        "# Creer base rejector"
      ]
    },
    {
      "metadata": {
        "id": "EJuBjRqlEgQs",
        "colab_type": "code",
        "colab": {
          "autoexec": {
            "startup": false,
            "wait_interval": 0
          }
        }
      },
      "cell_type": "code",
      "source": [
        "# Load MNIST data\n",
        "(X_train, y_train), (X_test, y_test) = mnist.load_data()\n",
        "\n",
        "X_train = (X_train.astype(np.float32) - 127.5)/127.5\n",
        "\n",
        "X_train=pd.DataFrame(X_train.reshape(60000,28*28))\n",
        "#good examples same reshape as X train \n",
        "X_train['target']=0\n",
        "\n",
        "X_train=X_train.append(good_examples)\n"
      ],
      "execution_count": 0,
      "outputs": []
    },
    {
      "metadata": {
        "id": "x7ThoLt9MGOL",
        "colab_type": "code",
        "colab": {
          "autoexec": {
            "startup": false,
            "wait_interval": 0
          }
        }
      },
      "cell_type": "code",
      "source": [
        "from sklearn.utils import shuffle\n",
        "X_train = shuffle(X_train)\n"
      ],
      "execution_count": 0,
      "outputs": []
    },
    {
      "metadata": {
        "id": "KfI4WgPP4MKv",
        "colab_type": "code",
        "colab": {
          "autoexec": {
            "startup": false,
            "wait_interval": 0
          }
        }
      },
      "cell_type": "code",
      "source": [
        "X_train.to_csv('X_train_48.csv',index=False)"
      ],
      "execution_count": 0,
      "outputs": []
    },
    {
      "metadata": {
        "id": "sBpfO7O64TMC",
        "colab_type": "code",
        "colab": {
          "autoexec": {
            "startup": false,
            "wait_interval": 0
          },
          "base_uri": "https://localhost:8080/",
          "height": 34
        },
        "outputId": "55d40915-6aa9-4e7b-b109-eaa6908323d6",
        "executionInfo": {
          "status": "ok",
          "timestamp": 1524200893456,
          "user_tz": -120,
          "elapsed": 11529,
          "user": {
            "displayName": "nourhene chaalia",
            "photoUrl": "https://lh3.googleusercontent.com/a/default-user=s128",
            "userId": "100626486300945214800"
          }
        }
      },
      "cell_type": "code",
      "source": [
        "# Install the PyDrive wrapper & import libraries.\n",
        "# This only needs to be done once in a notebook.\n",
        "!pip install -U -q PyDrive\n",
        "from pydrive.auth import GoogleAuth\n",
        "from pydrive.drive import GoogleDrive\n",
        "from google.colab import auth\n",
        "from oauth2client.client import GoogleCredentials\n",
        "\n",
        "# Authenticate and create the PyDrive client.\n",
        "# This only needs to be done once in a notebook.\n",
        "auth.authenticate_user()\n",
        "gauth = GoogleAuth()\n",
        "gauth.credentials = GoogleCredentials.get_application_default()\n",
        "drive = GoogleDrive(gauth)\n",
        "\n",
        "# Create & upload a file.\n",
        "uploaded = drive.CreateFile({'title': 'X_train.csv'})\n",
        "uploaded.SetContentFile('X_train.csv')\n",
        "uploaded.Upload()\n",
        "print('Uploaded file with ID {}'.format(uploaded.get('id')))\n"
      ],
      "execution_count": 36,
      "outputs": [
        {
          "output_type": "stream",
          "text": [
            "Uploaded file with ID 1wwp5a8iHb8WXXQ336y6sGHluVhaf6qhm\n"
          ],
          "name": "stdout"
        }
      ]
    },
    {
      "metadata": {
        "id": "79fzKlLm2HA4",
        "colab_type": "text"
      },
      "cell_type": "markdown",
      "source": [
        "# rejector with 1 output"
      ]
    },
    {
      "metadata": {
        "id": "lz3TiGALM70B",
        "colab_type": "code",
        "colab": {
          "autoexec": {
            "startup": false,
            "wait_interval": 0
          }
        }
      },
      "cell_type": "code",
      "source": [
        "\n",
        "\n",
        "# Code to read csv file into colaboratory:\n",
        "!pip install -U -q PyDrive\n",
        "from pydrive.auth import GoogleAuth\n",
        "from pydrive.drive import GoogleDrive\n",
        "from google.colab import auth\n",
        "from oauth2client.client import GoogleCredentials\n",
        "\n",
        "# 1. Authenticate and create the PyDrive client.\n",
        "auth.authenticate_user()\n",
        "gauth = GoogleAuth()\n",
        "gauth.credentials = GoogleCredentials.get_application_default()\n",
        "drive = GoogleDrive(gauth)\n",
        "\n",
        "#2. Get the file\n",
        "downloaded = drive.CreateFile({'id':'1wwp5a8iHb8WXXQ336y6sGHluVhaf6qhm'}) # replace the id with id of file you want to access\n",
        "downloaded.GetContentFile('X_train.csv')  \n",
        "\n",
        "#3. Read file as panda dataframe\n",
        "import pandas as pd\n",
        "xyz = pd.read_csv('X_train.csv') "
      ],
      "execution_count": 0,
      "outputs": []
    },
    {
      "metadata": {
        "id": "N-HwvtQKWWE8",
        "colab_type": "code",
        "colab": {
          "autoexec": {
            "startup": false,
            "wait_interval": 0
          },
          "base_uri": "https://localhost:8080/",
          "height": 253
        },
        "outputId": "a42a23f3-bd2c-4bc4-c260-dc2ce206688b",
        "executionInfo": {
          "status": "ok",
          "timestamp": 1526407143270,
          "user_tz": -120,
          "elapsed": 451,
          "user": {
            "displayName": "nourhene chaalia",
            "photoUrl": "https://lh3.googleusercontent.com/a/default-user=s128",
            "userId": "100626486300945214800"
          }
        }
      },
      "cell_type": "code",
      "source": [
        "xyz.head()"
      ],
      "execution_count": 8,
      "outputs": [
        {
          "output_type": "execute_result",
          "data": {
            "text/html": [
              "<div>\n",
              "<style scoped>\n",
              "    .dataframe tbody tr th:only-of-type {\n",
              "        vertical-align: middle;\n",
              "    }\n",
              "\n",
              "    .dataframe tbody tr th {\n",
              "        vertical-align: top;\n",
              "    }\n",
              "\n",
              "    .dataframe thead th {\n",
              "        text-align: right;\n",
              "    }\n",
              "</style>\n",
              "<table border=\"1\" class=\"dataframe\">\n",
              "  <thead>\n",
              "    <tr style=\"text-align: right;\">\n",
              "      <th></th>\n",
              "      <th>0</th>\n",
              "      <th>1</th>\n",
              "      <th>2</th>\n",
              "      <th>3</th>\n",
              "      <th>4</th>\n",
              "      <th>5</th>\n",
              "      <th>6</th>\n",
              "      <th>7</th>\n",
              "      <th>8</th>\n",
              "      <th>9</th>\n",
              "      <th>...</th>\n",
              "      <th>775</th>\n",
              "      <th>776</th>\n",
              "      <th>777</th>\n",
              "      <th>778</th>\n",
              "      <th>779</th>\n",
              "      <th>780</th>\n",
              "      <th>781</th>\n",
              "      <th>782</th>\n",
              "      <th>783</th>\n",
              "      <th>target</th>\n",
              "    </tr>\n",
              "  </thead>\n",
              "  <tbody>\n",
              "    <tr>\n",
              "      <th>0</th>\n",
              "      <td>-1.000000</td>\n",
              "      <td>-1.000000</td>\n",
              "      <td>-1.000000</td>\n",
              "      <td>-1.000000</td>\n",
              "      <td>-1.000000</td>\n",
              "      <td>-1.000000</td>\n",
              "      <td>-1.000000</td>\n",
              "      <td>-1.000000</td>\n",
              "      <td>-1.00000</td>\n",
              "      <td>-1.000000</td>\n",
              "      <td>...</td>\n",
              "      <td>-1.00000</td>\n",
              "      <td>-1.000000</td>\n",
              "      <td>-1.000000</td>\n",
              "      <td>-1.000000</td>\n",
              "      <td>-1.000000</td>\n",
              "      <td>-1.0</td>\n",
              "      <td>-1.000000</td>\n",
              "      <td>-1.000000</td>\n",
              "      <td>-1.000000</td>\n",
              "      <td>0.0</td>\n",
              "    </tr>\n",
              "    <tr>\n",
              "      <th>1</th>\n",
              "      <td>-1.000000</td>\n",
              "      <td>-1.000000</td>\n",
              "      <td>-1.000000</td>\n",
              "      <td>-1.000000</td>\n",
              "      <td>-1.000000</td>\n",
              "      <td>-1.000000</td>\n",
              "      <td>-1.000000</td>\n",
              "      <td>-1.000000</td>\n",
              "      <td>-1.00000</td>\n",
              "      <td>-1.000000</td>\n",
              "      <td>...</td>\n",
              "      <td>-1.00000</td>\n",
              "      <td>-1.000000</td>\n",
              "      <td>-1.000000</td>\n",
              "      <td>-1.000000</td>\n",
              "      <td>-1.000000</td>\n",
              "      <td>-1.0</td>\n",
              "      <td>-1.000000</td>\n",
              "      <td>-1.000000</td>\n",
              "      <td>-1.000000</td>\n",
              "      <td>0.0</td>\n",
              "    </tr>\n",
              "    <tr>\n",
              "      <th>2</th>\n",
              "      <td>-0.999997</td>\n",
              "      <td>-0.999977</td>\n",
              "      <td>-0.999994</td>\n",
              "      <td>-0.999999</td>\n",
              "      <td>-0.999640</td>\n",
              "      <td>-1.000000</td>\n",
              "      <td>-0.999999</td>\n",
              "      <td>-0.999997</td>\n",
              "      <td>-1.00000</td>\n",
              "      <td>-0.999945</td>\n",
              "      <td>...</td>\n",
              "      <td>-0.99996</td>\n",
              "      <td>-0.999963</td>\n",
              "      <td>-0.999997</td>\n",
              "      <td>-1.000000</td>\n",
              "      <td>-0.999732</td>\n",
              "      <td>-1.0</td>\n",
              "      <td>-0.999999</td>\n",
              "      <td>-1.000000</td>\n",
              "      <td>-1.000000</td>\n",
              "      <td>0.9</td>\n",
              "    </tr>\n",
              "    <tr>\n",
              "      <th>3</th>\n",
              "      <td>-0.952197</td>\n",
              "      <td>-0.990655</td>\n",
              "      <td>-0.999071</td>\n",
              "      <td>-0.999034</td>\n",
              "      <td>-0.999355</td>\n",
              "      <td>-0.998921</td>\n",
              "      <td>-0.999309</td>\n",
              "      <td>-0.999701</td>\n",
              "      <td>-0.99991</td>\n",
              "      <td>-0.999990</td>\n",
              "      <td>...</td>\n",
              "      <td>-1.00000</td>\n",
              "      <td>-1.000000</td>\n",
              "      <td>-1.000000</td>\n",
              "      <td>-1.000000</td>\n",
              "      <td>-1.000000</td>\n",
              "      <td>-1.0</td>\n",
              "      <td>-1.000000</td>\n",
              "      <td>-1.000000</td>\n",
              "      <td>-0.999998</td>\n",
              "      <td>0.9</td>\n",
              "    </tr>\n",
              "    <tr>\n",
              "      <th>4</th>\n",
              "      <td>-1.000000</td>\n",
              "      <td>-1.000000</td>\n",
              "      <td>-0.999999</td>\n",
              "      <td>-1.000000</td>\n",
              "      <td>-1.000000</td>\n",
              "      <td>-1.000000</td>\n",
              "      <td>-0.999998</td>\n",
              "      <td>-1.000000</td>\n",
              "      <td>-1.00000</td>\n",
              "      <td>-1.000000</td>\n",
              "      <td>...</td>\n",
              "      <td>-1.00000</td>\n",
              "      <td>-0.999999</td>\n",
              "      <td>-1.000000</td>\n",
              "      <td>-0.999999</td>\n",
              "      <td>-0.999999</td>\n",
              "      <td>-1.0</td>\n",
              "      <td>-0.999998</td>\n",
              "      <td>-0.999989</td>\n",
              "      <td>-1.000000</td>\n",
              "      <td>0.9</td>\n",
              "    </tr>\n",
              "  </tbody>\n",
              "</table>\n",
              "<p>5 rows × 785 columns</p>\n",
              "</div>"
            ],
            "text/plain": [
              "          0         1         2         3         4         5         6  \\\n",
              "0 -1.000000 -1.000000 -1.000000 -1.000000 -1.000000 -1.000000 -1.000000   \n",
              "1 -1.000000 -1.000000 -1.000000 -1.000000 -1.000000 -1.000000 -1.000000   \n",
              "2 -0.999997 -0.999977 -0.999994 -0.999999 -0.999640 -1.000000 -0.999999   \n",
              "3 -0.952197 -0.990655 -0.999071 -0.999034 -0.999355 -0.998921 -0.999309   \n",
              "4 -1.000000 -1.000000 -0.999999 -1.000000 -1.000000 -1.000000 -0.999998   \n",
              "\n",
              "          7        8         9   ...        775       776       777       778  \\\n",
              "0 -1.000000 -1.00000 -1.000000   ...   -1.00000 -1.000000 -1.000000 -1.000000   \n",
              "1 -1.000000 -1.00000 -1.000000   ...   -1.00000 -1.000000 -1.000000 -1.000000   \n",
              "2 -0.999997 -1.00000 -0.999945   ...   -0.99996 -0.999963 -0.999997 -1.000000   \n",
              "3 -0.999701 -0.99991 -0.999990   ...   -1.00000 -1.000000 -1.000000 -1.000000   \n",
              "4 -1.000000 -1.00000 -1.000000   ...   -1.00000 -0.999999 -1.000000 -0.999999   \n",
              "\n",
              "        779  780       781       782       783  target  \n",
              "0 -1.000000 -1.0 -1.000000 -1.000000 -1.000000     0.0  \n",
              "1 -1.000000 -1.0 -1.000000 -1.000000 -1.000000     0.0  \n",
              "2 -0.999732 -1.0 -0.999999 -1.000000 -1.000000     0.9  \n",
              "3 -1.000000 -1.0 -1.000000 -1.000000 -0.999998     0.9  \n",
              "4 -0.999999 -1.0 -0.999998 -0.999989 -1.000000     0.9  \n",
              "\n",
              "[5 rows x 785 columns]"
            ]
          },
          "metadata": {
            "tags": []
          },
          "execution_count": 8
        }
      ]
    },
    {
      "metadata": {
        "id": "x9gd0vtm9PjZ",
        "colab_type": "code",
        "colab": {
          "autoexec": {
            "startup": false,
            "wait_interval": 0
          },
          "base_uri": "https://localhost:8080/",
          "height": 493
        },
        "outputId": "4a8bca3a-9f7a-4409-df4e-d66fdcaff558",
        "executionInfo": {
          "status": "ok",
          "timestamp": 1526409635701,
          "user_tz": -120,
          "elapsed": 478,
          "user": {
            "displayName": "nourhene chaalia",
            "photoUrl": "https://lh3.googleusercontent.com/a/default-user=s128",
            "userId": "100626486300945214800"
          }
        }
      },
      "cell_type": "code",
      "source": [
        "########################################\"True\"\n",
        "from keras import activations, initializers, regularizers, constraints,metrics\n",
        "from keras.optimizers import Adam, Adagrad\n",
        "adagrad = Adagrad(lr=0.001, epsilon=None, decay=0.0) #c'est celui-là qui est utilisé pour tous les modèles\n",
        "\n",
        "\n",
        "# Rejector\n",
        "rejector= Sequential()\n",
        "rejector.add(Conv2D(64, kernel_size=(3, 3), padding='same', input_shape=(1, 28, 28),activation='relu'))\n",
        "rejector.add(MaxPooling2D(pool_size=(3, 3)))\n",
        "rejector.add(Conv2D(128, (3, 3), activation='relu') )\n",
        "rejector.add(MaxPooling2D(pool_size=(3, 3)) )\n",
        "rejector.add(Dropout(0.25))\n",
        "rejector.add(Flatten())\n",
        "rejector.add(Dense(128, activation='relu'))\n",
        "rejector.add(RBF2(300) )\n",
        "rejector.add(RBFLayer(alpha=2000.0) )\n",
        "rejector.add(Dense(1, activation='sigmoid', name='r_output', use_bias=False))\n",
        "\n",
        "\n",
        "rejector.compile(optimizer=adagrad, loss= 'mse', metrics=['acc'])  #  metrics=['acc', f1, precision, recall])\n",
        "rejector.summary()"
      ],
      "execution_count": 33,
      "outputs": [
        {
          "output_type": "stream",
          "text": [
            "('Shapes : ', TensorShape([Dimension(None), Dimension(1)]), TensorShape([Dimension(300)]), TensorShape([Dimension(None), Dimension(300)]))\n",
            "_________________________________________________________________\n",
            "Layer (type)                 Output Shape              Param #   \n",
            "=================================================================\n",
            "conv2d_13 (Conv2D)           (None, 64, 28, 28)        640       \n",
            "_________________________________________________________________\n",
            "max_pooling2d_9 (MaxPooling2 (None, 64, 9, 9)          0         \n",
            "_________________________________________________________________\n",
            "conv2d_14 (Conv2D)           (None, 128, 7, 7)         73856     \n",
            "_________________________________________________________________\n",
            "max_pooling2d_10 (MaxPooling (None, 128, 2, 2)         0         \n",
            "_________________________________________________________________\n",
            "dropout_9 (Dropout)          (None, 128, 2, 2)         0         \n",
            "_________________________________________________________________\n",
            "flatten_7 (Flatten)          (None, 512)               0         \n",
            "_________________________________________________________________\n",
            "dense_7 (Dense)              (None, 128)               65664     \n",
            "_________________________________________________________________\n",
            "rb_f2_5 (RBF2)               (None, 300)               38400     \n",
            "_________________________________________________________________\n",
            "rbf_layer_5 (RBFLayer)       (None, 300)               1         \n",
            "_________________________________________________________________\n",
            "r_output (Dense)             (None, 1)                 300       \n",
            "=================================================================\n",
            "Total params: 178,861\n",
            "Trainable params: 178,860\n",
            "Non-trainable params: 1\n",
            "_________________________________________________________________\n"
          ],
          "name": "stdout"
        }
      ]
    },
    {
      "metadata": {
        "id": "UOFqQp4J3un4",
        "colab_type": "code",
        "colab": {
          "autoexec": {
            "startup": false,
            "wait_interval": 0
          }
        }
      },
      "cell_type": "code",
      "source": [
        "from sklearn.model_selection import train_test_split\n",
        "xyz.target[xyz.target!=0]=0.9\n",
        "xyz_train,xyz_val=train_test_split(xyz,test_size=0.2)\n",
        "y_train=xyz_train.target.values\n",
        "x_train=xyz_train.drop(['target'],axis=1)\n",
        "y_val=xyz_val.target.values\n",
        "x_val=xyz_val.drop(['target'],axis=1)"
      ],
      "execution_count": 0,
      "outputs": []
    },
    {
      "metadata": {
        "id": "c0kLf2LqaUyz",
        "colab_type": "code",
        "colab": {
          "autoexec": {
            "startup": false,
            "wait_interval": 0
          },
          "base_uri": "https://localhost:8080/",
          "height": 34
        },
        "outputId": "ddb2ad15-cb07-4439-bece-16754173f868",
        "executionInfo": {
          "status": "ok",
          "timestamp": 1526409662291,
          "user_tz": -120,
          "elapsed": 538,
          "user": {
            "displayName": "nourhene chaalia",
            "photoUrl": "https://lh3.googleusercontent.com/a/default-user=s128",
            "userId": "100626486300945214800"
          }
        }
      },
      "cell_type": "code",
      "source": [
        "x_train.shape\n",
        "#x_val.shape"
      ],
      "execution_count": 35,
      "outputs": [
        {
          "output_type": "execute_result",
          "data": {
            "text/plain": [
              "(73266, 784)"
            ]
          },
          "metadata": {
            "tags": []
          },
          "execution_count": 35
        }
      ]
    },
    {
      "metadata": {
        "id": "x1sERW-laF2E",
        "colab_type": "code",
        "colab": {
          "autoexec": {
            "startup": false,
            "wait_interval": 0
          }
        }
      },
      "cell_type": "code",
      "source": [
        "x_train=x_train.values.astype('float32').reshape(73266,1,28,28)\n",
        "x_val=x_val.values.astype('float32').reshape(18317,1,28,28)"
      ],
      "execution_count": 0,
      "outputs": []
    },
    {
      "metadata": {
        "id": "mDmmywRXfLoz",
        "colab_type": "code",
        "colab": {
          "autoexec": {
            "startup": false,
            "wait_interval": 0
          },
          "base_uri": "https://localhost:8080/",
          "height": 34
        },
        "outputId": "8c04b8e5-da57-4269-91d7-4fc2e8156289",
        "executionInfo": {
          "status": "ok",
          "timestamp": 1526409664127,
          "user_tz": -120,
          "elapsed": 637,
          "user": {
            "displayName": "nourhene chaalia",
            "photoUrl": "https://lh3.googleusercontent.com/a/default-user=s128",
            "userId": "100626486300945214800"
          }
        }
      },
      "cell_type": "code",
      "source": [
        "x_train[0].shape"
      ],
      "execution_count": 37,
      "outputs": [
        {
          "output_type": "execute_result",
          "data": {
            "text/plain": [
              "(1, 28, 28)"
            ]
          },
          "metadata": {
            "tags": []
          },
          "execution_count": 37
        }
      ]
    },
    {
      "metadata": {
        "id": "cyvrmLpfajuJ",
        "colab_type": "code",
        "colab": {
          "autoexec": {
            "startup": false,
            "wait_interval": 0
          },
          "base_uri": "https://localhost:8080/",
          "height": 2009
        },
        "outputId": "08e20aea-a859-4ccc-d1ff-06f661e95bf6",
        "executionInfo": {
          "status": "ok",
          "timestamp": 1526410576938,
          "user_tz": -120,
          "elapsed": 909538,
          "user": {
            "displayName": "nourhene chaalia",
            "photoUrl": "https://lh3.googleusercontent.com/a/default-user=s128",
            "userId": "100626486300945214800"
          }
        }
      },
      "cell_type": "code",
      "source": [
        "from keras.callbacks import ReduceLROnPlateau\n",
        "# Set a learning rate annealer\n",
        "learning_rate_reduction = ReduceLROnPlateau(monitor='val_acc', patience=3, verbose=1, factor=0.5, min_lr=0.00001)\n",
        "\n",
        "epochs = 50 \n",
        "batch_size = 60\n",
        "rejector.fit(x_train, y_train, nb_epoch=epochs, batch_size=batch_size, callbacks=[learning_rate_reduction],validation_data = (x_val, y_val))"
      ],
      "execution_count": 38,
      "outputs": [
        {
          "output_type": "stream",
          "text": [
            "Train on 73266 samples, validate on 18317 samples\n",
            "Epoch 1/50\n",
            "73266/73266 [==============================] - 18s 251us/step - loss: 0.1809 - acc: 0.6561 - val_loss: 0.1796 - val_acc: 0.6514\n",
            "Epoch 2/50\n",
            "46860/73266 [==================>...........] - ETA: 6s - loss: 0.1750 - acc: 0.6568"
          ],
          "name": "stdout"
        },
        {
          "output_type": "stream",
          "text": [
            "73266/73266 [==============================] - 18s 247us/step - loss: 0.1737 - acc: 0.6561 - val_loss: 0.1714 - val_acc: 0.6514\n",
            "Epoch 3/50\n",
            "73266/73266 [==============================] - 18s 247us/step - loss: 0.1668 - acc: 0.6561 - val_loss: 0.1647 - val_acc: 0.6514\n",
            "Epoch 4/50\n",
            "14400/73266 [====>.........................] - ETA: 13s - loss: 0.1619 - acc: 0.6578"
          ],
          "name": "stdout"
        },
        {
          "output_type": "stream",
          "text": [
            "73266/73266 [==============================] - 18s 246us/step - loss: 0.1604 - acc: 0.6561 - val_loss: 0.1584 - val_acc: 0.6514\n",
            "\n",
            "Epoch 00004: ReduceLROnPlateau reducing learning rate to 0.000500000023749.\n",
            "Epoch 5/50\n",
            "63300/73266 [========================>.....] - ETA: 2s - loss: 0.1566 - acc: 0.6553"
          ],
          "name": "stdout"
        },
        {
          "output_type": "stream",
          "text": [
            "73266/73266 [==============================] - 18s 246us/step - loss: 0.1563 - acc: 0.6561 - val_loss: 0.1558 - val_acc: 0.6514\n",
            "Epoch 6/50\n",
            "73266/73266 [==============================] - 18s 247us/step - loss: 0.1539 - acc: 0.6561 - val_loss: 0.1541 - val_acc: 0.6514\n",
            "Epoch 7/50\n",
            "18300/73266 [======>.......................] - ETA: 12s - loss: 0.1539 - acc: 0.6535"
          ],
          "name": "stdout"
        },
        {
          "output_type": "stream",
          "text": [
            "73266/73266 [==============================] - 18s 248us/step - loss: 0.1521 - acc: 0.6561 - val_loss: 0.1522 - val_acc: 0.6514\n",
            "\n",
            "Epoch 00007: ReduceLROnPlateau reducing learning rate to 0.000250000011874.\n",
            "Epoch 8/50\n",
            "64140/73266 [=========================>....] - ETA: 2s - loss: 0.1505 - acc: 0.6563"
          ],
          "name": "stdout"
        },
        {
          "output_type": "stream",
          "text": [
            "73266/73266 [==============================] - 18s 247us/step - loss: 0.1507 - acc: 0.6561 - val_loss: 0.1510 - val_acc: 0.6514\n",
            "Epoch 9/50\n",
            "73266/73266 [==============================] - 18s 247us/step - loss: 0.1499 - acc: 0.6561 - val_loss: 0.1503 - val_acc: 0.6514\n",
            "Epoch 10/50\n",
            "18240/73266 [======>.......................] - ETA: 12s - loss: 0.1491 - acc: 0.6579"
          ],
          "name": "stdout"
        },
        {
          "output_type": "stream",
          "text": [
            "73266/73266 [==============================] - 18s 247us/step - loss: 0.1492 - acc: 0.6561 - val_loss: 0.1495 - val_acc: 0.6514\n",
            "\n",
            "Epoch 00010: ReduceLROnPlateau reducing learning rate to 0.000125000005937.\n",
            "Epoch 11/50\n",
            "64020/73266 [=========================>....] - ETA: 2s - loss: 0.1493 - acc: 0.6552"
          ],
          "name": "stdout"
        },
        {
          "output_type": "stream",
          "text": [
            "73266/73266 [==============================] - 18s 248us/step - loss: 0.1487 - acc: 0.6561 - val_loss: 0.1493 - val_acc: 0.6514\n",
            "Epoch 12/50\n",
            "73266/73266 [==============================] - 18s 249us/step - loss: 0.1483 - acc: 0.6561 - val_loss: 0.1490 - val_acc: 0.6514\n",
            "Epoch 13/50\n",
            "18000/73266 [======>.......................] - ETA: 12s - loss: 0.1481 - acc: 0.6541"
          ],
          "name": "stdout"
        },
        {
          "output_type": "stream",
          "text": [
            "73266/73266 [==============================] - 18s 249us/step - loss: 0.1482 - acc: 0.6561 - val_loss: 0.1486 - val_acc: 0.6514\n",
            "\n",
            "Epoch 00013: ReduceLROnPlateau reducing learning rate to 6.25000029686e-05.\n",
            "Epoch 14/50\n",
            "63840/73266 [=========================>....] - ETA: 2s - loss: 0.1475 - acc: 0.6570"
          ],
          "name": "stdout"
        },
        {
          "output_type": "stream",
          "text": [
            "73266/73266 [==============================] - 18s 249us/step - loss: 0.1478 - acc: 0.6561 - val_loss: 0.1485 - val_acc: 0.6514\n",
            "Epoch 15/50\n",
            "73266/73266 [==============================] - 18s 248us/step - loss: 0.1477 - acc: 0.6561 - val_loss: 0.1483 - val_acc: 0.6514\n",
            "Epoch 16/50\n",
            "18060/73266 [======>.......................] - ETA: 12s - loss: 0.1459 - acc: 0.6613"
          ],
          "name": "stdout"
        },
        {
          "output_type": "stream",
          "text": [
            "73266/73266 [==============================] - 18s 249us/step - loss: 0.1476 - acc: 0.6561 - val_loss: 0.1482 - val_acc: 0.6514\n",
            "\n",
            "Epoch 00016: ReduceLROnPlateau reducing learning rate to 3.12500014843e-05.\n",
            "Epoch 17/50\n",
            "63900/73266 [=========================>....] - ETA: 2s - loss: 0.1475 - acc: 0.6561"
          ],
          "name": "stdout"
        },
        {
          "output_type": "stream",
          "text": [
            "73266/73266 [==============================] - 18s 247us/step - loss: 0.1475 - acc: 0.6561 - val_loss: 0.1482 - val_acc: 0.6514\n",
            "Epoch 18/50\n",
            "73266/73266 [==============================] - 18s 250us/step - loss: 0.1474 - acc: 0.6561 - val_loss: 0.1481 - val_acc: 0.6514\n",
            "Epoch 19/50\n",
            "17880/73266 [======>.......................] - ETA: 12s - loss: 0.1474 - acc: 0.6559"
          ],
          "name": "stdout"
        },
        {
          "output_type": "stream",
          "text": [
            "73266/73266 [==============================] - 18s 251us/step - loss: 0.1474 - acc: 0.6561 - val_loss: 0.1481 - val_acc: 0.6514\n",
            "\n",
            "Epoch 00019: ReduceLROnPlateau reducing learning rate to 1.56250007421e-05.\n",
            "Epoch 20/50\n",
            "64020/73266 [=========================>....] - ETA: 2s - loss: 0.1470 - acc: 0.6572"
          ],
          "name": "stdout"
        },
        {
          "output_type": "stream",
          "text": [
            "73266/73266 [==============================] - 18s 250us/step - loss: 0.1474 - acc: 0.6561 - val_loss: 0.1480 - val_acc: 0.6514\n",
            "Epoch 21/50\n",
            "73266/73266 [==============================] - 18s 249us/step - loss: 0.1473 - acc: 0.6561 - val_loss: 0.1480 - val_acc: 0.6514\n",
            "Epoch 22/50\n",
            "18000/73266 [======>.......................] - ETA: 12s - loss: 0.1475 - acc: 0.6563"
          ],
          "name": "stdout"
        },
        {
          "output_type": "stream",
          "text": [
            "73266/73266 [==============================] - 18s 248us/step - loss: 0.1474 - acc: 0.6561 - val_loss: 0.1480 - val_acc: 0.6514\n",
            "\n",
            "Epoch 00022: ReduceLROnPlateau reducing learning rate to 1e-05.\n",
            "Epoch 23/50\n",
            "66540/73266 [==========================>...] - ETA: 1s - loss: 0.1470 - acc: 0.6567"
          ],
          "name": "stdout"
        },
        {
          "output_type": "stream",
          "text": [
            "73266/73266 [==============================] - 18s 250us/step - loss: 0.1474 - acc: 0.6561 - val_loss: 0.1480 - val_acc: 0.6514\n",
            "Epoch 24/50\n",
            "73266/73266 [==============================] - 18s 250us/step - loss: 0.1474 - acc: 0.6561 - val_loss: 0.1479 - val_acc: 0.6514\n",
            "Epoch 25/50\n",
            "18480/73266 [======>.......................] - ETA: 12s - loss: 0.1465 - acc: 0.6584"
          ],
          "name": "stdout"
        },
        {
          "output_type": "stream",
          "text": [
            "73266/73266 [==============================] - 18s 248us/step - loss: 0.1471 - acc: 0.6561 - val_loss: 0.1479 - val_acc: 0.6514\n",
            "Epoch 26/50\n",
            "73266/73266 [==============================] - 18s 249us/step - loss: 0.1473 - acc: 0.6561 - val_loss: 0.1479 - val_acc: 0.6514\n",
            "Epoch 27/50\n",
            " 7740/73266 [==>...........................] - ETA: 15s - loss: 0.1469 - acc: 0.6553"
          ],
          "name": "stdout"
        },
        {
          "output_type": "stream",
          "text": [
            "73266/73266 [==============================] - 18s 247us/step - loss: 0.1472 - acc: 0.6561 - val_loss: 0.1479 - val_acc: 0.6514\n",
            "Epoch 28/50\n",
            "73266/73266 [==============================] - 18s 247us/step - loss: 0.1472 - acc: 0.6561 - val_loss: 0.1479 - val_acc: 0.6514\n",
            "Epoch 29/50\n",
            " 5340/73266 [=>............................] - ETA: 15s - loss: 0.1485 - acc: 0.6532"
          ],
          "name": "stdout"
        },
        {
          "output_type": "stream",
          "text": [
            "73266/73266 [==============================] - 18s 249us/step - loss: 0.1473 - acc: 0.6561 - val_loss: 0.1479 - val_acc: 0.6514\n",
            "Epoch 30/50\n",
            "73266/73266 [==============================] - 18s 249us/step - loss: 0.1471 - acc: 0.6561 - val_loss: 0.1478 - val_acc: 0.6514\n",
            "Epoch 31/50\n",
            " 4620/73266 [>.............................] - ETA: 15s - loss: 0.1489 - acc: 0.6498"
          ],
          "name": "stdout"
        },
        {
          "output_type": "stream",
          "text": [
            "73266/73266 [==============================] - 18s 247us/step - loss: 0.1473 - acc: 0.6561 - val_loss: 0.1478 - val_acc: 0.6514\n",
            "Epoch 32/50\n",
            "73266/73266 [==============================] - 18s 248us/step - loss: 0.1473 - acc: 0.6561 - val_loss: 0.1478 - val_acc: 0.6514\n",
            "Epoch 33/50\n",
            " 4380/73266 [>.............................] - ETA: 15s - loss: 0.1460 - acc: 0.6660"
          ],
          "name": "stdout"
        },
        {
          "output_type": "stream",
          "text": [
            "73266/73266 [==============================] - 18s 248us/step - loss: 0.1470 - acc: 0.6561 - val_loss: 0.1478 - val_acc: 0.6514\n",
            "Epoch 34/50\n",
            "73266/73266 [==============================] - 18s 247us/step - loss: 0.1472 - acc: 0.6561 - val_loss: 0.1478 - val_acc: 0.6514\n",
            "Epoch 35/50\n",
            " 4380/73266 [>.............................] - ETA: 15s - loss: 0.1462 - acc: 0.6568"
          ],
          "name": "stdout"
        },
        {
          "output_type": "stream",
          "text": [
            "73266/73266 [==============================] - 18s 247us/step - loss: 0.1471 - acc: 0.6561 - val_loss: 0.1478 - val_acc: 0.6514\n",
            "Epoch 36/50\n",
            "73266/73266 [==============================] - 18s 247us/step - loss: 0.1471 - acc: 0.6561 - val_loss: 0.1478 - val_acc: 0.6514\n",
            "Epoch 37/50\n",
            " 4380/73266 [>.............................] - ETA: 15s - loss: 0.1449 - acc: 0.6635"
          ],
          "name": "stdout"
        },
        {
          "output_type": "stream",
          "text": [
            "73266/73266 [==============================] - 18s 247us/step - loss: 0.1471 - acc: 0.6561 - val_loss: 0.1478 - val_acc: 0.6514\n",
            "Epoch 38/50\n",
            "73266/73266 [==============================] - 18s 246us/step - loss: 0.1472 - acc: 0.6561 - val_loss: 0.1477 - val_acc: 0.6514\n",
            "Epoch 39/50\n",
            " 4380/73266 [>.............................] - ETA: 15s - loss: 0.1438 - acc: 0.6626"
          ],
          "name": "stdout"
        },
        {
          "output_type": "stream",
          "text": [
            "73266/73266 [==============================] - 18s 248us/step - loss: 0.1471 - acc: 0.6561 - val_loss: 0.1477 - val_acc: 0.6514\n",
            "Epoch 40/50\n",
            "73266/73266 [==============================] - 18s 248us/step - loss: 0.1472 - acc: 0.6561 - val_loss: 0.1477 - val_acc: 0.6514\n",
            "Epoch 41/50\n",
            " 4380/73266 [>.............................] - ETA: 16s - loss: 0.1453 - acc: 0.6639"
          ],
          "name": "stdout"
        },
        {
          "output_type": "stream",
          "text": [
            "73266/73266 [==============================] - 18s 247us/step - loss: 0.1473 - acc: 0.6561 - val_loss: 0.1477 - val_acc: 0.6514\n",
            "Epoch 42/50\n",
            "73266/73266 [==============================] - 18s 247us/step - loss: 0.1470 - acc: 0.6561 - val_loss: 0.1477 - val_acc: 0.6514\n",
            "Epoch 43/50\n",
            " 4620/73266 [>.............................] - ETA: 15s - loss: 0.1465 - acc: 0.6556"
          ],
          "name": "stdout"
        },
        {
          "output_type": "stream",
          "text": [
            "73266/73266 [==============================] - 18s 248us/step - loss: 0.1471 - acc: 0.6561 - val_loss: 0.1477 - val_acc: 0.6514\n",
            "Epoch 44/50\n",
            "73266/73266 [==============================] - 18s 247us/step - loss: 0.1470 - acc: 0.6561 - val_loss: 0.1477 - val_acc: 0.6514\n",
            "Epoch 45/50\n",
            " 4560/73266 [>.............................] - ETA: 15s - loss: 0.1451 - acc: 0.6559"
          ],
          "name": "stdout"
        },
        {
          "output_type": "stream",
          "text": [
            "73266/73266 [==============================] - 18s 248us/step - loss: 0.1469 - acc: 0.6561 - val_loss: 0.1477 - val_acc: 0.6514\n",
            "Epoch 46/50\n",
            "73266/73266 [==============================] - 18s 249us/step - loss: 0.1471 - acc: 0.6561 - val_loss: 0.1476 - val_acc: 0.6514\n",
            "Epoch 47/50\n",
            " 4620/73266 [>.............................] - ETA: 15s - loss: 0.1448 - acc: 0.6561"
          ],
          "name": "stdout"
        },
        {
          "output_type": "stream",
          "text": [
            "73266/73266 [==============================] - 18s 247us/step - loss: 0.1471 - acc: 0.6561 - val_loss: 0.1476 - val_acc: 0.6514\n",
            "Epoch 48/50\n",
            "73266/73266 [==============================] - 18s 246us/step - loss: 0.1470 - acc: 0.6561 - val_loss: 0.1476 - val_acc: 0.6514\n",
            "Epoch 49/50\n",
            " 4620/73266 [>.............................] - ETA: 15s - loss: 0.1456 - acc: 0.6654"
          ],
          "name": "stdout"
        },
        {
          "output_type": "stream",
          "text": [
            "73266/73266 [==============================] - 18s 248us/step - loss: 0.1470 - acc: 0.6561 - val_loss: 0.1476 - val_acc: 0.6514\n",
            "Epoch 50/50\n",
            "73266/73266 [==============================] - 18s 248us/step - loss: 0.1470 - acc: 0.6561 - val_loss: 0.1476 - val_acc: 0.6514\n"
          ],
          "name": "stdout"
        },
        {
          "output_type": "execute_result",
          "data": {
            "text/plain": [
              "<keras.callbacks.History at 0x7febb3a2da10>"
            ]
          },
          "metadata": {
            "tags": []
          },
          "execution_count": 38
        }
      ]
    },
    {
      "metadata": {
        "id": "ux5tgCQwdGQK",
        "colab_type": "code",
        "colab": {
          "autoexec": {
            "startup": false,
            "wait_interval": 0
          }
        }
      },
      "cell_type": "code",
      "source": [
        "y_pred=rejector.predict(x_val)"
      ],
      "execution_count": 0,
      "outputs": []
    },
    {
      "metadata": {
        "id": "4EzqZgJeKaYS",
        "colab_type": "code",
        "colab": {
          "autoexec": {
            "startup": false,
            "wait_interval": 0
          },
          "base_uri": "https://localhost:8080/",
          "height": 34
        },
        "outputId": "000533e2-9168-40cf-a2fd-75a9a3694689",
        "executionInfo": {
          "status": "ok",
          "timestamp": 1526411128469,
          "user_tz": -120,
          "elapsed": 463,
          "user": {
            "displayName": "nourhene chaalia",
            "photoUrl": "https://lh3.googleusercontent.com/a/default-user=s128",
            "userId": "100626486300945214800"
          }
        }
      },
      "cell_type": "code",
      "source": [
        "len(y_pred)\n"
      ],
      "execution_count": 58,
      "outputs": [
        {
          "output_type": "execute_result",
          "data": {
            "text/plain": [
              "18317"
            ]
          },
          "metadata": {
            "tags": []
          },
          "execution_count": 58
        }
      ]
    },
    {
      "metadata": {
        "id": "3hRX8QkUKvZL",
        "colab_type": "code",
        "colab": {
          "autoexec": {
            "startup": false,
            "wait_interval": 0
          }
        }
      },
      "cell_type": "code",
      "source": [
        "df_seuil=pd.DataFrame()\n",
        "Y_pred=[]\n",
        "Y_val=[]\n",
        "for i in range (18317):\n",
        "  Y_pred.append(y_pred[i].item())\n",
        "  Y_val.append(y_val[i].item())\n",
        "df_seuil['y_pred']=Y_pred\n",
        "df_seuil['y_val']=Y_val"
      ],
      "execution_count": 0,
      "outputs": []
    },
    {
      "metadata": {
        "id": "VY8oj4gDLNkw",
        "colab_type": "code",
        "colab": {
          "autoexec": {
            "startup": false,
            "wait_interval": 0
          },
          "base_uri": "https://localhost:8080/",
          "height": 359
        },
        "outputId": "bbc93104-0250-4d76-b4bf-37c8df7eeb2a",
        "executionInfo": {
          "status": "ok",
          "timestamp": 1526413427668,
          "user_tz": -120,
          "elapsed": 465,
          "user": {
            "displayName": "nourhene chaalia",
            "photoUrl": "https://lh3.googleusercontent.com/a/default-user=s128",
            "userId": "100626486300945214800"
          }
        }
      },
      "cell_type": "code",
      "source": [
        "df_seuil.head(10)"
      ],
      "execution_count": 116,
      "outputs": [
        {
          "output_type": "execute_result",
          "data": {
            "text/html": [
              "<div>\n",
              "<style scoped>\n",
              "    .dataframe tbody tr th:only-of-type {\n",
              "        vertical-align: middle;\n",
              "    }\n",
              "\n",
              "    .dataframe tbody tr th {\n",
              "        vertical-align: top;\n",
              "    }\n",
              "\n",
              "    .dataframe thead th {\n",
              "        text-align: right;\n",
              "    }\n",
              "</style>\n",
              "<table border=\"1\" class=\"dataframe\">\n",
              "  <thead>\n",
              "    <tr style=\"text-align: right;\">\n",
              "      <th></th>\n",
              "      <th>y_pred</th>\n",
              "      <th>y_val</th>\n",
              "    </tr>\n",
              "  </thead>\n",
              "  <tbody>\n",
              "    <tr>\n",
              "      <th>0</th>\n",
              "      <td>0.387417</td>\n",
              "      <td>0.0</td>\n",
              "    </tr>\n",
              "    <tr>\n",
              "      <th>1</th>\n",
              "      <td>0.369321</td>\n",
              "      <td>0.0</td>\n",
              "    </tr>\n",
              "    <tr>\n",
              "      <th>2</th>\n",
              "      <td>0.198930</td>\n",
              "      <td>0.0</td>\n",
              "    </tr>\n",
              "    <tr>\n",
              "      <th>3</th>\n",
              "      <td>0.130629</td>\n",
              "      <td>0.9</td>\n",
              "    </tr>\n",
              "    <tr>\n",
              "      <th>4</th>\n",
              "      <td>0.261619</td>\n",
              "      <td>0.0</td>\n",
              "    </tr>\n",
              "    <tr>\n",
              "      <th>5</th>\n",
              "      <td>0.240656</td>\n",
              "      <td>0.9</td>\n",
              "    </tr>\n",
              "    <tr>\n",
              "      <th>6</th>\n",
              "      <td>0.205103</td>\n",
              "      <td>0.0</td>\n",
              "    </tr>\n",
              "    <tr>\n",
              "      <th>7</th>\n",
              "      <td>0.224067</td>\n",
              "      <td>0.0</td>\n",
              "    </tr>\n",
              "    <tr>\n",
              "      <th>8</th>\n",
              "      <td>0.233302</td>\n",
              "      <td>0.9</td>\n",
              "    </tr>\n",
              "    <tr>\n",
              "      <th>9</th>\n",
              "      <td>0.117128</td>\n",
              "      <td>0.0</td>\n",
              "    </tr>\n",
              "  </tbody>\n",
              "</table>\n",
              "</div>"
            ],
            "text/plain": [
              "     y_pred  y_val\n",
              "0  0.387417    0.0\n",
              "1  0.369321    0.0\n",
              "2  0.198930    0.0\n",
              "3  0.130629    0.9\n",
              "4  0.261619    0.0\n",
              "5  0.240656    0.9\n",
              "6  0.205103    0.0\n",
              "7  0.224067    0.0\n",
              "8  0.233302    0.9\n",
              "9  0.117128    0.0"
            ]
          },
          "metadata": {
            "tags": []
          },
          "execution_count": 116
        }
      ]
    },
    {
      "metadata": {
        "id": "OHTvz-w7NJp0",
        "colab_type": "code",
        "colab": {
          "autoexec": {
            "startup": false,
            "wait_interval": 0
          }
        }
      },
      "cell_type": "code",
      "source": [
        "df_seuil=df_seuil.sort_values(by=['y_pred'],ascending=False)"
      ],
      "execution_count": 0,
      "outputs": []
    },
    {
      "metadata": {
        "id": "uKCFqhPpNl3W",
        "colab_type": "code",
        "colab": {
          "autoexec": {
            "startup": false,
            "wait_interval": 0
          },
          "base_uri": "https://localhost:8080/",
          "height": 1969
        },
        "outputId": "dbde89d4-9fae-4999-ff09-49a9a4727d00",
        "executionInfo": {
          "status": "ok",
          "timestamp": 1526413429273,
          "user_tz": -120,
          "elapsed": 505,
          "user": {
            "displayName": "nourhene chaalia",
            "photoUrl": "https://lh3.googleusercontent.com/a/default-user=s128",
            "userId": "100626486300945214800"
          }
        }
      },
      "cell_type": "code",
      "source": [
        "df_seuil"
      ],
      "execution_count": 118,
      "outputs": [
        {
          "output_type": "execute_result",
          "data": {
            "text/html": [
              "<div>\n",
              "<style scoped>\n",
              "    .dataframe tbody tr th:only-of-type {\n",
              "        vertical-align: middle;\n",
              "    }\n",
              "\n",
              "    .dataframe tbody tr th {\n",
              "        vertical-align: top;\n",
              "    }\n",
              "\n",
              "    .dataframe thead th {\n",
              "        text-align: right;\n",
              "    }\n",
              "</style>\n",
              "<table border=\"1\" class=\"dataframe\">\n",
              "  <thead>\n",
              "    <tr style=\"text-align: right;\">\n",
              "      <th></th>\n",
              "      <th>y_pred</th>\n",
              "      <th>y_val</th>\n",
              "    </tr>\n",
              "  </thead>\n",
              "  <tbody>\n",
              "    <tr>\n",
              "      <th>11120</th>\n",
              "      <td>0.500000</td>\n",
              "      <td>0.9</td>\n",
              "    </tr>\n",
              "    <tr>\n",
              "      <th>11383</th>\n",
              "      <td>0.500000</td>\n",
              "      <td>0.9</td>\n",
              "    </tr>\n",
              "    <tr>\n",
              "      <th>4183</th>\n",
              "      <td>0.500000</td>\n",
              "      <td>0.9</td>\n",
              "    </tr>\n",
              "    <tr>\n",
              "      <th>9236</th>\n",
              "      <td>0.500000</td>\n",
              "      <td>0.9</td>\n",
              "    </tr>\n",
              "    <tr>\n",
              "      <th>444</th>\n",
              "      <td>0.500000</td>\n",
              "      <td>0.9</td>\n",
              "    </tr>\n",
              "    <tr>\n",
              "      <th>2309</th>\n",
              "      <td>0.500000</td>\n",
              "      <td>0.9</td>\n",
              "    </tr>\n",
              "    <tr>\n",
              "      <th>5280</th>\n",
              "      <td>0.500000</td>\n",
              "      <td>0.9</td>\n",
              "    </tr>\n",
              "    <tr>\n",
              "      <th>5275</th>\n",
              "      <td>0.500000</td>\n",
              "      <td>0.9</td>\n",
              "    </tr>\n",
              "    <tr>\n",
              "      <th>2836</th>\n",
              "      <td>0.500000</td>\n",
              "      <td>0.9</td>\n",
              "    </tr>\n",
              "    <tr>\n",
              "      <th>13299</th>\n",
              "      <td>0.500000</td>\n",
              "      <td>0.9</td>\n",
              "    </tr>\n",
              "    <tr>\n",
              "      <th>5830</th>\n",
              "      <td>0.500000</td>\n",
              "      <td>0.9</td>\n",
              "    </tr>\n",
              "    <tr>\n",
              "      <th>7730</th>\n",
              "      <td>0.500000</td>\n",
              "      <td>0.9</td>\n",
              "    </tr>\n",
              "    <tr>\n",
              "      <th>2740</th>\n",
              "      <td>0.500000</td>\n",
              "      <td>0.9</td>\n",
              "    </tr>\n",
              "    <tr>\n",
              "      <th>14094</th>\n",
              "      <td>0.500000</td>\n",
              "      <td>0.9</td>\n",
              "    </tr>\n",
              "    <tr>\n",
              "      <th>15022</th>\n",
              "      <td>0.500000</td>\n",
              "      <td>0.9</td>\n",
              "    </tr>\n",
              "    <tr>\n",
              "      <th>3921</th>\n",
              "      <td>0.500000</td>\n",
              "      <td>0.9</td>\n",
              "    </tr>\n",
              "    <tr>\n",
              "      <th>13288</th>\n",
              "      <td>0.500000</td>\n",
              "      <td>0.9</td>\n",
              "    </tr>\n",
              "    <tr>\n",
              "      <th>1152</th>\n",
              "      <td>0.500000</td>\n",
              "      <td>0.9</td>\n",
              "    </tr>\n",
              "    <tr>\n",
              "      <th>4221</th>\n",
              "      <td>0.500000</td>\n",
              "      <td>0.9</td>\n",
              "    </tr>\n",
              "    <tr>\n",
              "      <th>2064</th>\n",
              "      <td>0.500000</td>\n",
              "      <td>0.9</td>\n",
              "    </tr>\n",
              "    <tr>\n",
              "      <th>14152</th>\n",
              "      <td>0.500000</td>\n",
              "      <td>0.9</td>\n",
              "    </tr>\n",
              "    <tr>\n",
              "      <th>11884</th>\n",
              "      <td>0.500000</td>\n",
              "      <td>0.9</td>\n",
              "    </tr>\n",
              "    <tr>\n",
              "      <th>3197</th>\n",
              "      <td>0.500000</td>\n",
              "      <td>0.9</td>\n",
              "    </tr>\n",
              "    <tr>\n",
              "      <th>18077</th>\n",
              "      <td>0.500000</td>\n",
              "      <td>0.9</td>\n",
              "    </tr>\n",
              "    <tr>\n",
              "      <th>7641</th>\n",
              "      <td>0.500000</td>\n",
              "      <td>0.9</td>\n",
              "    </tr>\n",
              "    <tr>\n",
              "      <th>13715</th>\n",
              "      <td>0.500000</td>\n",
              "      <td>0.9</td>\n",
              "    </tr>\n",
              "    <tr>\n",
              "      <th>3173</th>\n",
              "      <td>0.500000</td>\n",
              "      <td>0.9</td>\n",
              "    </tr>\n",
              "    <tr>\n",
              "      <th>17237</th>\n",
              "      <td>0.500000</td>\n",
              "      <td>0.9</td>\n",
              "    </tr>\n",
              "    <tr>\n",
              "      <th>6770</th>\n",
              "      <td>0.500000</td>\n",
              "      <td>0.9</td>\n",
              "    </tr>\n",
              "    <tr>\n",
              "      <th>1216</th>\n",
              "      <td>0.500000</td>\n",
              "      <td>0.9</td>\n",
              "    </tr>\n",
              "    <tr>\n",
              "      <th>...</th>\n",
              "      <td>...</td>\n",
              "      <td>...</td>\n",
              "    </tr>\n",
              "    <tr>\n",
              "      <th>10261</th>\n",
              "      <td>0.071619</td>\n",
              "      <td>0.0</td>\n",
              "    </tr>\n",
              "    <tr>\n",
              "      <th>15041</th>\n",
              "      <td>0.070513</td>\n",
              "      <td>0.0</td>\n",
              "    </tr>\n",
              "    <tr>\n",
              "      <th>8830</th>\n",
              "      <td>0.070125</td>\n",
              "      <td>0.9</td>\n",
              "    </tr>\n",
              "    <tr>\n",
              "      <th>10118</th>\n",
              "      <td>0.069954</td>\n",
              "      <td>0.0</td>\n",
              "    </tr>\n",
              "    <tr>\n",
              "      <th>639</th>\n",
              "      <td>0.069805</td>\n",
              "      <td>0.9</td>\n",
              "    </tr>\n",
              "    <tr>\n",
              "      <th>16216</th>\n",
              "      <td>0.068552</td>\n",
              "      <td>0.0</td>\n",
              "    </tr>\n",
              "    <tr>\n",
              "      <th>7335</th>\n",
              "      <td>0.068210</td>\n",
              "      <td>0.0</td>\n",
              "    </tr>\n",
              "    <tr>\n",
              "      <th>8837</th>\n",
              "      <td>0.067705</td>\n",
              "      <td>0.0</td>\n",
              "    </tr>\n",
              "    <tr>\n",
              "      <th>8573</th>\n",
              "      <td>0.067682</td>\n",
              "      <td>0.0</td>\n",
              "    </tr>\n",
              "    <tr>\n",
              "      <th>15257</th>\n",
              "      <td>0.067534</td>\n",
              "      <td>0.0</td>\n",
              "    </tr>\n",
              "    <tr>\n",
              "      <th>14816</th>\n",
              "      <td>0.067466</td>\n",
              "      <td>0.0</td>\n",
              "    </tr>\n",
              "    <tr>\n",
              "      <th>7133</th>\n",
              "      <td>0.067386</td>\n",
              "      <td>0.0</td>\n",
              "    </tr>\n",
              "    <tr>\n",
              "      <th>12537</th>\n",
              "      <td>0.066884</td>\n",
              "      <td>0.0</td>\n",
              "    </tr>\n",
              "    <tr>\n",
              "      <th>5356</th>\n",
              "      <td>0.066540</td>\n",
              "      <td>0.0</td>\n",
              "    </tr>\n",
              "    <tr>\n",
              "      <th>3389</th>\n",
              "      <td>0.065385</td>\n",
              "      <td>0.0</td>\n",
              "    </tr>\n",
              "    <tr>\n",
              "      <th>5625</th>\n",
              "      <td>0.065149</td>\n",
              "      <td>0.0</td>\n",
              "    </tr>\n",
              "    <tr>\n",
              "      <th>12586</th>\n",
              "      <td>0.064207</td>\n",
              "      <td>0.0</td>\n",
              "    </tr>\n",
              "    <tr>\n",
              "      <th>15431</th>\n",
              "      <td>0.063364</td>\n",
              "      <td>0.0</td>\n",
              "    </tr>\n",
              "    <tr>\n",
              "      <th>15972</th>\n",
              "      <td>0.063334</td>\n",
              "      <td>0.0</td>\n",
              "    </tr>\n",
              "    <tr>\n",
              "      <th>147</th>\n",
              "      <td>0.061963</td>\n",
              "      <td>0.0</td>\n",
              "    </tr>\n",
              "    <tr>\n",
              "      <th>16958</th>\n",
              "      <td>0.061828</td>\n",
              "      <td>0.0</td>\n",
              "    </tr>\n",
              "    <tr>\n",
              "      <th>7587</th>\n",
              "      <td>0.060607</td>\n",
              "      <td>0.0</td>\n",
              "    </tr>\n",
              "    <tr>\n",
              "      <th>1381</th>\n",
              "      <td>0.059920</td>\n",
              "      <td>0.9</td>\n",
              "    </tr>\n",
              "    <tr>\n",
              "      <th>3708</th>\n",
              "      <td>0.058823</td>\n",
              "      <td>0.0</td>\n",
              "    </tr>\n",
              "    <tr>\n",
              "      <th>13712</th>\n",
              "      <td>0.058597</td>\n",
              "      <td>0.0</td>\n",
              "    </tr>\n",
              "    <tr>\n",
              "      <th>10195</th>\n",
              "      <td>0.057930</td>\n",
              "      <td>0.0</td>\n",
              "    </tr>\n",
              "    <tr>\n",
              "      <th>5665</th>\n",
              "      <td>0.056099</td>\n",
              "      <td>0.0</td>\n",
              "    </tr>\n",
              "    <tr>\n",
              "      <th>14551</th>\n",
              "      <td>0.050969</td>\n",
              "      <td>0.0</td>\n",
              "    </tr>\n",
              "    <tr>\n",
              "      <th>4153</th>\n",
              "      <td>0.049305</td>\n",
              "      <td>0.0</td>\n",
              "    </tr>\n",
              "    <tr>\n",
              "      <th>15827</th>\n",
              "      <td>0.048305</td>\n",
              "      <td>0.0</td>\n",
              "    </tr>\n",
              "  </tbody>\n",
              "</table>\n",
              "<p>18317 rows × 2 columns</p>\n",
              "</div>"
            ],
            "text/plain": [
              "         y_pred  y_val\n",
              "11120  0.500000    0.9\n",
              "11383  0.500000    0.9\n",
              "4183   0.500000    0.9\n",
              "9236   0.500000    0.9\n",
              "444    0.500000    0.9\n",
              "2309   0.500000    0.9\n",
              "5280   0.500000    0.9\n",
              "5275   0.500000    0.9\n",
              "2836   0.500000    0.9\n",
              "13299  0.500000    0.9\n",
              "5830   0.500000    0.9\n",
              "7730   0.500000    0.9\n",
              "2740   0.500000    0.9\n",
              "14094  0.500000    0.9\n",
              "15022  0.500000    0.9\n",
              "3921   0.500000    0.9\n",
              "13288  0.500000    0.9\n",
              "1152   0.500000    0.9\n",
              "4221   0.500000    0.9\n",
              "2064   0.500000    0.9\n",
              "14152  0.500000    0.9\n",
              "11884  0.500000    0.9\n",
              "3197   0.500000    0.9\n",
              "18077  0.500000    0.9\n",
              "7641   0.500000    0.9\n",
              "13715  0.500000    0.9\n",
              "3173   0.500000    0.9\n",
              "17237  0.500000    0.9\n",
              "6770   0.500000    0.9\n",
              "1216   0.500000    0.9\n",
              "...         ...    ...\n",
              "10261  0.071619    0.0\n",
              "15041  0.070513    0.0\n",
              "8830   0.070125    0.9\n",
              "10118  0.069954    0.0\n",
              "639    0.069805    0.9\n",
              "16216  0.068552    0.0\n",
              "7335   0.068210    0.0\n",
              "8837   0.067705    0.0\n",
              "8573   0.067682    0.0\n",
              "15257  0.067534    0.0\n",
              "14816  0.067466    0.0\n",
              "7133   0.067386    0.0\n",
              "12537  0.066884    0.0\n",
              "5356   0.066540    0.0\n",
              "3389   0.065385    0.0\n",
              "5625   0.065149    0.0\n",
              "12586  0.064207    0.0\n",
              "15431  0.063364    0.0\n",
              "15972  0.063334    0.0\n",
              "147    0.061963    0.0\n",
              "16958  0.061828    0.0\n",
              "7587   0.060607    0.0\n",
              "1381   0.059920    0.9\n",
              "3708   0.058823    0.0\n",
              "13712  0.058597    0.0\n",
              "10195  0.057930    0.0\n",
              "5665   0.056099    0.0\n",
              "14551  0.050969    0.0\n",
              "4153   0.049305    0.0\n",
              "15827  0.048305    0.0\n",
              "\n",
              "[18317 rows x 2 columns]"
            ]
          },
          "metadata": {
            "tags": []
          },
          "execution_count": 118
        }
      ]
    },
    {
      "metadata": {
        "id": "uceXoqj-NoZh",
        "colab_type": "code",
        "colab": {
          "autoexec": {
            "startup": false,
            "wait_interval": 0
          }
        }
      },
      "cell_type": "code",
      "source": [
        "df_seuil['centile']=pd.qcut(df_seuil.y_pred,100,labels=range(1,101))"
      ],
      "execution_count": 0,
      "outputs": []
    },
    {
      "metadata": {
        "id": "S7KUMunyOTUd",
        "colab_type": "code",
        "colab": {
          "autoexec": {
            "startup": false,
            "wait_interval": 0
          },
          "base_uri": "https://localhost:8080/",
          "height": 1969
        },
        "outputId": "4f25f4fc-ca3e-497b-ee3f-b77bf374f9c3",
        "executionInfo": {
          "status": "ok",
          "timestamp": 1526413431056,
          "user_tz": -120,
          "elapsed": 432,
          "user": {
            "displayName": "nourhene chaalia",
            "photoUrl": "https://lh3.googleusercontent.com/a/default-user=s128",
            "userId": "100626486300945214800"
          }
        }
      },
      "cell_type": "code",
      "source": [
        "df_seuil"
      ],
      "execution_count": 120,
      "outputs": [
        {
          "output_type": "execute_result",
          "data": {
            "text/html": [
              "<div>\n",
              "<style scoped>\n",
              "    .dataframe tbody tr th:only-of-type {\n",
              "        vertical-align: middle;\n",
              "    }\n",
              "\n",
              "    .dataframe tbody tr th {\n",
              "        vertical-align: top;\n",
              "    }\n",
              "\n",
              "    .dataframe thead th {\n",
              "        text-align: right;\n",
              "    }\n",
              "</style>\n",
              "<table border=\"1\" class=\"dataframe\">\n",
              "  <thead>\n",
              "    <tr style=\"text-align: right;\">\n",
              "      <th></th>\n",
              "      <th>y_pred</th>\n",
              "      <th>y_val</th>\n",
              "      <th>centile</th>\n",
              "    </tr>\n",
              "  </thead>\n",
              "  <tbody>\n",
              "    <tr>\n",
              "      <th>11120</th>\n",
              "      <td>0.500000</td>\n",
              "      <td>0.9</td>\n",
              "      <td>100</td>\n",
              "    </tr>\n",
              "    <tr>\n",
              "      <th>11383</th>\n",
              "      <td>0.500000</td>\n",
              "      <td>0.9</td>\n",
              "      <td>100</td>\n",
              "    </tr>\n",
              "    <tr>\n",
              "      <th>4183</th>\n",
              "      <td>0.500000</td>\n",
              "      <td>0.9</td>\n",
              "      <td>100</td>\n",
              "    </tr>\n",
              "    <tr>\n",
              "      <th>9236</th>\n",
              "      <td>0.500000</td>\n",
              "      <td>0.9</td>\n",
              "      <td>100</td>\n",
              "    </tr>\n",
              "    <tr>\n",
              "      <th>444</th>\n",
              "      <td>0.500000</td>\n",
              "      <td>0.9</td>\n",
              "      <td>100</td>\n",
              "    </tr>\n",
              "    <tr>\n",
              "      <th>2309</th>\n",
              "      <td>0.500000</td>\n",
              "      <td>0.9</td>\n",
              "      <td>100</td>\n",
              "    </tr>\n",
              "    <tr>\n",
              "      <th>5280</th>\n",
              "      <td>0.500000</td>\n",
              "      <td>0.9</td>\n",
              "      <td>100</td>\n",
              "    </tr>\n",
              "    <tr>\n",
              "      <th>5275</th>\n",
              "      <td>0.500000</td>\n",
              "      <td>0.9</td>\n",
              "      <td>100</td>\n",
              "    </tr>\n",
              "    <tr>\n",
              "      <th>2836</th>\n",
              "      <td>0.500000</td>\n",
              "      <td>0.9</td>\n",
              "      <td>100</td>\n",
              "    </tr>\n",
              "    <tr>\n",
              "      <th>13299</th>\n",
              "      <td>0.500000</td>\n",
              "      <td>0.9</td>\n",
              "      <td>100</td>\n",
              "    </tr>\n",
              "    <tr>\n",
              "      <th>5830</th>\n",
              "      <td>0.500000</td>\n",
              "      <td>0.9</td>\n",
              "      <td>100</td>\n",
              "    </tr>\n",
              "    <tr>\n",
              "      <th>7730</th>\n",
              "      <td>0.500000</td>\n",
              "      <td>0.9</td>\n",
              "      <td>100</td>\n",
              "    </tr>\n",
              "    <tr>\n",
              "      <th>2740</th>\n",
              "      <td>0.500000</td>\n",
              "      <td>0.9</td>\n",
              "      <td>100</td>\n",
              "    </tr>\n",
              "    <tr>\n",
              "      <th>14094</th>\n",
              "      <td>0.500000</td>\n",
              "      <td>0.9</td>\n",
              "      <td>100</td>\n",
              "    </tr>\n",
              "    <tr>\n",
              "      <th>15022</th>\n",
              "      <td>0.500000</td>\n",
              "      <td>0.9</td>\n",
              "      <td>100</td>\n",
              "    </tr>\n",
              "    <tr>\n",
              "      <th>3921</th>\n",
              "      <td>0.500000</td>\n",
              "      <td>0.9</td>\n",
              "      <td>100</td>\n",
              "    </tr>\n",
              "    <tr>\n",
              "      <th>13288</th>\n",
              "      <td>0.500000</td>\n",
              "      <td>0.9</td>\n",
              "      <td>100</td>\n",
              "    </tr>\n",
              "    <tr>\n",
              "      <th>1152</th>\n",
              "      <td>0.500000</td>\n",
              "      <td>0.9</td>\n",
              "      <td>100</td>\n",
              "    </tr>\n",
              "    <tr>\n",
              "      <th>4221</th>\n",
              "      <td>0.500000</td>\n",
              "      <td>0.9</td>\n",
              "      <td>100</td>\n",
              "    </tr>\n",
              "    <tr>\n",
              "      <th>2064</th>\n",
              "      <td>0.500000</td>\n",
              "      <td>0.9</td>\n",
              "      <td>100</td>\n",
              "    </tr>\n",
              "    <tr>\n",
              "      <th>14152</th>\n",
              "      <td>0.500000</td>\n",
              "      <td>0.9</td>\n",
              "      <td>100</td>\n",
              "    </tr>\n",
              "    <tr>\n",
              "      <th>11884</th>\n",
              "      <td>0.500000</td>\n",
              "      <td>0.9</td>\n",
              "      <td>100</td>\n",
              "    </tr>\n",
              "    <tr>\n",
              "      <th>3197</th>\n",
              "      <td>0.500000</td>\n",
              "      <td>0.9</td>\n",
              "      <td>100</td>\n",
              "    </tr>\n",
              "    <tr>\n",
              "      <th>18077</th>\n",
              "      <td>0.500000</td>\n",
              "      <td>0.9</td>\n",
              "      <td>100</td>\n",
              "    </tr>\n",
              "    <tr>\n",
              "      <th>7641</th>\n",
              "      <td>0.500000</td>\n",
              "      <td>0.9</td>\n",
              "      <td>100</td>\n",
              "    </tr>\n",
              "    <tr>\n",
              "      <th>13715</th>\n",
              "      <td>0.500000</td>\n",
              "      <td>0.9</td>\n",
              "      <td>100</td>\n",
              "    </tr>\n",
              "    <tr>\n",
              "      <th>3173</th>\n",
              "      <td>0.500000</td>\n",
              "      <td>0.9</td>\n",
              "      <td>100</td>\n",
              "    </tr>\n",
              "    <tr>\n",
              "      <th>17237</th>\n",
              "      <td>0.500000</td>\n",
              "      <td>0.9</td>\n",
              "      <td>100</td>\n",
              "    </tr>\n",
              "    <tr>\n",
              "      <th>6770</th>\n",
              "      <td>0.500000</td>\n",
              "      <td>0.9</td>\n",
              "      <td>100</td>\n",
              "    </tr>\n",
              "    <tr>\n",
              "      <th>1216</th>\n",
              "      <td>0.500000</td>\n",
              "      <td>0.9</td>\n",
              "      <td>100</td>\n",
              "    </tr>\n",
              "    <tr>\n",
              "      <th>...</th>\n",
              "      <td>...</td>\n",
              "      <td>...</td>\n",
              "      <td>...</td>\n",
              "    </tr>\n",
              "    <tr>\n",
              "      <th>10261</th>\n",
              "      <td>0.071619</td>\n",
              "      <td>0.0</td>\n",
              "      <td>1</td>\n",
              "    </tr>\n",
              "    <tr>\n",
              "      <th>15041</th>\n",
              "      <td>0.070513</td>\n",
              "      <td>0.0</td>\n",
              "      <td>1</td>\n",
              "    </tr>\n",
              "    <tr>\n",
              "      <th>8830</th>\n",
              "      <td>0.070125</td>\n",
              "      <td>0.9</td>\n",
              "      <td>1</td>\n",
              "    </tr>\n",
              "    <tr>\n",
              "      <th>10118</th>\n",
              "      <td>0.069954</td>\n",
              "      <td>0.0</td>\n",
              "      <td>1</td>\n",
              "    </tr>\n",
              "    <tr>\n",
              "      <th>639</th>\n",
              "      <td>0.069805</td>\n",
              "      <td>0.9</td>\n",
              "      <td>1</td>\n",
              "    </tr>\n",
              "    <tr>\n",
              "      <th>16216</th>\n",
              "      <td>0.068552</td>\n",
              "      <td>0.0</td>\n",
              "      <td>1</td>\n",
              "    </tr>\n",
              "    <tr>\n",
              "      <th>7335</th>\n",
              "      <td>0.068210</td>\n",
              "      <td>0.0</td>\n",
              "      <td>1</td>\n",
              "    </tr>\n",
              "    <tr>\n",
              "      <th>8837</th>\n",
              "      <td>0.067705</td>\n",
              "      <td>0.0</td>\n",
              "      <td>1</td>\n",
              "    </tr>\n",
              "    <tr>\n",
              "      <th>8573</th>\n",
              "      <td>0.067682</td>\n",
              "      <td>0.0</td>\n",
              "      <td>1</td>\n",
              "    </tr>\n",
              "    <tr>\n",
              "      <th>15257</th>\n",
              "      <td>0.067534</td>\n",
              "      <td>0.0</td>\n",
              "      <td>1</td>\n",
              "    </tr>\n",
              "    <tr>\n",
              "      <th>14816</th>\n",
              "      <td>0.067466</td>\n",
              "      <td>0.0</td>\n",
              "      <td>1</td>\n",
              "    </tr>\n",
              "    <tr>\n",
              "      <th>7133</th>\n",
              "      <td>0.067386</td>\n",
              "      <td>0.0</td>\n",
              "      <td>1</td>\n",
              "    </tr>\n",
              "    <tr>\n",
              "      <th>12537</th>\n",
              "      <td>0.066884</td>\n",
              "      <td>0.0</td>\n",
              "      <td>1</td>\n",
              "    </tr>\n",
              "    <tr>\n",
              "      <th>5356</th>\n",
              "      <td>0.066540</td>\n",
              "      <td>0.0</td>\n",
              "      <td>1</td>\n",
              "    </tr>\n",
              "    <tr>\n",
              "      <th>3389</th>\n",
              "      <td>0.065385</td>\n",
              "      <td>0.0</td>\n",
              "      <td>1</td>\n",
              "    </tr>\n",
              "    <tr>\n",
              "      <th>5625</th>\n",
              "      <td>0.065149</td>\n",
              "      <td>0.0</td>\n",
              "      <td>1</td>\n",
              "    </tr>\n",
              "    <tr>\n",
              "      <th>12586</th>\n",
              "      <td>0.064207</td>\n",
              "      <td>0.0</td>\n",
              "      <td>1</td>\n",
              "    </tr>\n",
              "    <tr>\n",
              "      <th>15431</th>\n",
              "      <td>0.063364</td>\n",
              "      <td>0.0</td>\n",
              "      <td>1</td>\n",
              "    </tr>\n",
              "    <tr>\n",
              "      <th>15972</th>\n",
              "      <td>0.063334</td>\n",
              "      <td>0.0</td>\n",
              "      <td>1</td>\n",
              "    </tr>\n",
              "    <tr>\n",
              "      <th>147</th>\n",
              "      <td>0.061963</td>\n",
              "      <td>0.0</td>\n",
              "      <td>1</td>\n",
              "    </tr>\n",
              "    <tr>\n",
              "      <th>16958</th>\n",
              "      <td>0.061828</td>\n",
              "      <td>0.0</td>\n",
              "      <td>1</td>\n",
              "    </tr>\n",
              "    <tr>\n",
              "      <th>7587</th>\n",
              "      <td>0.060607</td>\n",
              "      <td>0.0</td>\n",
              "      <td>1</td>\n",
              "    </tr>\n",
              "    <tr>\n",
              "      <th>1381</th>\n",
              "      <td>0.059920</td>\n",
              "      <td>0.9</td>\n",
              "      <td>1</td>\n",
              "    </tr>\n",
              "    <tr>\n",
              "      <th>3708</th>\n",
              "      <td>0.058823</td>\n",
              "      <td>0.0</td>\n",
              "      <td>1</td>\n",
              "    </tr>\n",
              "    <tr>\n",
              "      <th>13712</th>\n",
              "      <td>0.058597</td>\n",
              "      <td>0.0</td>\n",
              "      <td>1</td>\n",
              "    </tr>\n",
              "    <tr>\n",
              "      <th>10195</th>\n",
              "      <td>0.057930</td>\n",
              "      <td>0.0</td>\n",
              "      <td>1</td>\n",
              "    </tr>\n",
              "    <tr>\n",
              "      <th>5665</th>\n",
              "      <td>0.056099</td>\n",
              "      <td>0.0</td>\n",
              "      <td>1</td>\n",
              "    </tr>\n",
              "    <tr>\n",
              "      <th>14551</th>\n",
              "      <td>0.050969</td>\n",
              "      <td>0.0</td>\n",
              "      <td>1</td>\n",
              "    </tr>\n",
              "    <tr>\n",
              "      <th>4153</th>\n",
              "      <td>0.049305</td>\n",
              "      <td>0.0</td>\n",
              "      <td>1</td>\n",
              "    </tr>\n",
              "    <tr>\n",
              "      <th>15827</th>\n",
              "      <td>0.048305</td>\n",
              "      <td>0.0</td>\n",
              "      <td>1</td>\n",
              "    </tr>\n",
              "  </tbody>\n",
              "</table>\n",
              "<p>18317 rows × 3 columns</p>\n",
              "</div>"
            ],
            "text/plain": [
              "         y_pred  y_val centile\n",
              "11120  0.500000    0.9     100\n",
              "11383  0.500000    0.9     100\n",
              "4183   0.500000    0.9     100\n",
              "9236   0.500000    0.9     100\n",
              "444    0.500000    0.9     100\n",
              "2309   0.500000    0.9     100\n",
              "5280   0.500000    0.9     100\n",
              "5275   0.500000    0.9     100\n",
              "2836   0.500000    0.9     100\n",
              "13299  0.500000    0.9     100\n",
              "5830   0.500000    0.9     100\n",
              "7730   0.500000    0.9     100\n",
              "2740   0.500000    0.9     100\n",
              "14094  0.500000    0.9     100\n",
              "15022  0.500000    0.9     100\n",
              "3921   0.500000    0.9     100\n",
              "13288  0.500000    0.9     100\n",
              "1152   0.500000    0.9     100\n",
              "4221   0.500000    0.9     100\n",
              "2064   0.500000    0.9     100\n",
              "14152  0.500000    0.9     100\n",
              "11884  0.500000    0.9     100\n",
              "3197   0.500000    0.9     100\n",
              "18077  0.500000    0.9     100\n",
              "7641   0.500000    0.9     100\n",
              "13715  0.500000    0.9     100\n",
              "3173   0.500000    0.9     100\n",
              "17237  0.500000    0.9     100\n",
              "6770   0.500000    0.9     100\n",
              "1216   0.500000    0.9     100\n",
              "...         ...    ...     ...\n",
              "10261  0.071619    0.0       1\n",
              "15041  0.070513    0.0       1\n",
              "8830   0.070125    0.9       1\n",
              "10118  0.069954    0.0       1\n",
              "639    0.069805    0.9       1\n",
              "16216  0.068552    0.0       1\n",
              "7335   0.068210    0.0       1\n",
              "8837   0.067705    0.0       1\n",
              "8573   0.067682    0.0       1\n",
              "15257  0.067534    0.0       1\n",
              "14816  0.067466    0.0       1\n",
              "7133   0.067386    0.0       1\n",
              "12537  0.066884    0.0       1\n",
              "5356   0.066540    0.0       1\n",
              "3389   0.065385    0.0       1\n",
              "5625   0.065149    0.0       1\n",
              "12586  0.064207    0.0       1\n",
              "15431  0.063364    0.0       1\n",
              "15972  0.063334    0.0       1\n",
              "147    0.061963    0.0       1\n",
              "16958  0.061828    0.0       1\n",
              "7587   0.060607    0.0       1\n",
              "1381   0.059920    0.9       1\n",
              "3708   0.058823    0.0       1\n",
              "13712  0.058597    0.0       1\n",
              "10195  0.057930    0.0       1\n",
              "5665   0.056099    0.0       1\n",
              "14551  0.050969    0.0       1\n",
              "4153   0.049305    0.0       1\n",
              "15827  0.048305    0.0       1\n",
              "\n",
              "[18317 rows x 3 columns]"
            ]
          },
          "metadata": {
            "tags": []
          },
          "execution_count": 120
        }
      ]
    },
    {
      "metadata": {
        "id": "sp5Sjrq0PNEL",
        "colab_type": "code",
        "colab": {
          "autoexec": {
            "startup": false,
            "wait_interval": 0
          },
          "base_uri": "https://localhost:8080/",
          "height": 68
        },
        "outputId": "df270d5f-15e8-4515-fe66-ca057193bff2",
        "executionInfo": {
          "status": "ok",
          "timestamp": 1526413432171,
          "user_tz": -120,
          "elapsed": 707,
          "user": {
            "displayName": "nourhene chaalia",
            "photoUrl": "https://lh3.googleusercontent.com/a/default-user=s128",
            "userId": "100626486300945214800"
          }
        }
      },
      "cell_type": "code",
      "source": [
        "df_seuil.y_val.value_counts()"
      ],
      "execution_count": 121,
      "outputs": [
        {
          "output_type": "execute_result",
          "data": {
            "text/plain": [
              "0.0    11931\n",
              "0.9     6386\n",
              "Name: y_val, dtype: int64"
            ]
          },
          "metadata": {
            "tags": []
          },
          "execution_count": 121
        }
      ]
    },
    {
      "metadata": {
        "id": "fqxZIsdwPb51",
        "colab_type": "code",
        "colab": {
          "autoexec": {
            "startup": false,
            "wait_interval": 0
          },
          "base_uri": "https://localhost:8080/",
          "height": 68
        },
        "outputId": "c213dcdf-9cca-49e5-ce0e-0829bf00c3a8",
        "executionInfo": {
          "status": "ok",
          "timestamp": 1526417766820,
          "user_tz": -120,
          "elapsed": 487,
          "user": {
            "displayName": "nourhene chaalia",
            "photoUrl": "https://lh3.googleusercontent.com/a/default-user=s128",
            "userId": "100626486300945214800"
          }
        }
      },
      "cell_type": "code",
      "source": [
        "# seuil defini à partir de 70% \n",
        "\n",
        "df_seuil[df_seuil.centile>89].y_val.value_counts()"
      ],
      "execution_count": 228,
      "outputs": [
        {
          "output_type": "execute_result",
          "data": {
            "text/plain": [
              "0.9    1819\n",
              "0.0     196\n",
              "Name: y_val, dtype: int64"
            ]
          },
          "metadata": {
            "tags": []
          },
          "execution_count": 228
        }
      ]
    },
    {
      "metadata": {
        "id": "Gskzea49Pwwd",
        "colab_type": "code",
        "colab": {
          "autoexec": {
            "startup": false,
            "wait_interval": 0
          },
          "base_uri": "https://localhost:8080/",
          "height": 51
        },
        "outputId": "2f272a5b-5af5-4273-90dc-07643be5c55f",
        "executionInfo": {
          "status": "ok",
          "timestamp": 1526417814599,
          "user_tz": -120,
          "elapsed": 493,
          "user": {
            "displayName": "nourhene chaalia",
            "photoUrl": "https://lh3.googleusercontent.com/a/default-user=s128",
            "userId": "100626486300945214800"
          }
        }
      },
      "cell_type": "code",
      "source": [
        "# rappel \n",
        "print(\"le rappel\", 1819./6386*100)\n",
        "#precision\n",
        "print(\"la precision\" ,1819.0/(1819+196)*100)"
      ],
      "execution_count": 230,
      "outputs": [
        {
          "output_type": "stream",
          "text": [
            "le rappel 28.4841841528\n",
            "la precision 90.2729528536\n"
          ],
          "name": "stdout"
        }
      ]
    },
    {
      "metadata": {
        "id": "KmpmK73kRCpZ",
        "colab_type": "code",
        "colab": {
          "autoexec": {
            "startup": false,
            "wait_interval": 0
          },
          "base_uri": "https://localhost:8080/",
          "height": 34
        },
        "outputId": "995de885-7587-4e65-de3b-0e098e62dd56",
        "executionInfo": {
          "status": "ok",
          "timestamp": 1526417829894,
          "user_tz": -120,
          "elapsed": 478,
          "user": {
            "displayName": "nourhene chaalia",
            "photoUrl": "https://lh3.googleusercontent.com/a/default-user=s128",
            "userId": "100626486300945214800"
          }
        }
      },
      "cell_type": "code",
      "source": [
        "df_seuil[df_seuil.centile>89].y_pred.min()"
      ],
      "execution_count": 232,
      "outputs": [
        {
          "output_type": "execute_result",
          "data": {
            "text/plain": [
              "0.41256311535835266"
            ]
          },
          "metadata": {
            "tags": []
          },
          "execution_count": 232
        }
      ]
    },
    {
      "metadata": {
        "id": "8_r9UnJSSqqJ",
        "colab_type": "code",
        "colab": {
          "autoexec": {
            "startup": false,
            "wait_interval": 0
          }
        }
      },
      "cell_type": "code",
      "source": [
        "y_rej_pred=rejector.predict(X_test)"
      ],
      "execution_count": 0,
      "outputs": []
    },
    {
      "metadata": {
        "id": "8DbToucbWGwb",
        "colab_type": "code",
        "colab": {
          "autoexec": {
            "startup": false,
            "wait_interval": 0
          },
          "base_uri": "https://localhost:8080/",
          "height": 34
        },
        "outputId": "4b984388-06f2-43da-8690-4d04bba50b6d",
        "executionInfo": {
          "status": "ok",
          "timestamp": 1526413830694,
          "user_tz": -120,
          "elapsed": 505,
          "user": {
            "displayName": "nourhene chaalia",
            "photoUrl": "https://lh3.googleusercontent.com/a/default-user=s128",
            "userId": "100626486300945214800"
          }
        }
      },
      "cell_type": "code",
      "source": [
        "max(y_rej_pred)"
      ],
      "execution_count": 131,
      "outputs": [
        {
          "output_type": "execute_result",
          "data": {
            "text/plain": [
              "array([0.49487147], dtype=float32)"
            ]
          },
          "metadata": {
            "tags": []
          },
          "execution_count": 131
        }
      ]
    },
    {
      "metadata": {
        "id": "fB9bxOSbXjRu",
        "colab_type": "code",
        "colab": {
          "autoexec": {
            "startup": false,
            "wait_interval": 0
          },
          "base_uri": "https://localhost:8080/",
          "height": 34
        },
        "outputId": "3ef5586a-93fb-4375-aa8c-25f194ff0b2a",
        "executionInfo": {
          "status": "ok",
          "timestamp": 1526414074663,
          "user_tz": -120,
          "elapsed": 582,
          "user": {
            "displayName": "nourhene chaalia",
            "photoUrl": "https://lh3.googleusercontent.com/a/default-user=s128",
            "userId": "100626486300945214800"
          }
        }
      },
      "cell_type": "code",
      "source": [
        "X_test.shape"
      ],
      "execution_count": 133,
      "outputs": [
        {
          "output_type": "execute_result",
          "data": {
            "text/plain": [
              "(10000, 1, 28, 28)"
            ]
          },
          "metadata": {
            "tags": []
          },
          "execution_count": 133
        }
      ]
    },
    {
      "metadata": {
        "id": "JfzhmcWJWnPL",
        "colab_type": "code",
        "colab": {
          "autoexec": {
            "startup": false,
            "wait_interval": 0
          }
        }
      },
      "cell_type": "code",
      "source": [
        "Y_test_new=[]\n",
        "X_test_new=[]\n",
        "Y_rejet_new=[]\n",
        "X_rejet_new=[]\n",
        "\n",
        "for i in range(len (y_rej_pred)): \n",
        "  if y_rej_pred[i].item()<=0.412: \n",
        "    X_test_new.append(X_test[i,:,:,:])\n",
        "    Y_test_new.append(y_test[i])  \n",
        "  else:\n",
        "    X_rejet_new.append(X_test[i,:,:,:])\n",
        "    Y_rejet_new.append(y_test[i])  \n",
        "    \n",
        "    \n",
        "    "
      ],
      "execution_count": 0,
      "outputs": []
    },
    {
      "metadata": {
        "id": "Lb26QzmqYDRv",
        "colab_type": "code",
        "colab": {
          "autoexec": {
            "startup": false,
            "wait_interval": 0
          },
          "base_uri": "https://localhost:8080/",
          "height": 34
        },
        "outputId": "35dff108-0ff0-4802-b165-bae3f20e730e",
        "executionInfo": {
          "status": "ok",
          "timestamp": 1526417850426,
          "user_tz": -120,
          "elapsed": 503,
          "user": {
            "displayName": "nourhene chaalia",
            "photoUrl": "https://lh3.googleusercontent.com/a/default-user=s128",
            "userId": "100626486300945214800"
          }
        }
      },
      "cell_type": "code",
      "source": [
        "len(X_test_new)"
      ],
      "execution_count": 234,
      "outputs": [
        {
          "output_type": "execute_result",
          "data": {
            "text/plain": [
              "9854"
            ]
          },
          "metadata": {
            "tags": []
          },
          "execution_count": 234
        }
      ]
    },
    {
      "metadata": {
        "id": "cSk1fTdLkkbQ",
        "colab_type": "code",
        "colab": {
          "autoexec": {
            "startup": false,
            "wait_interval": 0
          },
          "base_uri": "https://localhost:8080/",
          "height": 34
        },
        "outputId": "ad80ccde-4409-45b4-c6ef-98170a1fbe7b",
        "executionInfo": {
          "status": "ok",
          "timestamp": 1526417851598,
          "user_tz": -120,
          "elapsed": 458,
          "user": {
            "displayName": "nourhene chaalia",
            "photoUrl": "https://lh3.googleusercontent.com/a/default-user=s128",
            "userId": "100626486300945214800"
          }
        }
      },
      "cell_type": "code",
      "source": [
        "len(X_rejet_new)"
      ],
      "execution_count": 235,
      "outputs": [
        {
          "output_type": "execute_result",
          "data": {
            "text/plain": [
              "146"
            ]
          },
          "metadata": {
            "tags": []
          },
          "execution_count": 235
        }
      ]
    },
    {
      "metadata": {
        "id": "faKohXPqYE5Q",
        "colab_type": "code",
        "colab": {
          "autoexec": {
            "startup": false,
            "wait_interval": 0
          }
        }
      },
      "cell_type": "code",
      "source": [
        "X_test_new=np.reshape(X_test_new, (len(X_test_new),1,28,28))\n",
        "X_rejet_new=np.reshape(X_rejet_new, (len(X_rejet_new),1,28,28))\n"
      ],
      "execution_count": 0,
      "outputs": []
    },
    {
      "metadata": {
        "id": "-qgJhKvhYVcA",
        "colab_type": "code",
        "colab": {
          "autoexec": {
            "startup": false,
            "wait_interval": 0
          }
        }
      },
      "cell_type": "code",
      "source": [
        "Y_test_new=np.array(Y_test_new)\n",
        "Y_rejet_new=np.array(Y_rejet_new)"
      ],
      "execution_count": 0,
      "outputs": []
    },
    {
      "metadata": {
        "id": "kBX7XHBSZjAu",
        "colab_type": "code",
        "colab": {
          "autoexec": {
            "startup": false,
            "wait_interval": 0
          }
        }
      },
      "cell_type": "code",
      "source": [
        "#Y_test_new = np_utils.to_categorical(Y_test_new, nb_classes)\n"
      ],
      "execution_count": 0,
      "outputs": []
    },
    {
      "metadata": {
        "id": "E9EDgnFnZ5bH",
        "colab_type": "code",
        "colab": {
          "autoexec": {
            "startup": false,
            "wait_interval": 0
          }
        }
      },
      "cell_type": "code",
      "source": [
        ""
      ],
      "execution_count": 0,
      "outputs": []
    },
    {
      "metadata": {
        "id": "4tq3NQbiaxDn",
        "colab_type": "text"
      },
      "cell_type": "markdown",
      "source": [
        "# Classifior\n",
        "\n"
      ]
    },
    {
      "metadata": {
        "id": "O8KWkpbea4LO",
        "colab_type": "code",
        "colab": {
          "autoexec": {
            "startup": false,
            "wait_interval": 0
          },
          "base_uri": "https://localhost:8080/",
          "height": 578
        },
        "outputId": "08aec4ae-aaf1-481e-d292-0e41c967e917",
        "executionInfo": {
          "status": "ok",
          "timestamp": 1526415185214,
          "user_tz": -120,
          "elapsed": 931,
          "user": {
            "displayName": "nourhene chaalia",
            "photoUrl": "https://lh3.googleusercontent.com/a/default-user=s128",
            "userId": "100626486300945214800"
          }
        }
      },
      "cell_type": "code",
      "source": [
        "import pandas as pd\n",
        "import numpy as np\n",
        "np.random.seed(1337)\n",
        "import tensorflow as tf\n",
        "import timeit\n",
        "\n",
        "import os\n",
        "  \n",
        "from keras import backend as K\n",
        "\n",
        "from __future__ import print_function\n",
        "from sklearn.model_selection import train_test_split\n",
        "from keras.utils.np_utils import to_categorical\n",
        "from keras.models import Sequential\n",
        "from keras.layers import Dense, Dropout, Flatten, Conv2D, MaxPool2D\n",
        "from keras.optimizers import RMSprop\n",
        "from keras.callbacks import ReduceLROnPlateau\n",
        "\n",
        "random_seed = 2\n",
        "# Split the train and the validation set for the fitting\n",
        "X_train, X_val, Y_train, Y_val = train_test_split(X_train, Y_train, test_size = 0.1, random_state=random_seed)\n",
        "# Set the CNN model \n",
        "\n",
        "model = Sequential()\n",
        "\n",
        "model.add(Conv2D(filters = 32, kernel_size = (5,5),padding = 'Same', activation ='relu', input_shape = (1,28,28)))\n",
        "model.add(MaxPool2D(pool_size=(2,2)))\n",
        "model.add(Conv2D(filters = 32, kernel_size = (5,5),padding = 'Same', activation ='relu'))\n",
        "model.add(MaxPool2D(pool_size=(2,2)))\n",
        "model.add(Dropout(0.25))\n",
        "\n",
        "\n",
        "model.add(Conv2D(filters = 64, kernel_size = (3,3),padding = 'Same', activation ='relu'))\n",
        "model.add(Conv2D(filters = 64, kernel_size = (3,3),padding = 'Same', activation ='relu'))\n",
        "model.add(MaxPool2D(pool_size=(2,2), strides=(2,2)))\n",
        "model.add(Dropout(0.25))\n",
        "\n",
        "\n",
        "model.add(Flatten())\n",
        "model.add(Dense(256, activation = \"relu\"))\n",
        "model.add(Dropout(0.4))\n",
        "model.add(Dense(10, activation = \"softmax\"))\n",
        "# Print the summary \n",
        "model.summary()"
      ],
      "execution_count": 153,
      "outputs": [
        {
          "output_type": "stream",
          "text": [
            "_________________________________________________________________\n",
            "Layer (type)                 Output Shape              Param #   \n",
            "=================================================================\n",
            "conv2d_18 (Conv2D)           (None, 32, 28, 28)        832       \n",
            "_________________________________________________________________\n",
            "max_pooling2d_13 (MaxPooling (None, 32, 14, 14)        0         \n",
            "_________________________________________________________________\n",
            "conv2d_19 (Conv2D)           (None, 32, 14, 14)        25632     \n",
            "_________________________________________________________________\n",
            "max_pooling2d_14 (MaxPooling (None, 32, 7, 7)          0         \n",
            "_________________________________________________________________\n",
            "dropout_10 (Dropout)         (None, 32, 7, 7)          0         \n",
            "_________________________________________________________________\n",
            "conv2d_20 (Conv2D)           (None, 64, 7, 7)          18496     \n",
            "_________________________________________________________________\n",
            "conv2d_21 (Conv2D)           (None, 64, 7, 7)          36928     \n",
            "_________________________________________________________________\n",
            "max_pooling2d_15 (MaxPooling (None, 64, 3, 3)          0         \n",
            "_________________________________________________________________\n",
            "dropout_11 (Dropout)         (None, 64, 3, 3)          0         \n",
            "_________________________________________________________________\n",
            "flatten_8 (Flatten)          (None, 576)               0         \n",
            "_________________________________________________________________\n",
            "dense_8 (Dense)              (None, 256)               147712    \n",
            "_________________________________________________________________\n",
            "dropout_12 (Dropout)         (None, 256)               0         \n",
            "_________________________________________________________________\n",
            "dense_9 (Dense)              (None, 10)                2570      \n",
            "=================================================================\n",
            "Total params: 232,170\n",
            "Trainable params: 232,170\n",
            "Non-trainable params: 0\n",
            "_________________________________________________________________\n"
          ],
          "name": "stdout"
        }
      ]
    },
    {
      "metadata": {
        "id": "n4PgqVRfa6lI",
        "colab_type": "code",
        "colab": {
          "autoexec": {
            "startup": false,
            "wait_interval": 0
          },
          "base_uri": "https://localhost:8080/",
          "height": 2009
        },
        "outputId": "05a6b45a-7904-4d88-83f1-b6bf5822aaae",
        "executionInfo": {
          "status": "ok",
          "timestamp": 1526415535292,
          "user_tz": -120,
          "elapsed": 318608,
          "user": {
            "displayName": "nourhene chaalia",
            "photoUrl": "https://lh3.googleusercontent.com/a/default-user=s128",
            "userId": "100626486300945214800"
          }
        }
      },
      "cell_type": "code",
      "source": [
        "# Define the optimizer\n",
        "optimizer = RMSprop(lr=0.001, rho=0.9, epsilon=1e-08, decay=0.0)\n",
        "# Compile the model\n",
        "model.compile(optimizer = optimizer , loss = \"categorical_crossentropy\", metrics=[\"accuracy\"])\n",
        "# Set a learning rate annealer\n",
        "learning_rate_reduction = ReduceLROnPlateau(monitor='val_acc', patience=3, verbose=1, factor=0.5, min_lr=0.00001)\n",
        "\n",
        "epochs = 50 \n",
        "batch_size = 120\n",
        "model.fit(X_train, Y_train, nb_epoch=epochs, batch_size=batch_size, callbacks=[learning_rate_reduction],validation_data = (X_val, Y_val))"
      ],
      "execution_count": 154,
      "outputs": [
        {
          "output_type": "stream",
          "text": [
            "Train on 39366 samples, validate on 4374 samples\n",
            "Epoch 1/50\n",
            "39366/39366 [==============================] - 7s 179us/step - loss: 0.3647 - acc: 0.8833 - val_loss: 0.0778 - val_acc: 0.9783\n",
            "Epoch 2/50\n",
            "39366/39366 [==============================] - 6s 161us/step - loss: 0.0954 - acc: 0.9710 - val_loss: 0.0497 - val_acc: 0.9856\n",
            "Epoch 3/50\n",
            "39366/39366 [==============================] - 6s 161us/step - loss: 0.0680 - acc: 0.9796 - val_loss: 0.0373 - val_acc: 0.9890\n",
            "Epoch 4/50\n",
            " 3720/39366 [=>............................] - ETA: 5s - loss: 0.0558 - acc: 0.9841"
          ],
          "name": "stdout"
        },
        {
          "output_type": "stream",
          "text": [
            "39366/39366 [==============================] - 6s 160us/step - loss: 0.0535 - acc: 0.9834 - val_loss: 0.0317 - val_acc: 0.9909\n",
            "Epoch 5/50\n",
            "39366/39366 [==============================] - 6s 160us/step - loss: 0.0480 - acc: 0.9857 - val_loss: 0.0345 - val_acc: 0.9899\n",
            "Epoch 6/50\n",
            "39366/39366 [==============================] - 6s 160us/step - loss: 0.0405 - acc: 0.9870 - val_loss: 0.0293 - val_acc: 0.9925\n",
            "Epoch 7/50\n",
            "19200/39366 [=============>................] - ETA: 3s - loss: 0.0392 - acc: 0.9884"
          ],
          "name": "stdout"
        },
        {
          "output_type": "stream",
          "text": [
            "39366/39366 [==============================] - 6s 161us/step - loss: 0.0390 - acc: 0.9886 - val_loss: 0.0344 - val_acc: 0.9915\n",
            "Epoch 8/50\n",
            "39366/39366 [==============================] - 6s 161us/step - loss: 0.0339 - acc: 0.9900 - val_loss: 0.0419 - val_acc: 0.9877\n",
            "Epoch 9/50\n",
            "39366/39366 [==============================] - 6s 161us/step - loss: 0.0327 - acc: 0.9907 - val_loss: 0.0331 - val_acc: 0.9909\n",
            "\n",
            "Epoch 00009: ReduceLROnPlateau reducing learning rate to 0.000500000023749.\n",
            "Epoch 10/50\n",
            "18840/39366 [=============>................] - ETA: 3s - loss: 0.0232 - acc: 0.9932"
          ],
          "name": "stdout"
        },
        {
          "output_type": "stream",
          "text": [
            "39366/39366 [==============================] - 6s 159us/step - loss: 0.0223 - acc: 0.9934 - val_loss: 0.0245 - val_acc: 0.9934\n",
            "Epoch 11/50\n",
            "39366/39366 [==============================] - 6s 159us/step - loss: 0.0180 - acc: 0.9947 - val_loss: 0.0255 - val_acc: 0.9938\n",
            "Epoch 12/50\n",
            "39366/39366 [==============================] - 6s 159us/step - loss: 0.0185 - acc: 0.9944 - val_loss: 0.0210 - val_acc: 0.9945\n",
            "Epoch 13/50\n",
            "21360/39366 [===============>..............] - ETA: 2s - loss: 0.0152 - acc: 0.9956"
          ],
          "name": "stdout"
        },
        {
          "output_type": "stream",
          "text": [
            "39366/39366 [==============================] - 6s 161us/step - loss: 0.0166 - acc: 0.9949 - val_loss: 0.0257 - val_acc: 0.9938\n",
            "Epoch 14/50\n",
            "39366/39366 [==============================] - 6s 162us/step - loss: 0.0158 - acc: 0.9949 - val_loss: 0.0269 - val_acc: 0.9938\n",
            "Epoch 15/50\n",
            "39366/39366 [==============================] - 6s 161us/step - loss: 0.0146 - acc: 0.9956 - val_loss: 0.0240 - val_acc: 0.9920\n",
            "\n",
            "Epoch 00015: ReduceLROnPlateau reducing learning rate to 0.000250000011874.\n",
            "Epoch 16/50\n",
            "18840/39366 [=============>................] - ETA: 3s - loss: 0.0109 - acc: 0.9965"
          ],
          "name": "stdout"
        },
        {
          "output_type": "stream",
          "text": [
            "39366/39366 [==============================] - 6s 159us/step - loss: 0.0097 - acc: 0.9969 - val_loss: 0.0238 - val_acc: 0.9945\n",
            "Epoch 17/50\n",
            "39366/39366 [==============================] - 6s 165us/step - loss: 0.0089 - acc: 0.9969 - val_loss: 0.0210 - val_acc: 0.9938\n",
            "Epoch 18/50\n",
            "39366/39366 [==============================] - 6s 161us/step - loss: 0.0074 - acc: 0.9976 - val_loss: 0.0249 - val_acc: 0.9941\n",
            "\n",
            "Epoch 00018: ReduceLROnPlateau reducing learning rate to 0.000125000005937.\n",
            "Epoch 19/50\n",
            "18480/39366 [=============>................] - ETA: 3s - loss: 0.0068 - acc: 0.9979"
          ],
          "name": "stdout"
        },
        {
          "output_type": "stream",
          "text": [
            "39366/39366 [==============================] - 6s 160us/step - loss: 0.0068 - acc: 0.9981 - val_loss: 0.0224 - val_acc: 0.9950\n",
            "Epoch 20/50\n",
            "39366/39366 [==============================] - 6s 161us/step - loss: 0.0066 - acc: 0.9980 - val_loss: 0.0217 - val_acc: 0.9943\n",
            "Epoch 21/50\n",
            "39366/39366 [==============================] - 6s 161us/step - loss: 0.0062 - acc: 0.9981 - val_loss: 0.0248 - val_acc: 0.9943\n",
            "Epoch 22/50\n",
            "21000/39366 [===============>..............] - ETA: 2s - loss: 0.0062 - acc: 0.9979"
          ],
          "name": "stdout"
        },
        {
          "output_type": "stream",
          "text": [
            "39366/39366 [==============================] - 6s 158us/step - loss: 0.0058 - acc: 0.9982 - val_loss: 0.0235 - val_acc: 0.9950\n",
            "\n",
            "Epoch 00022: ReduceLROnPlateau reducing learning rate to 6.25000029686e-05.\n",
            "Epoch 23/50\n",
            "39366/39366 [==============================] - 6s 159us/step - loss: 0.0060 - acc: 0.9982 - val_loss: 0.0229 - val_acc: 0.9941\n",
            "Epoch 24/50\n",
            "39366/39366 [==============================] - 6s 160us/step - loss: 0.0052 - acc: 0.9987 - val_loss: 0.0229 - val_acc: 0.9950\n",
            "Epoch 25/50\n",
            " 8040/39366 [=====>........................] - ETA: 4s - loss: 0.0031 - acc: 0.9988"
          ],
          "name": "stdout"
        },
        {
          "output_type": "stream",
          "text": [
            "39366/39366 [==============================] - 6s 158us/step - loss: 0.0057 - acc: 0.9983 - val_loss: 0.0226 - val_acc: 0.9957\n",
            "Epoch 26/50\n",
            "39366/39366 [==============================] - 6s 160us/step - loss: 0.0054 - acc: 0.9986 - val_loss: 0.0228 - val_acc: 0.9954\n",
            "Epoch 27/50\n",
            "39366/39366 [==============================] - 6s 160us/step - loss: 0.0045 - acc: 0.9986 - val_loss: 0.0237 - val_acc: 0.9950\n",
            "Epoch 28/50\n",
            "19560/39366 [=============>................] - ETA: 3s - loss: 0.0048 - acc: 0.9982"
          ],
          "name": "stdout"
        },
        {
          "output_type": "stream",
          "text": [
            "39366/39366 [==============================] - 6s 159us/step - loss: 0.0046 - acc: 0.9985 - val_loss: 0.0232 - val_acc: 0.9950\n",
            "\n",
            "Epoch 00028: ReduceLROnPlateau reducing learning rate to 3.12500014843e-05.\n",
            "Epoch 29/50\n",
            "39366/39366 [==============================] - 6s 161us/step - loss: 0.0044 - acc: 0.9986 - val_loss: 0.0234 - val_acc: 0.9945\n",
            "Epoch 30/50\n",
            "39366/39366 [==============================] - 6s 159us/step - loss: 0.0041 - acc: 0.9987 - val_loss: 0.0231 - val_acc: 0.9950\n",
            "Epoch 31/50\n",
            " 8040/39366 [=====>........................] - ETA: 4s - loss: 0.0026 - acc: 0.9991"
          ],
          "name": "stdout"
        },
        {
          "output_type": "stream",
          "text": [
            "39366/39366 [==============================] - 6s 160us/step - loss: 0.0044 - acc: 0.9987 - val_loss: 0.0230 - val_acc: 0.9950\n",
            "\n",
            "Epoch 00031: ReduceLROnPlateau reducing learning rate to 1.56250007421e-05.\n",
            "Epoch 32/50\n",
            "39366/39366 [==============================] - 6s 158us/step - loss: 0.0040 - acc: 0.9989 - val_loss: 0.0228 - val_acc: 0.9952\n",
            "Epoch 33/50\n",
            "39366/39366 [==============================] - 6s 159us/step - loss: 0.0048 - acc: 0.9986 - val_loss: 0.0231 - val_acc: 0.9950\n",
            "Epoch 34/50\n",
            " 6240/39366 [===>..........................] - ETA: 5s - loss: 0.0043 - acc: 0.9986"
          ],
          "name": "stdout"
        },
        {
          "output_type": "stream",
          "text": [
            "39366/39366 [==============================] - 6s 164us/step - loss: 0.0038 - acc: 0.9988 - val_loss: 0.0234 - val_acc: 0.9952\n",
            "\n",
            "Epoch 00034: ReduceLROnPlateau reducing learning rate to 1e-05.\n",
            "Epoch 35/50\n",
            "39366/39366 [==============================] - 6s 163us/step - loss: 0.0046 - acc: 0.9986 - val_loss: 0.0233 - val_acc: 0.9950\n",
            "Epoch 36/50\n",
            "39366/39366 [==============================] - 6s 161us/step - loss: 0.0038 - acc: 0.9987 - val_loss: 0.0236 - val_acc: 0.9950\n",
            "Epoch 37/50\n",
            " 7680/39366 [====>.........................] - ETA: 4s - loss: 0.0043 - acc: 0.9987"
          ],
          "name": "stdout"
        },
        {
          "output_type": "stream",
          "text": [
            "39366/39366 [==============================] - 6s 163us/step - loss: 0.0042 - acc: 0.9988 - val_loss: 0.0237 - val_acc: 0.9950\n",
            "Epoch 38/50\n",
            "39366/39366 [==============================] - 6s 162us/step - loss: 0.0041 - acc: 0.9987 - val_loss: 0.0237 - val_acc: 0.9952\n",
            "Epoch 39/50\n",
            "39366/39366 [==============================] - 6s 161us/step - loss: 0.0039 - acc: 0.9986 - val_loss: 0.0232 - val_acc: 0.9945\n",
            "Epoch 40/50\n",
            "19560/39366 [=============>................] - ETA: 3s - loss: 0.0037 - acc: 0.9991"
          ],
          "name": "stdout"
        },
        {
          "output_type": "stream",
          "text": [
            "39366/39366 [==============================] - 6s 163us/step - loss: 0.0040 - acc: 0.9988 - val_loss: 0.0233 - val_acc: 0.9947\n",
            "Epoch 41/50\n",
            "39366/39366 [==============================] - 6s 164us/step - loss: 0.0043 - acc: 0.9988 - val_loss: 0.0234 - val_acc: 0.9950\n",
            "Epoch 42/50\n",
            "39366/39366 [==============================] - 6s 158us/step - loss: 0.0052 - acc: 0.9986 - val_loss: 0.0230 - val_acc: 0.9952\n",
            "Epoch 43/50\n",
            "21360/39366 [===============>..............] - ETA: 2s - loss: 0.0050 - acc: 0.9986"
          ],
          "name": "stdout"
        },
        {
          "output_type": "stream",
          "text": [
            "39366/39366 [==============================] - 6s 160us/step - loss: 0.0045 - acc: 0.9986 - val_loss: 0.0228 - val_acc: 0.9952\n",
            "Epoch 44/50\n",
            "39366/39366 [==============================] - 6s 159us/step - loss: 0.0044 - acc: 0.9987 - val_loss: 0.0230 - val_acc: 0.9954\n",
            "Epoch 45/50\n",
            "39366/39366 [==============================] - 6s 159us/step - loss: 0.0033 - acc: 0.9989 - val_loss: 0.0225 - val_acc: 0.9952\n",
            "Epoch 46/50\n",
            "21720/39366 [===============>..............] - ETA: 2s - loss: 0.0043 - acc: 0.9988"
          ],
          "name": "stdout"
        },
        {
          "output_type": "stream",
          "text": [
            "39366/39366 [==============================] - 6s 161us/step - loss: 0.0043 - acc: 0.9988 - val_loss: 0.0224 - val_acc: 0.9957\n",
            "Epoch 47/50\n",
            "39366/39366 [==============================] - 6s 161us/step - loss: 0.0043 - acc: 0.9985 - val_loss: 0.0230 - val_acc: 0.9950\n",
            "Epoch 48/50\n",
            "39366/39366 [==============================] - 6s 163us/step - loss: 0.0041 - acc: 0.9988 - val_loss: 0.0232 - val_acc: 0.9950\n",
            "Epoch 49/50\n",
            "21720/39366 [===============>..............] - ETA: 2s - loss: 0.0034 - acc: 0.9986"
          ],
          "name": "stdout"
        },
        {
          "output_type": "stream",
          "text": [
            "39366/39366 [==============================] - 6s 163us/step - loss: 0.0033 - acc: 0.9988 - val_loss: 0.0235 - val_acc: 0.9950\n",
            "Epoch 50/50\n",
            "39366/39366 [==============================] - 6s 164us/step - loss: 0.0035 - acc: 0.9990 - val_loss: 0.0235 - val_acc: 0.9952\n"
          ],
          "name": "stdout"
        },
        {
          "output_type": "execute_result",
          "data": {
            "text/plain": [
              "<keras.callbacks.History at 0x7febb1470e90>"
            ]
          },
          "metadata": {
            "tags": []
          },
          "execution_count": 154
        }
      ]
    },
    {
      "metadata": {
        "id": "YFdY39Psb8_H",
        "colab_type": "code",
        "colab": {
          "autoexec": {
            "startup": false,
            "wait_interval": 0
          }
        }
      },
      "cell_type": "code",
      "source": [
        "Y_final=model.predict(X_test_new)"
      ],
      "execution_count": 0,
      "outputs": []
    },
    {
      "metadata": {
        "id": "2nRrO5GidTLO",
        "colab_type": "code",
        "colab": {
          "autoexec": {
            "startup": false,
            "wait_interval": 0
          }
        }
      },
      "cell_type": "code",
      "source": [
        "Y_final=pd.DataFrame(Y_final)"
      ],
      "execution_count": 0,
      "outputs": []
    },
    {
      "metadata": {
        "id": "neFN3o3ieciK",
        "colab_type": "code",
        "colab": {
          "autoexec": {
            "startup": false,
            "wait_interval": 0
          }
        }
      },
      "cell_type": "code",
      "source": [
        "Y_final['label']=Y_final.idxmax(axis=1)"
      ],
      "execution_count": 0,
      "outputs": []
    },
    {
      "metadata": {
        "id": "sO9In877fIah",
        "colab_type": "code",
        "colab": {
          "autoexec": {
            "startup": false,
            "wait_interval": 0
          }
        }
      },
      "cell_type": "code",
      "source": [
        "Y_final['label_true']=Y_test_new"
      ],
      "execution_count": 0,
      "outputs": []
    },
    {
      "metadata": {
        "id": "Kl3u6fmqduac",
        "colab_type": "code",
        "colab": {
          "autoexec": {
            "startup": false,
            "wait_interval": 0
          }
        }
      },
      "cell_type": "code",
      "source": [
        "Y_final['difference']=Y_final.label-Y_final.label_true"
      ],
      "execution_count": 0,
      "outputs": []
    },
    {
      "metadata": {
        "id": "WCloepjegp6P",
        "colab_type": "code",
        "colab": {
          "autoexec": {
            "startup": false,
            "wait_interval": 0
          },
          "base_uri": "https://localhost:8080/",
          "height": 255
        },
        "outputId": "6262f8a5-b548-4fea-e62f-474d1c7cab54",
        "executionInfo": {
          "status": "ok",
          "timestamp": 1526417932275,
          "user_tz": -120,
          "elapsed": 439,
          "user": {
            "displayName": "nourhene chaalia",
            "photoUrl": "https://lh3.googleusercontent.com/a/default-user=s128",
            "userId": "100626486300945214800"
          }
        }
      },
      "cell_type": "code",
      "source": [
        "Y_final.difference.value_counts()"
      ],
      "execution_count": 244,
      "outputs": [
        {
          "output_type": "execute_result",
          "data": {
            "text/plain": [
              " 0    9808\n",
              "-5      13\n",
              "-2       6\n",
              " 5       5\n",
              "-6       5\n",
              " 2       5\n",
              "-1       3\n",
              " 1       3\n",
              "-4       2\n",
              " 7       1\n",
              " 6       1\n",
              " 4       1\n",
              "-8       1\n",
              "Name: difference, dtype: int64"
            ]
          },
          "metadata": {
            "tags": []
          },
          "execution_count": 244
        }
      ]
    },
    {
      "metadata": {
        "id": "CZsJZwa6hBLx",
        "colab_type": "code",
        "colab": {
          "autoexec": {
            "startup": false,
            "wait_interval": 0
          },
          "base_uri": "https://localhost:8080/",
          "height": 34
        },
        "outputId": "4aa16da6-7a19-4996-863e-d0dbe8db162a",
        "executionInfo": {
          "status": "ok",
          "timestamp": 1526417944211,
          "user_tz": -120,
          "elapsed": 3378,
          "user": {
            "displayName": "nourhene chaalia",
            "photoUrl": "https://lh3.googleusercontent.com/a/default-user=s128",
            "userId": "100626486300945214800"
          }
        }
      },
      "cell_type": "code",
      "source": [
        "9808./9854*100"
      ],
      "execution_count": 245,
      "outputs": [
        {
          "output_type": "execute_result",
          "data": {
            "text/plain": [
              "99.53318449360665"
            ]
          },
          "metadata": {
            "tags": []
          },
          "execution_count": 245
        }
      ]
    },
    {
      "metadata": {
        "id": "R_D2DnHght10",
        "colab_type": "code",
        "colab": {
          "autoexec": {
            "startup": false,
            "wait_interval": 0
          }
        }
      },
      "cell_type": "code",
      "source": [
        "Y_comp=model.predict(X_test)"
      ],
      "execution_count": 0,
      "outputs": []
    },
    {
      "metadata": {
        "id": "b8XHCnCkiWCd",
        "colab_type": "code",
        "colab": {
          "autoexec": {
            "startup": false,
            "wait_interval": 0
          }
        }
      },
      "cell_type": "code",
      "source": [
        "Y_final_comp=pd.DataFrame(Y_comp)\n",
        "\n"
      ],
      "execution_count": 0,
      "outputs": []
    },
    {
      "metadata": {
        "id": "f-JBjNmhisZC",
        "colab_type": "code",
        "colab": {
          "autoexec": {
            "startup": false,
            "wait_interval": 0
          },
          "base_uri": "https://localhost:8080/",
          "height": 204
        },
        "outputId": "000739d0-5591-44bc-bbb7-9b49b6585238",
        "executionInfo": {
          "status": "ok",
          "timestamp": 1526417154811,
          "user_tz": -120,
          "elapsed": 515,
          "user": {
            "displayName": "nourhene chaalia",
            "photoUrl": "https://lh3.googleusercontent.com/a/default-user=s128",
            "userId": "100626486300945214800"
          }
        }
      },
      "cell_type": "code",
      "source": [
        "Y_final_comp.head()"
      ],
      "execution_count": 217,
      "outputs": [
        {
          "output_type": "execute_result",
          "data": {
            "text/html": [
              "<div>\n",
              "<style scoped>\n",
              "    .dataframe tbody tr th:only-of-type {\n",
              "        vertical-align: middle;\n",
              "    }\n",
              "\n",
              "    .dataframe tbody tr th {\n",
              "        vertical-align: top;\n",
              "    }\n",
              "\n",
              "    .dataframe thead th {\n",
              "        text-align: right;\n",
              "    }\n",
              "</style>\n",
              "<table border=\"1\" class=\"dataframe\">\n",
              "  <thead>\n",
              "    <tr style=\"text-align: right;\">\n",
              "      <th></th>\n",
              "      <th>0</th>\n",
              "      <th>1</th>\n",
              "      <th>2</th>\n",
              "      <th>3</th>\n",
              "      <th>4</th>\n",
              "      <th>5</th>\n",
              "      <th>6</th>\n",
              "      <th>7</th>\n",
              "      <th>8</th>\n",
              "      <th>9</th>\n",
              "    </tr>\n",
              "  </thead>\n",
              "  <tbody>\n",
              "    <tr>\n",
              "      <th>0</th>\n",
              "      <td>4.969767e-18</td>\n",
              "      <td>3.182413e-13</td>\n",
              "      <td>1.928229e-13</td>\n",
              "      <td>1.008685e-15</td>\n",
              "      <td>5.933508e-17</td>\n",
              "      <td>2.939595e-19</td>\n",
              "      <td>1.474328e-23</td>\n",
              "      <td>1.000000e+00</td>\n",
              "      <td>7.842950e-17</td>\n",
              "      <td>1.846792e-13</td>\n",
              "    </tr>\n",
              "    <tr>\n",
              "      <th>1</th>\n",
              "      <td>9.081027e-13</td>\n",
              "      <td>3.041157e-11</td>\n",
              "      <td>1.000000e+00</td>\n",
              "      <td>8.265937e-14</td>\n",
              "      <td>3.778552e-17</td>\n",
              "      <td>6.217821e-22</td>\n",
              "      <td>1.586207e-15</td>\n",
              "      <td>1.317517e-12</td>\n",
              "      <td>1.780624e-14</td>\n",
              "      <td>1.326496e-19</td>\n",
              "    </tr>\n",
              "    <tr>\n",
              "      <th>2</th>\n",
              "      <td>1.208936e-13</td>\n",
              "      <td>1.000000e+00</td>\n",
              "      <td>1.524651e-13</td>\n",
              "      <td>1.748031e-16</td>\n",
              "      <td>2.620971e-11</td>\n",
              "      <td>2.843286e-14</td>\n",
              "      <td>3.415939e-12</td>\n",
              "      <td>8.670918e-12</td>\n",
              "      <td>4.154373e-12</td>\n",
              "      <td>3.278173e-15</td>\n",
              "    </tr>\n",
              "    <tr>\n",
              "      <th>3</th>\n",
              "      <td>1.000000e+00</td>\n",
              "      <td>8.636664e-17</td>\n",
              "      <td>6.680596e-13</td>\n",
              "      <td>1.127125e-17</td>\n",
              "      <td>1.068639e-18</td>\n",
              "      <td>3.594619e-15</td>\n",
              "      <td>8.483023e-12</td>\n",
              "      <td>9.511285e-16</td>\n",
              "      <td>1.214384e-14</td>\n",
              "      <td>4.892271e-14</td>\n",
              "    </tr>\n",
              "    <tr>\n",
              "      <th>4</th>\n",
              "      <td>9.253878e-18</td>\n",
              "      <td>2.672597e-16</td>\n",
              "      <td>2.387153e-16</td>\n",
              "      <td>5.738790e-25</td>\n",
              "      <td>1.000000e+00</td>\n",
              "      <td>1.212252e-19</td>\n",
              "      <td>6.918558e-16</td>\n",
              "      <td>3.025838e-17</td>\n",
              "      <td>3.844960e-16</td>\n",
              "      <td>7.173924e-12</td>\n",
              "    </tr>\n",
              "  </tbody>\n",
              "</table>\n",
              "</div>"
            ],
            "text/plain": [
              "              0             1             2             3             4  \\\n",
              "0  4.969767e-18  3.182413e-13  1.928229e-13  1.008685e-15  5.933508e-17   \n",
              "1  9.081027e-13  3.041157e-11  1.000000e+00  8.265937e-14  3.778552e-17   \n",
              "2  1.208936e-13  1.000000e+00  1.524651e-13  1.748031e-16  2.620971e-11   \n",
              "3  1.000000e+00  8.636664e-17  6.680596e-13  1.127125e-17  1.068639e-18   \n",
              "4  9.253878e-18  2.672597e-16  2.387153e-16  5.738790e-25  1.000000e+00   \n",
              "\n",
              "              5             6             7             8             9  \n",
              "0  2.939595e-19  1.474328e-23  1.000000e+00  7.842950e-17  1.846792e-13  \n",
              "1  6.217821e-22  1.586207e-15  1.317517e-12  1.780624e-14  1.326496e-19  \n",
              "2  2.843286e-14  3.415939e-12  8.670918e-12  4.154373e-12  3.278173e-15  \n",
              "3  3.594619e-15  8.483023e-12  9.511285e-16  1.214384e-14  4.892271e-14  \n",
              "4  1.212252e-19  6.918558e-16  3.025838e-17  3.844960e-16  7.173924e-12  "
            ]
          },
          "metadata": {
            "tags": []
          },
          "execution_count": 217
        }
      ]
    },
    {
      "metadata": {
        "id": "0Lzp-xgIi90m",
        "colab_type": "code",
        "colab": {
          "autoexec": {
            "startup": false,
            "wait_interval": 0
          }
        }
      },
      "cell_type": "code",
      "source": [
        "Y_final_comp['label']=Y_final_comp.idxmax(axis=1)\n",
        "Y_final_comp['label_true']=y_test"
      ],
      "execution_count": 0,
      "outputs": []
    },
    {
      "metadata": {
        "id": "MAaaV0OmjKZr",
        "colab_type": "code",
        "colab": {
          "autoexec": {
            "startup": false,
            "wait_interval": 0
          },
          "base_uri": "https://localhost:8080/",
          "height": 255
        },
        "outputId": "b9ded359-bf46-4e3c-ef36-ebc46f7f39d5",
        "executionInfo": {
          "status": "ok",
          "timestamp": 1526417173425,
          "user_tz": -120,
          "elapsed": 589,
          "user": {
            "displayName": "nourhene chaalia",
            "photoUrl": "https://lh3.googleusercontent.com/a/default-user=s128",
            "userId": "100626486300945214800"
          }
        }
      },
      "cell_type": "code",
      "source": [
        "Y_final_comp['difference']=Y_final_comp.label-Y_final_comp.label_true\n",
        "Y_final_comp.difference.value_counts()"
      ],
      "execution_count": 220,
      "outputs": [
        {
          "output_type": "execute_result",
          "data": {
            "text/plain": [
              " 0    9949\n",
              "-5      13\n",
              "-2       8\n",
              "-6       6\n",
              " 5       5\n",
              " 2       5\n",
              "-1       4\n",
              "-4       3\n",
              " 1       3\n",
              " 7       1\n",
              " 6       1\n",
              " 4       1\n",
              "-8       1\n",
              "Name: difference, dtype: int64"
            ]
          },
          "metadata": {
            "tags": []
          },
          "execution_count": 220
        }
      ]
    },
    {
      "metadata": {
        "id": "IQHbIouBjX_k",
        "colab_type": "code",
        "colab": {
          "autoexec": {
            "startup": false,
            "wait_interval": 0
          },
          "base_uri": "https://localhost:8080/",
          "height": 34
        },
        "outputId": "a8299720-041a-416f-cecc-ce5585f6f7a0",
        "executionInfo": {
          "status": "ok",
          "timestamp": 1526417208485,
          "user_tz": -120,
          "elapsed": 379,
          "user": {
            "displayName": "nourhene chaalia",
            "photoUrl": "https://lh3.googleusercontent.com/a/default-user=s128",
            "userId": "100626486300945214800"
          }
        }
      },
      "cell_type": "code",
      "source": [
        "9949./100"
      ],
      "execution_count": 222,
      "outputs": [
        {
          "output_type": "execute_result",
          "data": {
            "text/plain": [
              "99.49"
            ]
          },
          "metadata": {
            "tags": []
          },
          "execution_count": 222
        }
      ]
    },
    {
      "metadata": {
        "id": "O3VqAMgoje12",
        "colab_type": "code",
        "colab": {
          "autoexec": {
            "startup": false,
            "wait_interval": 0
          },
          "base_uri": "https://localhost:8080/",
          "height": 119
        },
        "outputId": "b01e49a4-086d-4fa9-edd5-821bb6dfd174",
        "executionInfo": {
          "status": "ok",
          "timestamp": 1526417958346,
          "user_tz": -120,
          "elapsed": 494,
          "user": {
            "displayName": "nourhene chaalia",
            "photoUrl": "https://lh3.googleusercontent.com/a/default-user=s128",
            "userId": "100626486300945214800"
          }
        }
      },
      "cell_type": "code",
      "source": [
        "Y_rej=model.predict(X_rejet_new)\n",
        "Y_rej=pd.DataFrame(Y_rej)\n",
        "Y_rej['label']=Y_rej.idxmax(axis=1)\n",
        "Y_rej['label_true']=Y_rejet_new\n",
        "Y_rej['difference']=Y_rej.label-Y_rej.label_true\n",
        "Y_rej.difference.value_counts()\n"
      ],
      "execution_count": 247,
      "outputs": [
        {
          "output_type": "execute_result",
          "data": {
            "text/plain": [
              " 0    141\n",
              "-2      2\n",
              "-6      1\n",
              "-4      1\n",
              "-1      1\n",
              "Name: difference, dtype: int64"
            ]
          },
          "metadata": {
            "tags": []
          },
          "execution_count": 247
        }
      ]
    },
    {
      "metadata": {
        "id": "BQNabFC9lTWQ",
        "colab_type": "code",
        "colab": {
          "autoexec": {
            "startup": false,
            "wait_interval": 0
          },
          "base_uri": "https://localhost:8080/",
          "height": 34
        },
        "outputId": "de19fe20-7d11-43dc-f605-39b79ffd95f8",
        "executionInfo": {
          "status": "ok",
          "timestamp": 1526418043339,
          "user_tz": -120,
          "elapsed": 1095,
          "user": {
            "displayName": "nourhene chaalia",
            "photoUrl": "https://lh3.googleusercontent.com/a/default-user=s128",
            "userId": "100626486300945214800"
          }
        }
      },
      "cell_type": "code",
      "source": [
        "(100-99.49)*10000/100"
      ],
      "execution_count": 250,
      "outputs": [
        {
          "output_type": "execute_result",
          "data": {
            "text/plain": [
              "51.00000000000051"
            ]
          },
          "metadata": {
            "tags": []
          },
          "execution_count": 250
        }
      ]
    },
    {
      "metadata": {
        "id": "lacuDzEtmnBu",
        "colab_type": "code",
        "colab": {
          "autoexec": {
            "startup": false,
            "wait_interval": 0
          }
        }
      },
      "cell_type": "code",
      "source": [
        ""
      ],
      "execution_count": 0,
      "outputs": []
    },
    {
      "metadata": {
        "id": "ohlBq6w1ovcW",
        "colab_type": "text"
      },
      "cell_type": "markdown",
      "source": [
        "# Rejector with 2 outputs"
      ]
    },
    {
      "metadata": {
        "id": "vDSgMuVUozfh",
        "colab_type": "code",
        "colab": {
          "autoexec": {
            "startup": false,
            "wait_interval": 0
          },
          "base_uri": "https://localhost:8080/",
          "height": 578
        },
        "outputId": "25d1ee31-f484-4217-fe1c-4da89817bdd1",
        "executionInfo": {
          "status": "ok",
          "timestamp": 1526418766178,
          "user_tz": -120,
          "elapsed": 548,
          "user": {
            "displayName": "nourhene chaalia",
            "photoUrl": "https://lh3.googleusercontent.com/a/default-user=s128",
            "userId": "100626486300945214800"
          }
        }
      },
      "cell_type": "code",
      "source": [
        "import pandas as pd\n",
        "import numpy as np\n",
        "np.random.seed(1337)\n",
        "import tensorflow as tf\n",
        "import timeit\n",
        "\n",
        "import os\n",
        "  \n",
        "from keras import backend as K\n",
        "\n",
        "from __future__ import print_function\n",
        "from sklearn.model_selection import train_test_split\n",
        "from keras.utils.np_utils import to_categorical\n",
        "from keras.models import Sequential\n",
        "from keras.layers import Dense, Dropout, Flatten, Conv2D, MaxPool2D\n",
        "from keras.optimizers import RMSprop\n",
        "from keras.callbacks import ReduceLROnPlateau\n",
        "\n",
        "random_seed = 2\n",
        "# Split the train and the validation set for the fitting\n",
        "X_train, X_val, Y_train, Y_val = train_test_split(X_train, Y_train, test_size = 0.1, random_state=random_seed)\n",
        "# Set the CNN model \n",
        "\n",
        "rejector_2 = Sequential()\n",
        "\n",
        "rejector_2.add(Conv2D(filters = 32, kernel_size = (5,5),padding = 'Same', activation ='relu', input_shape = (1,28,28)))\n",
        "rejector_2.add(MaxPool2D(pool_size=(2,2)))\n",
        "rejector_2.add(Conv2D(filters = 32, kernel_size = (5,5),padding = 'Same', activation ='relu'))\n",
        "rejector_2.add(MaxPool2D(pool_size=(2,2)))\n",
        "rejector_2.add(Dropout(0.25))\n",
        "\n",
        "\n",
        "rejector_2.add(Conv2D(filters = 64, kernel_size = (3,3),padding = 'Same', activation ='relu'))\n",
        "rejector_2.add(Conv2D(filters = 64, kernel_size = (3,3),padding = 'Same', activation ='relu'))\n",
        "rejector_2.add(MaxPool2D(pool_size=(2,2), strides=(2,2)))\n",
        "rejector_2.add(Dropout(0.25))\n",
        "\n",
        "\n",
        "rejector_2.add(Flatten())\n",
        "rejector_2.add(Dense(256, activation = \"relu\"))\n",
        "rejector_2.add(Dropout(0.4))\n",
        "rejector_2.add(Dense(2, activation = \"softmax\"))\n",
        "# Print the summary \n",
        "rejector_2.summary()"
      ],
      "execution_count": 251,
      "outputs": [
        {
          "output_type": "stream",
          "text": [
            "_________________________________________________________________\n",
            "Layer (type)                 Output Shape              Param #   \n",
            "=================================================================\n",
            "conv2d_22 (Conv2D)           (None, 32, 28, 28)        832       \n",
            "_________________________________________________________________\n",
            "max_pooling2d_16 (MaxPooling (None, 32, 14, 14)        0         \n",
            "_________________________________________________________________\n",
            "conv2d_23 (Conv2D)           (None, 32, 14, 14)        25632     \n",
            "_________________________________________________________________\n",
            "max_pooling2d_17 (MaxPooling (None, 32, 7, 7)          0         \n",
            "_________________________________________________________________\n",
            "dropout_13 (Dropout)         (None, 32, 7, 7)          0         \n",
            "_________________________________________________________________\n",
            "conv2d_24 (Conv2D)           (None, 64, 7, 7)          18496     \n",
            "_________________________________________________________________\n",
            "conv2d_25 (Conv2D)           (None, 64, 7, 7)          36928     \n",
            "_________________________________________________________________\n",
            "max_pooling2d_18 (MaxPooling (None, 64, 3, 3)          0         \n",
            "_________________________________________________________________\n",
            "dropout_14 (Dropout)         (None, 64, 3, 3)          0         \n",
            "_________________________________________________________________\n",
            "flatten_9 (Flatten)          (None, 576)               0         \n",
            "_________________________________________________________________\n",
            "dense_10 (Dense)             (None, 256)               147712    \n",
            "_________________________________________________________________\n",
            "dropout_15 (Dropout)         (None, 256)               0         \n",
            "_________________________________________________________________\n",
            "dense_11 (Dense)             (None, 2)                 514       \n",
            "=================================================================\n",
            "Total params: 230,114\n",
            "Trainable params: 230,114\n",
            "Non-trainable params: 0\n",
            "_________________________________________________________________\n"
          ],
          "name": "stdout"
        }
      ]
    },
    {
      "metadata": {
        "id": "1dbYJxuJp8qQ",
        "colab_type": "code",
        "colab": {
          "autoexec": {
            "startup": false,
            "wait_interval": 0
          }
        }
      },
      "cell_type": "code",
      "source": [
        "from sklearn.model_selection import train_test_split\n",
        "xyz.target[xyz.target!=0]=1\n",
        "xyz_train,xyz_val=train_test_split(xyz,test_size=0.2)\n",
        "y_train=xyz_train.target.values\n",
        "x_train=xyz_train.drop(['target'],axis=1)\n",
        "y_val=xyz_val.target.values\n",
        "x_val=xyz_val.drop(['target'],axis=1)\n",
        "\n",
        "\n"
      ],
      "execution_count": 0,
      "outputs": []
    },
    {
      "metadata": {
        "id": "0uSFCFUxr6dn",
        "colab_type": "code",
        "colab": {
          "autoexec": {
            "startup": false,
            "wait_interval": 0
          },
          "base_uri": "https://localhost:8080/",
          "height": 34
        },
        "outputId": "a29866ae-c8c9-4a6c-bf1b-7a395c870689",
        "executionInfo": {
          "status": "ok",
          "timestamp": 1526419410822,
          "user_tz": -120,
          "elapsed": 503,
          "user": {
            "displayName": "nourhene chaalia",
            "photoUrl": "https://lh3.googleusercontent.com/a/default-user=s128",
            "userId": "100626486300945214800"
          }
        }
      },
      "cell_type": "code",
      "source": [
        "y_val.shape"
      ],
      "execution_count": 270,
      "outputs": [
        {
          "output_type": "execute_result",
          "data": {
            "text/plain": [
              "(18317,)"
            ]
          },
          "metadata": {
            "tags": []
          },
          "execution_count": 270
        }
      ]
    },
    {
      "metadata": {
        "id": "_XU7vC1frdgB",
        "colab_type": "code",
        "colab": {
          "autoexec": {
            "startup": false,
            "wait_interval": 0
          }
        }
      },
      "cell_type": "code",
      "source": [
        "y_train=np_utils.to_categorical(y_train, 2)\n",
        "y_val=np_utils.to_categorical(y_val, 2)"
      ],
      "execution_count": 0,
      "outputs": []
    },
    {
      "metadata": {
        "id": "543JSfcaqpQh",
        "colab_type": "code",
        "colab": {
          "autoexec": {
            "startup": false,
            "wait_interval": 0
          }
        }
      },
      "cell_type": "code",
      "source": [
        "x_train=x_train.values.astype('float32').reshape(73266,1,28,28)\n",
        "x_val=x_val.values.astype('float32').reshape(18317,1,28,28)"
      ],
      "execution_count": 0,
      "outputs": []
    },
    {
      "metadata": {
        "id": "WK8XqgBkq88B",
        "colab_type": "code",
        "colab": {
          "autoexec": {
            "startup": false,
            "wait_interval": 0
          },
          "base_uri": "https://localhost:8080/",
          "height": 34
        },
        "outputId": "c475610b-b5e8-4f28-dccc-38eeb8426473",
        "executionInfo": {
          "status": "ok",
          "timestamp": 1526419435195,
          "user_tz": -120,
          "elapsed": 716,
          "user": {
            "displayName": "nourhene chaalia",
            "photoUrl": "https://lh3.googleusercontent.com/a/default-user=s128",
            "userId": "100626486300945214800"
          }
        }
      },
      "cell_type": "code",
      "source": [
        "y_val.shape"
      ],
      "execution_count": 273,
      "outputs": [
        {
          "output_type": "execute_result",
          "data": {
            "text/plain": [
              "(18317, 2)"
            ]
          },
          "metadata": {
            "tags": []
          },
          "execution_count": 273
        }
      ]
    },
    {
      "metadata": {
        "id": "9R6VCl9dpfb1",
        "colab_type": "code",
        "colab": {
          "autoexec": {
            "startup": false,
            "wait_interval": 0
          },
          "base_uri": "https://localhost:8080/",
          "height": 2009
        },
        "outputId": "47e91364-486a-4bb5-e219-9e29f03d5f98",
        "executionInfo": {
          "status": "ok",
          "timestamp": 1526420193465,
          "user_tz": -120,
          "elapsed": 754234,
          "user": {
            "displayName": "nourhene chaalia",
            "photoUrl": "https://lh3.googleusercontent.com/a/default-user=s128",
            "userId": "100626486300945214800"
          }
        }
      },
      "cell_type": "code",
      "source": [
        "# Define the optimizer\n",
        "optimizer = RMSprop(lr=0.001, rho=0.9, epsilon=1e-08, decay=0.0)\n",
        "# Compile the model\n",
        "rejector_2.compile(optimizer = optimizer , loss = \"categorical_crossentropy\", metrics=[\"accuracy\"])\n",
        "# Set a learning rate annealer\n",
        "learning_rate_reduction = ReduceLROnPlateau(monitor='val_acc', patience=3, verbose=1, factor=0.5, min_lr=0.00001)\n",
        "\n",
        "epochs = 50 \n",
        "batch_size = 120\n",
        "rejector_2.fit(x_train, y_train, nb_epoch=epochs, batch_size=batch_size, callbacks=[learning_rate_reduction],validation_data = (x_val, y_val))"
      ],
      "execution_count": 274,
      "outputs": [
        {
          "output_type": "stream",
          "text": [
            "Train on 73266 samples, validate on 18317 samples\n",
            "Epoch 1/50\n",
            "73266/73266 [==============================] - 16s 225us/step - loss: 0.5870 - acc: 0.6922 - val_loss: 0.4336 - val_acc: 0.8368\n",
            "Epoch 2/50\n",
            "73266/73266 [==============================] - 14s 195us/step - loss: 0.3894 - acc: 0.8299 - val_loss: 0.2870 - val_acc: 0.8869\n",
            "Epoch 3/50\n",
            " 3600/73266 [>.............................] - ETA: 12s - loss: 0.3331 - acc: 0.8575"
          ],
          "name": "stdout"
        },
        {
          "output_type": "stream",
          "text": [
            "73266/73266 [==============================] - 14s 196us/step - loss: 0.2828 - acc: 0.8836 - val_loss: 0.2114 - val_acc: 0.9297\n",
            "Epoch 4/50\n",
            "73266/73266 [==============================] - 14s 197us/step - loss: 0.2152 - acc: 0.9140 - val_loss: 0.2237 - val_acc: 0.9196\n",
            "Epoch 5/50\n",
            "28080/73266 [==========>...................] - ETA: 8s - loss: 0.1853 - acc: 0.9272"
          ],
          "name": "stdout"
        },
        {
          "output_type": "stream",
          "text": [
            "73266/73266 [==============================] - 14s 197us/step - loss: 0.1796 - acc: 0.9296 - val_loss: 0.1653 - val_acc: 0.9343\n",
            "Epoch 6/50\n",
            "73266/73266 [==============================] - 14s 194us/step - loss: 0.1520 - acc: 0.9414 - val_loss: 0.0921 - val_acc: 0.9678\n",
            "Epoch 7/50\n",
            "39240/73266 [===============>..............] - ETA: 6s - loss: 0.1406 - acc: 0.9472"
          ],
          "name": "stdout"
        },
        {
          "output_type": "stream",
          "text": [
            "73266/73266 [==============================] - 14s 197us/step - loss: 0.1377 - acc: 0.9484 - val_loss: 0.1535 - val_acc: 0.9456\n",
            "Epoch 8/50\n",
            "73266/73266 [==============================] - 14s 196us/step - loss: 0.1206 - acc: 0.9550 - val_loss: 0.0869 - val_acc: 0.9682\n",
            "Epoch 9/50\n",
            "39360/73266 [===============>..............] - ETA: 6s - loss: 0.1032 - acc: 0.9616"
          ],
          "name": "stdout"
        },
        {
          "output_type": "stream",
          "text": [
            "73266/73266 [==============================] - 14s 196us/step - loss: 0.1105 - acc: 0.9599 - val_loss: 0.1691 - val_acc: 0.9407\n",
            "Epoch 10/50\n",
            "73266/73266 [==============================] - 14s 197us/step - loss: 0.1003 - acc: 0.9635 - val_loss: 0.0901 - val_acc: 0.9691\n",
            "Epoch 11/50\n",
            "34680/73266 [=============>................] - ETA: 7s - loss: 0.0955 - acc: 0.9650"
          ],
          "name": "stdout"
        },
        {
          "output_type": "stream",
          "text": [
            "73266/73266 [==============================] - 15s 203us/step - loss: 0.0958 - acc: 0.9650 - val_loss: 0.0696 - val_acc: 0.9768\n",
            "Epoch 12/50\n",
            "73266/73266 [==============================] - 15s 204us/step - loss: 0.0938 - acc: 0.9675 - val_loss: 0.0941 - val_acc: 0.9664\n",
            "Epoch 13/50\n",
            "37080/73266 [==============>...............] - ETA: 6s - loss: 0.0903 - acc: 0.9681"
          ],
          "name": "stdout"
        },
        {
          "output_type": "stream",
          "text": [
            "73266/73266 [==============================] - 15s 203us/step - loss: 0.0895 - acc: 0.9686 - val_loss: 0.0618 - val_acc: 0.9791\n",
            "Epoch 14/50\n",
            "73266/73266 [==============================] - 15s 205us/step - loss: 0.0860 - acc: 0.9698 - val_loss: 0.1222 - val_acc: 0.9598\n",
            "Epoch 15/50\n",
            "38760/73266 [==============>...............] - ETA: 6s - loss: 0.0843 - acc: 0.9713"
          ],
          "name": "stdout"
        },
        {
          "output_type": "stream",
          "text": [
            "73266/73266 [==============================] - 15s 205us/step - loss: 0.0831 - acc: 0.9715 - val_loss: 0.0694 - val_acc: 0.9762\n",
            "Epoch 16/50\n",
            "73266/73266 [==============================] - 15s 205us/step - loss: 0.0830 - acc: 0.9718 - val_loss: 0.0739 - val_acc: 0.9772\n",
            "\n",
            "Epoch 00016: ReduceLROnPlateau reducing learning rate to 0.000500000023749.\n",
            "Epoch 17/50\n",
            "32040/73266 [============>.................] - ETA: 7s - loss: 0.0517 - acc: 0.9816"
          ],
          "name": "stdout"
        },
        {
          "output_type": "stream",
          "text": [
            "73266/73266 [==============================] - 15s 206us/step - loss: 0.0482 - acc: 0.9829 - val_loss: 0.1217 - val_acc: 0.9585\n",
            "Epoch 18/50\n",
            "73266/73266 [==============================] - 15s 208us/step - loss: 0.0468 - acc: 0.9842 - val_loss: 0.1390 - val_acc: 0.9510\n",
            "Epoch 19/50\n",
            "36480/73266 [=============>................] - ETA: 7s - loss: 0.0415 - acc: 0.9855"
          ],
          "name": "stdout"
        },
        {
          "output_type": "stream",
          "text": [
            "73266/73266 [==============================] - 15s 209us/step - loss: 0.0435 - acc: 0.9850 - val_loss: 0.0573 - val_acc: 0.9812\n",
            "Epoch 20/50\n",
            "73266/73266 [==============================] - 15s 205us/step - loss: 0.0435 - acc: 0.9854 - val_loss: 0.0588 - val_acc: 0.9807\n",
            "Epoch 21/50\n",
            "36600/73266 [=============>................] - ETA: 6s - loss: 0.0407 - acc: 0.9863"
          ],
          "name": "stdout"
        },
        {
          "output_type": "stream",
          "text": [
            "73266/73266 [==============================] - 15s 206us/step - loss: 0.0419 - acc: 0.9859 - val_loss: 0.1008 - val_acc: 0.9634\n",
            "Epoch 22/50\n",
            "73266/73266 [==============================] - 15s 209us/step - loss: 0.0420 - acc: 0.9866 - val_loss: 0.0579 - val_acc: 0.9812\n",
            "\n",
            "Epoch 00022: ReduceLROnPlateau reducing learning rate to 0.000250000011874.\n",
            "Epoch 23/50\n",
            "31680/73266 [===========>..................] - ETA: 8s - loss: 0.0301 - acc: 0.9895"
          ],
          "name": "stdout"
        },
        {
          "output_type": "stream",
          "text": [
            "73266/73266 [==============================] - 15s 208us/step - loss: 0.0300 - acc: 0.9901 - val_loss: 0.0392 - val_acc: 0.9875\n",
            "Epoch 24/50\n",
            "73266/73266 [==============================] - 15s 210us/step - loss: 0.0298 - acc: 0.9903 - val_loss: 0.0505 - val_acc: 0.9838\n",
            "Epoch 25/50\n",
            "36840/73266 [==============>...............] - ETA: 7s - loss: 0.0278 - acc: 0.9905"
          ],
          "name": "stdout"
        },
        {
          "output_type": "stream",
          "text": [
            "73266/73266 [==============================] - 15s 205us/step - loss: 0.0290 - acc: 0.9906 - val_loss: 0.0459 - val_acc: 0.9853\n",
            "Epoch 26/50\n",
            "73266/73266 [==============================] - 15s 210us/step - loss: 0.0306 - acc: 0.9907 - val_loss: 0.0407 - val_acc: 0.9872\n",
            "\n",
            "Epoch 00026: ReduceLROnPlateau reducing learning rate to 0.000125000005937.\n",
            "Epoch 27/50\n",
            "30480/73266 [===========>..................] - ETA: 8s - loss: 0.0224 - acc: 0.9927"
          ],
          "name": "stdout"
        },
        {
          "output_type": "stream",
          "text": [
            "73266/73266 [==============================] - 15s 209us/step - loss: 0.0214 - acc: 0.9933 - val_loss: 0.0416 - val_acc: 0.9867\n",
            "Epoch 28/50\n",
            "73266/73266 [==============================] - 15s 206us/step - loss: 0.0243 - acc: 0.9927 - val_loss: 0.0516 - val_acc: 0.9840\n",
            "Epoch 29/50\n",
            "37200/73266 [==============>...............] - ETA: 7s - loss: 0.0218 - acc: 0.9931"
          ],
          "name": "stdout"
        },
        {
          "output_type": "stream",
          "text": [
            "73266/73266 [==============================] - 15s 208us/step - loss: 0.0216 - acc: 0.9931 - val_loss: 0.0350 - val_acc: 0.9895\n",
            "Epoch 30/50\n",
            "73266/73266 [==============================] - 15s 207us/step - loss: 0.0211 - acc: 0.9935 - val_loss: 0.0480 - val_acc: 0.9854\n",
            "Epoch 31/50\n",
            "39240/73266 [===============>..............] - ETA: 6s - loss: 0.0195 - acc: 0.9939"
          ],
          "name": "stdout"
        },
        {
          "output_type": "stream",
          "text": [
            "73266/73266 [==============================] - 15s 208us/step - loss: 0.0201 - acc: 0.9938 - val_loss: 0.0343 - val_acc: 0.9895\n",
            "Epoch 32/50\n",
            "73266/73266 [==============================] - 15s 209us/step - loss: 0.0224 - acc: 0.9936 - val_loss: 0.0346 - val_acc: 0.9894\n",
            "\n",
            "Epoch 00032: ReduceLROnPlateau reducing learning rate to 6.25000029686e-05.\n",
            "Epoch 33/50\n",
            "31800/73266 [============>.................] - ETA: 7s - loss: 0.0170 - acc: 0.9941\b\b\b\b\b\b\b\b\b\b\b\b\b\b\b\b\b\b\b\b\b\b\b\b\b\b\b\b\b\b\b\b\b\b\b\b\b\b\b\b\b\b\b\b\b\b\b\b\b\b\b\b\b\b\b\b\b\b\b\b\b\b\b\b\b\b\b\b\b\b\b\b\b\b\b\b\b\b\b\b\b\b\b"
          ],
          "name": "stdout"
        },
        {
          "output_type": "stream",
          "text": [
            "73266/73266 [==============================] - 15s 207us/step - loss: 0.0173 - acc: 0.9943 - val_loss: 0.0494 - val_acc: 0.9850\n",
            "Epoch 34/50\n",
            "73266/73266 [==============================] - 15s 205us/step - loss: 0.0182 - acc: 0.9945 - val_loss: 0.0332 - val_acc: 0.9901\n",
            "Epoch 35/50\n",
            "37200/73266 [==============>...............] - ETA: 6s - loss: 0.0180 - acc: 0.9946"
          ],
          "name": "stdout"
        },
        {
          "output_type": "stream",
          "text": [
            "73266/73266 [==============================] - 15s 208us/step - loss: 0.0186 - acc: 0.9946 - val_loss: 0.0378 - val_acc: 0.9888\n",
            "Epoch 36/50\n",
            "73266/73266 [==============================] - 15s 209us/step - loss: 0.0184 - acc: 0.9946 - val_loss: 0.0386 - val_acc: 0.9895\n",
            "Epoch 37/50\n",
            "39240/73266 [===============>..............] - ETA: 6s - loss: 0.0149 - acc: 0.9950"
          ],
          "name": "stdout"
        },
        {
          "output_type": "stream",
          "text": [
            "73266/73266 [==============================] - 15s 208us/step - loss: 0.0167 - acc: 0.9950 - val_loss: 0.0375 - val_acc: 0.9882\n",
            "\n",
            "Epoch 00037: ReduceLROnPlateau reducing learning rate to 3.12500014843e-05.\n",
            "Epoch 38/50\n",
            "73266/73266 [==============================] - 15s 207us/step - loss: 0.0171 - acc: 0.9950 - val_loss: 0.0350 - val_acc: 0.9903\n",
            "Epoch 39/50\n",
            "19920/73266 [=======>......................] - ETA: 10s - loss: 0.0170 - acc: 0.9952"
          ],
          "name": "stdout"
        },
        {
          "output_type": "stream",
          "text": [
            "73266/73266 [==============================] - 15s 208us/step - loss: 0.0158 - acc: 0.9953 - val_loss: 0.0341 - val_acc: 0.9902\n",
            "Epoch 40/50\n",
            "73266/73266 [==============================] - 15s 208us/step - loss: 0.0163 - acc: 0.9952 - val_loss: 0.0514 - val_acc: 0.9847\n",
            "Epoch 41/50\n",
            "35760/73266 [=============>................] - ETA: 7s - loss: 0.0125 - acc: 0.9959"
          ],
          "name": "stdout"
        },
        {
          "output_type": "stream",
          "text": [
            "73266/73266 [==============================] - 15s 209us/step - loss: 0.0135 - acc: 0.9956 - val_loss: 0.0381 - val_acc: 0.9893\n",
            "\n",
            "Epoch 00041: ReduceLROnPlateau reducing learning rate to 1.56250007421e-05.\n",
            "Epoch 42/50\n",
            "73266/73266 [==============================] - 15s 209us/step - loss: 0.0157 - acc: 0.9959 - val_loss: 0.0384 - val_acc: 0.9888\n",
            "Epoch 43/50\n",
            "19920/73266 [=======>......................] - ETA: 10s - loss: 0.0117 - acc: 0.9961"
          ],
          "name": "stdout"
        },
        {
          "output_type": "stream",
          "text": [
            "73266/73266 [==============================] - 15s 208us/step - loss: 0.0136 - acc: 0.9959 - val_loss: 0.0371 - val_acc: 0.9896\n",
            "Epoch 44/50\n",
            "73266/73266 [==============================] - 15s 208us/step - loss: 0.0145 - acc: 0.9956 - val_loss: 0.0388 - val_acc: 0.9887\n",
            "\n",
            "Epoch 00044: ReduceLROnPlateau reducing learning rate to 1e-05.\n",
            "Epoch 45/50\n",
            "29280/73266 [==========>...................] - ETA: 8s - loss: 0.0165 - acc: 0.9959\b\b\b\b\b\b\b\b\b\b\b\b\b\b\b\b\b\b\b\b\b\b\b\b\b\b\b\b\b\b\b\b\b\b\b\b\b\b\b\b\b\b\b\b\b\b\b\b\b\b\b\b\b\b\b\b\b\b\b\b\b\b\b\b\b\b\b\b\b\b\b\b\b\b\b\b\b\b\b\b\b\b\b"
          ],
          "name": "stdout"
        },
        {
          "output_type": "stream",
          "text": [
            "73266/73266 [==============================] - 15s 208us/step - loss: 0.0160 - acc: 0.9959 - val_loss: 0.0439 - val_acc: 0.9871\n",
            "Epoch 46/50\n",
            "73266/73266 [==============================] - 15s 208us/step - loss: 0.0135 - acc: 0.9960 - val_loss: 0.0413 - val_acc: 0.9883\n",
            "Epoch 47/50\n",
            "38400/73266 [==============>...............] - ETA: 6s - loss: 0.0148 - acc: 0.9961"
          ],
          "name": "stdout"
        },
        {
          "output_type": "stream",
          "text": [
            "73266/73266 [==============================] - 15s 207us/step - loss: 0.0147 - acc: 0.9961 - val_loss: 0.0468 - val_acc: 0.9867\n",
            "Epoch 48/50\n",
            "73266/73266 [==============================] - 15s 207us/step - loss: 0.0149 - acc: 0.9962 - val_loss: 0.0395 - val_acc: 0.9890\n",
            "Epoch 49/50\n",
            "39240/73266 [===============>..............] - ETA: 6s - loss: 0.0158 - acc: 0.9956"
          ],
          "name": "stdout"
        },
        {
          "output_type": "stream",
          "text": [
            "73266/73266 [==============================] - 15s 206us/step - loss: 0.0143 - acc: 0.9960 - val_loss: 0.0394 - val_acc: 0.9886\n",
            "Epoch 50/50\n",
            "73266/73266 [==============================] - 15s 208us/step - loss: 0.0141 - acc: 0.9959 - val_loss: 0.0448 - val_acc: 0.9871\n"
          ],
          "name": "stdout"
        },
        {
          "output_type": "execute_result",
          "data": {
            "text/plain": [
              "<keras.callbacks.History at 0x7febb0f50d90>"
            ]
          },
          "metadata": {
            "tags": []
          },
          "execution_count": 274
        }
      ]
    },
    {
      "metadata": {
        "id": "bigk5tXIqaoc",
        "colab_type": "code",
        "colab": {
          "autoexec": {
            "startup": false,
            "wait_interval": 0
          }
        }
      },
      "cell_type": "code",
      "source": [
        "y_rej_pred=rejector_2.predict(X_test)\n",
        "Y_test_new=[]\n",
        "X_test_new=[]\n",
        "Y_rejet_new=[]\n",
        "X_rejet_new=[]\n",
        "\n",
        "for i in range(len (y_rej_pred)): \n",
        "  if y_rej_pred[i][0]>y_rej_pred[i][1]: \n",
        "    X_test_new.append(X_test[i,:,:,:])\n",
        "    Y_test_new.append(y_test[i])  \n",
        "  else:\n",
        "    X_rejet_new.append(X_test[i,:,:,:])\n",
        "    Y_rejet_new.append(y_test[i])  \n",
        "    "
      ],
      "execution_count": 0,
      "outputs": []
    },
    {
      "metadata": {
        "id": "pYOdMJFfvzPe",
        "colab_type": "code",
        "colab": {
          "autoexec": {
            "startup": false,
            "wait_interval": 0
          },
          "base_uri": "https://localhost:8080/",
          "height": 34
        },
        "outputId": "93170ba0-5b30-4053-93be-bc117e5bb7b4",
        "executionInfo": {
          "status": "ok",
          "timestamp": 1526420463849,
          "user_tz": -120,
          "elapsed": 464,
          "user": {
            "displayName": "nourhene chaalia",
            "photoUrl": "https://lh3.googleusercontent.com/a/default-user=s128",
            "userId": "100626486300945214800"
          }
        }
      },
      "cell_type": "code",
      "source": [
        "len(X_test_new)"
      ],
      "execution_count": 276,
      "outputs": [
        {
          "output_type": "execute_result",
          "data": {
            "text/plain": [
              "9802"
            ]
          },
          "metadata": {
            "tags": []
          },
          "execution_count": 276
        }
      ]
    },
    {
      "metadata": {
        "id": "kqgORxL4v96k",
        "colab_type": "code",
        "colab": {
          "autoexec": {
            "startup": false,
            "wait_interval": 0
          }
        }
      },
      "cell_type": "code",
      "source": [
        "X_test_new=np.reshape(X_test_new, (len(X_test_new),1,28,28))\n",
        "X_rejet_new=np.reshape(X_rejet_new, (len(X_rejet_new),1,28,28))\n",
        "Y_test_new=np.array(Y_test_new)\n",
        "Y_rejet_new=np.array(Y_rejet_new)\n"
      ],
      "execution_count": 0,
      "outputs": []
    },
    {
      "metadata": {
        "id": "JkHXEtaUwQWd",
        "colab_type": "code",
        "colab": {
          "autoexec": {
            "startup": false,
            "wait_interval": 0
          },
          "base_uri": "https://localhost:8080/",
          "height": 238
        },
        "outputId": "daf8d79c-f139-4efa-c7fd-7b61d7777b32",
        "executionInfo": {
          "status": "ok",
          "timestamp": 1526420710645,
          "user_tz": -120,
          "elapsed": 1977,
          "user": {
            "displayName": "nourhene chaalia",
            "photoUrl": "https://lh3.googleusercontent.com/a/default-user=s128",
            "userId": "100626486300945214800"
          }
        }
      },
      "cell_type": "code",
      "source": [
        "Y_final=model.predict(X_test_new)\n",
        "Y_final=pd.DataFrame(Y_final)\n",
        "Y_final['label']=Y_final.idxmax(axis=1)\n",
        "Y_final['label_true']=Y_test_new\n",
        "Y_final['difference']=Y_final.label-Y_final.label_true\n",
        "Y_final.difference.value_counts()"
      ],
      "execution_count": 278,
      "outputs": [
        {
          "output_type": "execute_result",
          "data": {
            "text/plain": [
              " 0    9758\n",
              "-5      13\n",
              "-2       6\n",
              " 5       5\n",
              "-1       4\n",
              " 2       4\n",
              "-4       3\n",
              "-6       3\n",
              " 1       3\n",
              " 6       1\n",
              " 4       1\n",
              "-8       1\n",
              "Name: difference, dtype: int64"
            ]
          },
          "metadata": {
            "tags": []
          },
          "execution_count": 278
        }
      ]
    },
    {
      "metadata": {
        "id": "fso0C-b_xAYA",
        "colab_type": "code",
        "colab": {
          "autoexec": {
            "startup": false,
            "wait_interval": 0
          },
          "base_uri": "https://localhost:8080/",
          "height": 170
        },
        "outputId": "08b99cac-e670-4f53-e85a-ab8df0b2ea5b",
        "executionInfo": {
          "status": "ok",
          "timestamp": 1526420747049,
          "user_tz": -120,
          "elapsed": 509,
          "user": {
            "displayName": "nourhene chaalia",
            "photoUrl": "https://lh3.googleusercontent.com/a/default-user=s128",
            "userId": "100626486300945214800"
          }
        }
      },
      "cell_type": "code",
      "source": [
        "Y_final.difference.describe()"
      ],
      "execution_count": 279,
      "outputs": [
        {
          "output_type": "execute_result",
          "data": {
            "text/plain": [
              "count    9802.000000\n",
              "mean       -0.007447\n",
              "std         0.280011\n",
              "min        -8.000000\n",
              "25%         0.000000\n",
              "50%         0.000000\n",
              "75%         0.000000\n",
              "max         6.000000\n",
              "Name: difference, dtype: float64"
            ]
          },
          "metadata": {
            "tags": []
          },
          "execution_count": 279
        }
      ]
    },
    {
      "metadata": {
        "id": "olw89WtYw5zA",
        "colab_type": "code",
        "colab": {
          "autoexec": {
            "startup": false,
            "wait_interval": 0
          },
          "base_uri": "https://localhost:8080/",
          "height": 34
        },
        "outputId": "ee2c2898-83a4-4150-f9a7-dc999cab69a7",
        "executionInfo": {
          "status": "ok",
          "timestamp": 1526420755231,
          "user_tz": -120,
          "elapsed": 616,
          "user": {
            "displayName": "nourhene chaalia",
            "photoUrl": "https://lh3.googleusercontent.com/a/default-user=s128",
            "userId": "100626486300945214800"
          }
        }
      },
      "cell_type": "code",
      "source": [
        "9758./9802"
      ],
      "execution_count": 280,
      "outputs": [
        {
          "output_type": "execute_result",
          "data": {
            "text/plain": [
              "0.9955111201795552"
            ]
          },
          "metadata": {
            "tags": []
          },
          "execution_count": 280
        }
      ]
    },
    {
      "metadata": {
        "id": "D38iboQrxFBA",
        "colab_type": "code",
        "colab": {
          "autoexec": {
            "startup": false,
            "wait_interval": 0
          },
          "base_uri": "https://localhost:8080/",
          "height": 119
        },
        "outputId": "21b9545f-8bca-40ec-a3f6-5eb7ddacec62",
        "executionInfo": {
          "status": "ok",
          "timestamp": 1526420781261,
          "user_tz": -120,
          "elapsed": 529,
          "user": {
            "displayName": "nourhene chaalia",
            "photoUrl": "https://lh3.googleusercontent.com/a/default-user=s128",
            "userId": "100626486300945214800"
          }
        }
      },
      "cell_type": "code",
      "source": [
        "Y_rej=model.predict(X_rejet_new)\n",
        "Y_rej=pd.DataFrame(Y_rej)\n",
        "Y_rej['label']=Y_rej.idxmax(axis=1)\n",
        "Y_rej['label_true']=Y_rejet_new\n",
        "Y_rej['difference']=Y_rej.label-Y_rej.label_true\n",
        "Y_rej.difference.value_counts()"
      ],
      "execution_count": 281,
      "outputs": [
        {
          "output_type": "execute_result",
          "data": {
            "text/plain": [
              " 0    191\n",
              "-6      3\n",
              "-2      2\n",
              " 7      1\n",
              " 2      1\n",
              "Name: difference, dtype: int64"
            ]
          },
          "metadata": {
            "tags": []
          },
          "execution_count": 281
        }
      ]
    },
    {
      "metadata": {
        "id": "bxGh1WskxLZP",
        "colab_type": "code",
        "colab": {
          "autoexec": {
            "startup": false,
            "wait_interval": 0
          }
        }
      },
      "cell_type": "code",
      "source": [
        ""
      ],
      "execution_count": 0,
      "outputs": []
    }
  ]
}